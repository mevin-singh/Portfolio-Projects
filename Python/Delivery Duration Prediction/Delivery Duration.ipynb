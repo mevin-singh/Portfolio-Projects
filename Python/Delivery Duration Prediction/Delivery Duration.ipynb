{
 "cells": [
  {
   "cell_type": "markdown",
   "metadata": {},
   "source": [
    "### Importing Relevant Packages"
   ]
  },
  {
   "cell_type": "code",
   "execution_count": 1,
   "metadata": {},
   "outputs": [],
   "source": [
    "import pandas as pd\n",
    "import numpy as np\n",
    "import seaborn as sns\n",
    "import matplotlib.pyplot as plt\n",
    "from itertools import product\n",
    "from scipy.stats import chi2_contingency\n",
    "\n",
    "from sklearn.cluster import KMeans\n",
    "from sklearn.preprocessing import StandardScaler\n",
    "\n",
    "from math import radians, sin, cos, sqrt, atan2\n"
   ]
  },
  {
   "cell_type": "markdown",
   "metadata": {},
   "source": [
    "## Data Cleaning"
   ]
  },
  {
   "cell_type": "code",
   "execution_count": 2,
   "metadata": {},
   "outputs": [],
   "source": [
    "# importing data\n",
    "data = pd.read_csv('full.csv')"
   ]
  },
  {
   "cell_type": "code",
   "execution_count": 3,
   "metadata": {},
   "outputs": [
    {
     "name": "stdout",
     "output_type": "stream",
     "text": [
      "Number of initial rows: 45593\n",
      "Number of initial columns: 20\n"
     ]
    }
   ],
   "source": [
    "# counting the initial number rows and columns\n",
    "initial_rows = data.shape[0]\n",
    "initial_columns = data.shape[1]\n",
    "\n",
    "print(f'Number of initial rows: {initial_rows}')\n",
    "print(f'Number of initial columns: {initial_columns}')"
   ]
  },
  {
   "cell_type": "code",
   "execution_count": 4,
   "metadata": {},
   "outputs": [
    {
     "data": {
      "text/plain": [
       "ID                             0\n",
       "Delivery_person_ID             0\n",
       "Delivery_person_Age            0\n",
       "Delivery_person_Ratings        0\n",
       "Restaurant_latitude            0\n",
       "Restaurant_longitude           0\n",
       "Delivery_location_latitude     0\n",
       "Delivery_location_longitude    0\n",
       "Order_Date                     0\n",
       "Time_Orderd                    0\n",
       "Time_Order_picked              0\n",
       "Weatherconditions              0\n",
       "Road_traffic_density           0\n",
       "Vehicle_condition              0\n",
       "Type_of_order                  0\n",
       "Type_of_vehicle                0\n",
       "multiple_deliveries            0\n",
       "Festival                       0\n",
       "City                           0\n",
       "Time_taken(min)                0\n",
       "dtype: int64"
      ]
     },
     "execution_count": 4,
     "metadata": {},
     "output_type": "execute_result"
    }
   ],
   "source": [
    "# checking the number of nulls\n",
    "data.isnull().sum()"
   ]
  },
  {
   "cell_type": "code",
   "execution_count": 5,
   "metadata": {},
   "outputs": [
    {
     "data": {
      "text/plain": [
       "multiple_deliveries\n",
       "1       28159\n",
       "0       14095\n",
       "2        1985\n",
       "NaN       993\n",
       "3         361\n",
       "Name: count, dtype: int64"
      ]
     },
     "execution_count": 5,
     "metadata": {},
     "output_type": "execute_result"
    }
   ],
   "source": [
    "# checking for actual nulls\n",
    "data['multiple_deliveries'].value_counts()"
   ]
  },
  {
   "cell_type": "markdown",
   "metadata": {},
   "source": [
    "There are null values but they are indicated as the string \"NaN \""
   ]
  },
  {
   "cell_type": "code",
   "execution_count": 6,
   "metadata": {},
   "outputs": [],
   "source": [
    "# replace all NaN strings with actual nulls\n",
    "data.replace('NaN ', np.nan, inplace = True)"
   ]
  },
  {
   "cell_type": "code",
   "execution_count": 7,
   "metadata": {},
   "outputs": [
    {
     "data": {
      "text/plain": [
       "ID                                0\n",
       "Delivery_person_ID                0\n",
       "Delivery_person_Age            1854\n",
       "Delivery_person_Ratings        1908\n",
       "Restaurant_latitude               0\n",
       "Restaurant_longitude              0\n",
       "Delivery_location_latitude        0\n",
       "Delivery_location_longitude       0\n",
       "Order_Date                        0\n",
       "Time_Orderd                    1731\n",
       "Time_Order_picked                 0\n",
       "Weatherconditions                 0\n",
       "Road_traffic_density            601\n",
       "Vehicle_condition                 0\n",
       "Type_of_order                     0\n",
       "Type_of_vehicle                   0\n",
       "multiple_deliveries             993\n",
       "Festival                        228\n",
       "City                           1200\n",
       "Time_taken(min)                   0\n",
       "dtype: int64"
      ]
     },
     "execution_count": 7,
     "metadata": {},
     "output_type": "execute_result"
    }
   ],
   "source": [
    "# checking for nulls again\n",
    "data.isnull().sum()"
   ]
  },
  {
   "cell_type": "code",
   "execution_count": 8,
   "metadata": {},
   "outputs": [],
   "source": [
    "# dropping all nulls\n",
    "data = data.dropna()"
   ]
  },
  {
   "cell_type": "code",
   "execution_count": 9,
   "metadata": {},
   "outputs": [
    {
     "data": {
      "text/plain": [
       "ID                              object\n",
       "Delivery_person_ID              object\n",
       "Delivery_person_Age             object\n",
       "Delivery_person_Ratings         object\n",
       "Restaurant_latitude            float64\n",
       "Restaurant_longitude           float64\n",
       "Delivery_location_latitude     float64\n",
       "Delivery_location_longitude    float64\n",
       "Order_Date                      object\n",
       "Time_Orderd                     object\n",
       "Time_Order_picked               object\n",
       "Weatherconditions               object\n",
       "Road_traffic_density            object\n",
       "Vehicle_condition                int64\n",
       "Type_of_order                   object\n",
       "Type_of_vehicle                 object\n",
       "multiple_deliveries             object\n",
       "Festival                        object\n",
       "City                            object\n",
       "Time_taken(min)                 object\n",
       "dtype: object"
      ]
     },
     "execution_count": 9,
     "metadata": {},
     "output_type": "execute_result"
    }
   ],
   "source": [
    "# checking the data types of each column\n",
    "data.dtypes"
   ]
  },
  {
   "cell_type": "code",
   "execution_count": 10,
   "metadata": {},
   "outputs": [],
   "source": [
    "# changing the data type of Delivery_person_Age and Delivery_person_Ratings\n",
    "data['Delivery_person_Age'] = data['Delivery_person_Age'].astype('float64')\n",
    "data['Delivery_person_Ratings'] = data['Delivery_person_Ratings'].astype('float64')\n"
   ]
  },
  {
   "cell_type": "code",
   "execution_count": 11,
   "metadata": {},
   "outputs": [],
   "source": [
    "# converting Order_Date into datetime\n",
    "data['Order_Date'] = pd.to_datetime(data['Order_Date'], format='%d-%m-%Y')\n",
    "\n",
    "# converting Time_Orderd and Time_Order_picked into time\n",
    "data['Time_Orderd'] = pd.to_datetime(data['Time_Orderd'], format='%H:%M:%S')\n",
    "data['Time_Orderd_hour'] = data['Time_Orderd'].dt.hour\n",
    "\n",
    "data['Time_Order_picked'] = pd.to_datetime(data['Time_Order_picked'], format='%H:%M:%S')\n",
    "data['Time_Order_picked_hour'] = data['Time_Order_picked'].dt.hour"
   ]
  },
  {
   "cell_type": "code",
   "execution_count": 12,
   "metadata": {},
   "outputs": [],
   "source": [
    "# classifying Time_Orderd and Time_Order_picked into Morning, Afternoon and Evening\n",
    "data['Time_of_Day_Orderd'] = pd.cut(data['Time_Orderd_hour'], bins=[0, 12, 18, 24], labels=['Morning', 'Afternoon', 'Evening'])\n",
    "data['Time_of_Day_picked'] = pd.cut(data['Time_Order_picked_hour'], bins=[0, 12, 18, 24], labels=['Morning', 'Afternoon', 'Evening'])\n",
    "\n",
    "# changing to object data type\n",
    "data['Time_of_Day_Orderd'] = data['Time_of_Day_Orderd'].astype('object')\n",
    "data['Time_of_Day_picked'] = data['Time_of_Day_picked'].astype('object')\n"
   ]
  },
  {
   "cell_type": "code",
   "execution_count": 13,
   "metadata": {},
   "outputs": [],
   "source": [
    "# drop the unneccesary columns\n",
    "data = data.drop(['Order_Date', 'Time_Orderd', 'Time_Orderd_hour', 'Time_Order_picked', 'Time_Order_picked_hour'], axis = 1)\n",
    "\n",
    "# drop any nulls\n",
    "data = data.dropna()"
   ]
  },
  {
   "cell_type": "markdown",
   "metadata": {},
   "source": [
    "### Getting Distance Betweeen Restaurant and Delivery Location using Latitude and Longitude data"
   ]
  },
  {
   "cell_type": "code",
   "execution_count": 14,
   "metadata": {},
   "outputs": [],
   "source": [
    "# defining a function to caluclate distance between 2 points using Lat and Long data\n",
    "# using haversine formula\n",
    "# distance is in km\n",
    "\n",
    "def haversine(lat1, lon1, lat2, lon2):\n",
    "    R = 6371  # radius of the earth in km\n",
    "    lat1, lon1, lat2, lon2 = map(radians, [lat1, lon1, lat2, lon2])\n",
    "    dlat = lat2 - lat1\n",
    "    dlon = lon2 - lon1\n",
    "    a = sin(dlat/2)**2 + cos(lat1) * cos(lat2) * sin(dlon/2)**2\n",
    "    c = 2 * atan2(sqrt(a), sqrt(1-a))\n",
    "    distance = R * c\n",
    "    return round(distance, 5)"
   ]
  },
  {
   "cell_type": "code",
   "execution_count": 15,
   "metadata": {},
   "outputs": [],
   "source": [
    "# using the function to calculate the distance\n",
    "data['Distance'] = data.apply(lambda row: haversine(row['Restaurant_latitude'], row['Restaurant_longitude'], row['Delivery_location_latitude'], row['Delivery_location_longitude']), axis=1)"
   ]
  },
  {
   "cell_type": "markdown",
   "metadata": {},
   "source": [
    "### Using KMeans Clustering Algorithm to cluster latitude and longitude together"
   ]
  },
  {
   "cell_type": "code",
   "execution_count": 16,
   "metadata": {},
   "outputs": [],
   "source": [
    "restaurant = data[['Restaurant_latitude', 'Restaurant_longitude']]\n",
    "delivery = data[['Delivery_location_latitude', 'Delivery_location_longitude']]"
   ]
  },
  {
   "cell_type": "code",
   "execution_count": 17,
   "metadata": {},
   "outputs": [],
   "source": [
    "# specifying my own clusters\n",
    "# each lat and long pair will be classified as North, South, East, West\n",
    "# each lat and long pairs are in the center of the region\n",
    "\n",
    "cluster_centers = np.array([[29.400000, 77.200000], [11.100000, 78.700000], [22.800000, 86.100000], [21.200000, 72.800000]])"
   ]
  },
  {
   "cell_type": "code",
   "execution_count": 18,
   "metadata": {},
   "outputs": [],
   "source": [
    "kmeans_delivery = KMeans(n_clusters = 4, init = cluster_centers, n_init = 1, max_iter = 500, random_state = 42).fit(delivery)\n",
    "kmeans_restaurant = KMeans(n_clusters = 4, init = cluster_centers, n_init = 1, max_iter = 500, random_state = 42).fit(restaurant)\n",
    "\n",
    "data['Delivery_Cluster'] = kmeans_delivery.labels_\n",
    "data['Restaurant_Cluster'] = kmeans_restaurant.labels_\n",
    "\n",
    "# changing data type\n",
    "data['Delivery_Cluster'] = data['Delivery_Cluster'].astype('object')\n",
    "data['Restaurant_Cluster'] = data['Restaurant_Cluster'].astype('object')"
   ]
  },
  {
   "cell_type": "code",
   "execution_count": 19,
   "metadata": {},
   "outputs": [],
   "source": [
    "# mapping the clusters into North, South, East, West\n",
    "location_map = {0: 'North', 1: 'South', 2: 'East', 3: 'West'}\n",
    "\n",
    "# apply the mapping to the column\n",
    "data['Delivery_Cluster'] = data['Delivery_Cluster'].map(location_map)\n",
    "data['Restaurant_Cluster'] = data['Restaurant_Cluster'].map(location_map)"
   ]
  },
  {
   "cell_type": "code",
   "execution_count": 20,
   "metadata": {},
   "outputs": [],
   "source": [
    "# extracting only weather conditions from Weatherconditions\n",
    "words = data['Weatherconditions'].str.split()\n",
    "conditions = words.str[1] \n",
    "\n",
    "data['Weatherconditions'] = conditions"
   ]
  },
  {
   "cell_type": "code",
   "execution_count": 21,
   "metadata": {},
   "outputs": [],
   "source": [
    "# extracting only the mins value from time taken column\n",
    "words_ = data['Time_taken(min)'].str.split()\n",
    "time_taken = words_.str[1]\n",
    "\n",
    "data['Time_taken_mins'] = time_taken\n",
    "data['Time_taken_mins'] = data['Time_taken_mins'].astype('float64')"
   ]
  },
  {
   "cell_type": "code",
   "execution_count": 22,
   "metadata": {},
   "outputs": [],
   "source": [
    "# mapping vehicle condition to its conditions\n",
    "condition_map = {0: 'Below Average', 1: 'Average', 2: 'Good'}\n",
    "\n",
    "# Apply the mapping to the column\n",
    "data['Vehicle_condition'] = data['Vehicle_condition'].map(condition_map)"
   ]
  },
  {
   "cell_type": "code",
   "execution_count": 23,
   "metadata": {},
   "outputs": [],
   "source": [
    "# dropping unneccesary columns\n",
    "\"\"\"\n",
    "Reasons for dropping columns:\n",
    "(1) index, ID and Delivery_person_ID is not needed in the model\n",
    "(2) Restaurant and Delivery Location Lat and Long data is used to calculate distance \n",
    "(3) Time_taken (min) is replaced my Time_taken_mins\n",
    "(4) Restaurant cluster and Delivery location cluster mostly are the same in the dataset (excluding outliers)\n",
    "(5) Time_of_Day_picked is mostly the same as Time_of_Day_orderd\n",
    "(6) Festival and City do not have much meaning in this dataset \n",
    "(7) Multiple deliveries is slightly confusing\n",
    "\n",
    "\"\"\"\n",
    "data = data.reset_index().drop(['index', 'ID', 'Delivery_person_ID', 'Restaurant_latitude', 'Restaurant_longitude', 'Delivery_location_latitude', 'Delivery_location_longitude', 'Time_taken(min)', 'Restaurant_Cluster', 'Time_of_Day_picked', 'Festival', 'City', 'multiple_deliveries'], axis = 1)"
   ]
  },
  {
   "cell_type": "code",
   "execution_count": 24,
   "metadata": {},
   "outputs": [],
   "source": [
    "# changing delivery ratings to satisfaction_percentage\n",
    "data['Delivery_person_Ratings'] = (data['Delivery_person_Ratings']/5) * 100"
   ]
  },
  {
   "cell_type": "code",
   "execution_count": 25,
   "metadata": {},
   "outputs": [],
   "source": [
    "# rename Delivery_person_Ratings to Satisfaction_Perc and Delivery_Cluster to Region\n",
    "data = data.rename(columns={'Delivery_person_Ratings': 'Satisfaction_Perc', 'Delivery_Cluster': 'Region'})"
   ]
  },
  {
   "cell_type": "code",
   "execution_count": 26,
   "metadata": {},
   "outputs": [
    {
     "name": "stdout",
     "output_type": "stream",
     "text": [
      "Number of final rows: 40197\n",
      "Number of final columns: 11\n"
     ]
    }
   ],
   "source": [
    "# checking end number of rows and columns\n",
    "end_rows = data.shape[0]\n",
    "end_columns = data.shape[1]\n",
    "\n",
    "print(f'Number of final rows: {end_rows}')\n",
    "print(f'Number of final columns: {end_columns}')"
   ]
  },
  {
   "cell_type": "markdown",
   "metadata": {},
   "source": [
    "## Explaratory Data Analysis"
   ]
  },
  {
   "cell_type": "code",
   "execution_count": 31,
   "metadata": {},
   "outputs": [
    {
     "data": {
      "text/plain": [
       "Delivery_person_Age     float64\n",
       "Satisfaction_Perc       float64\n",
       "Weatherconditions        object\n",
       "Road_traffic_density     object\n",
       "Vehicle_condition        object\n",
       "Type_of_order            object\n",
       "Type_of_vehicle          object\n",
       "Time_of_Day_Orderd       object\n",
       "Distance                float64\n",
       "Region                   object\n",
       "Time_taken_mins         float64\n",
       "dtype: object"
      ]
     },
     "execution_count": 31,
     "metadata": {},
     "output_type": "execute_result"
    }
   ],
   "source": [
    "data.dtypes"
   ]
  },
  {
   "cell_type": "code",
   "execution_count": 32,
   "metadata": {},
   "outputs": [
    {
     "data": {
      "image/png": "[encoded data removed]",
      "text/plain": [
       "<Figure size 800x800 with 2 Axes>"
      ]
     },
     "metadata": {},
     "output_type": "display_data"
    }
   ],
   "source": [
    "# plotting the correlation matrix to explore relationships between numerical variables\n",
    "# select the numerical columns\n",
    "numeric = data[['Delivery_person_Age', 'Satisfaction_Perc', 'Distance']]\n",
    "\n",
    "# scaling data for easier comparison\n",
    "scaler = StandardScaler()\n",
    "numeric = scaler.fit_transform(numeric)\n",
    "\n",
    "# convert the scaled numerical columns back to a pandas DataFrame\n",
    "numeric = pd.DataFrame(numeric, columns=['Delivery_person_Age', 'Satisfaction_Perc', 'Distance'])\n",
    "\n",
    "# plot heat map\n",
    "plt.figure(figsize = (8,8))\n",
    "sns.heatmap(numeric.corr(), cbar = True, annot = True, cmap = 'Blues')\n",
    "plt.show()"
   ]
  },
  {
   "cell_type": "code",
   "execution_count": 33,
   "metadata": {},
   "outputs": [
    {
     "name": "stdout",
     "output_type": "stream",
     "text": [
      "Cramér's V for Road_traffic_density and Time_of_Day_Orderd: 0.7742651711977193\n",
      "Cramér's V for Vehicle_condition and Type_of_vehicle: 0.4979389093381019\n",
      "Cramér's V for Type_of_vehicle and Region: 0.01050935699748268\n"
     ]
    }
   ],
   "source": [
    "cat_var = data[['Weatherconditions', 'Road_traffic_density', 'Vehicle_condition', 'Type_of_order', 'Type_of_vehicle', 'Time_of_Day_Orderd', 'Region']]\n",
    "\n",
    "# create a list of variable pairs\n",
    "variable_pairs = [(x, y) for i, x in enumerate(cat_var.columns) for j, y in enumerate(cat_var.columns) if i < j]\n",
    "\n",
    "# create empty lists for independent and dependent variables\n",
    "independent_vars = []\n",
    "dependent_vars = []\n",
    "\n",
    "# loop through each variable pair\n",
    "for pair in variable_pairs:\n",
    "    # create a contingency table\n",
    "    contingency_table = pd.crosstab(cat_var[pair[0]], cat_var[pair[1]])\n",
    "    \n",
    "    # calculate the chi-squared test statistic, p-value, degrees of freedom, and expected table\n",
    "    chi2_stat, p_val, dof, expected_table = chi2_contingency(contingency_table)\n",
    "    \n",
    "    # compare the obtained p-value with the significance level of 0.05\n",
    "    if p_val <= 0.05:\n",
    "        dependent_vars.append(pair)\n",
    "    else:\n",
    "        independent_vars.append(pair)\n",
    "\n",
    "# calculate Cramér's V for dependent variable pairs\n",
    "# Cramér's V calculates the association between 2 categorical variables\n",
    "\n",
    "for pair in dependent_vars:\n",
    "    contingency_table = pd.crosstab(cat_var[pair[0]], cat_var[pair[1]])\n",
    "    chi2_stat, p_val, dof, expected_table = chi2_contingency(contingency_table)\n",
    "    n = contingency_table.sum().sum()\n",
    "    phi2 = chi2_stat / n\n",
    "    r, k = contingency_table.shape\n",
    "    phi2corr = max(0, phi2 - ((k-1)*(r-1))/(n-1))\n",
    "    rcorr = r - ((r-1)**2)/(n-1)\n",
    "    kcorr = k - ((k-1)**2)/(n-1)\n",
    "    cramers_v = np.sqrt(phi2corr / min((kcorr-1), (rcorr-1)))\n",
    "    print(f\"Cramér's V for {pair[0]} and {pair[1]}: {cramers_v}\")"
   ]
  },
  {
   "cell_type": "code",
   "execution_count": 34,
   "metadata": {},
   "outputs": [],
   "source": [
    "nominal_variables = ['Weatherconditions', 'Type_of_Order', 'Type_of_vehicle', 'Region']\n",
    "ordinal_variables = ['Road_traffic_density', 'Vehicle_condition', 'Time_of_Day_Orderd']\n",
    "\n"
   ]
  },
  {
   "cell_type": "code",
   "execution_count": null,
   "metadata": {},
   "outputs": [],
   "source": []
  }
 ],
 "metadata": {
  "kernelspec": {
   "display_name": "Python 3",
   "language": "python",
   "name": "python3"
  },
  "language_info": {
   "codemirror_mode": {
    "name": "ipython",
    "version": 3
   },
   "file_extension": ".py",
   "mimetype": "text/x-python",
   "name": "python",
   "nbconvert_exporter": "python",
   "pygments_lexer": "ipython3",
   "version": "3.12.0"
  },
  "orig_nbformat": 4
 },
 "nbformat": 4,
 "nbformat_minor": 2
}
