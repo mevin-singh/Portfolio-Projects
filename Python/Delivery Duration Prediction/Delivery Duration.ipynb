{
 "cells": [
  {
   "cell_type": "markdown",
   "metadata": {},
   "source": [
    "# **Delivery Duration Prediction**\n"
   ]
  },
  {
   "cell_type": "markdown",
   "metadata": {},
   "source": [
    "## Summary\n",
    "\n",
    "This project aims to find out and investigate the relevant factors that can affect food delivery duration. Since this is a regression tasks, regression models such as Multiple Linear Regression, Random Forest Regression, Gradient Boosting Regression and Neural Network Regression will be used.\n",
    "\n",
    "By first carrying out some data cleaning and preprocessing before building the models, we will see which of the aforementioned models are the best to describe this dataset. We would also see which are the features that are the most important/relevant in explaining the delivery duration."
   ]
  },
  {
   "cell_type": "markdown",
   "metadata": {},
   "source": [
    "## Importing Relevant Packages"
   ]
  },
  {
   "cell_type": "code",
   "execution_count": 102,
   "metadata": {},
   "outputs": [],
   "source": [
    "import pandas as pd\n",
    "import numpy as np\n",
    "import seaborn as sns\n",
    "import matplotlib.pyplot as plt\n",
    "from itertools import product\n",
    "from scipy.stats import chi2_contingency\n",
    "\n",
    "from sklearn.cluster import KMeans\n",
    "from sklearn.preprocessing import StandardScaler\n",
    "from sklearn.preprocessing import OneHotEncoder\n",
    "from sklearn.compose import ColumnTransformer\n",
    "from sklearn.model_selection import train_test_split, cross_validate, GridSearchCV\n",
    "from sklearn.linear_model import LinearRegression\n",
    "from sklearn.ensemble import RandomForestRegressor, GradientBoostingRegressor\n",
    "from sklearn.neural_network import MLPRegressor\n",
    "from sklearn.inspection import permutation_importance\n",
    "from sklearn.pipeline import Pipeline\n",
    "from sklearn.metrics import r2_score, mean_squared_error, mean_absolute_error\n",
    "\n",
    "import statsmodels.api as sm\n",
    "\n",
    "from math import radians, sin, cos, sqrt, atan2\n",
    "\n",
    "import re\n"
   ]
  },
  {
   "cell_type": "markdown",
   "metadata": {},
   "source": [
    "## Data Cleaning"
   ]
  },
  {
   "cell_type": "code",
   "execution_count": 5,
   "metadata": {},
   "outputs": [],
   "source": [
    "# importing data\n",
    "data = pd.read_csv('full.csv')"
   ]
  },
  {
   "cell_type": "code",
   "execution_count": 6,
   "metadata": {},
   "outputs": [
    {
     "name": "stdout",
     "output_type": "stream",
     "text": [
      "Number of initial rows: 45593\n",
      "Number of initial columns: 20\n"
     ]
    }
   ],
   "source": [
    "# counting the initial number rows and columns\n",
    "initial_rows = data.shape[0]\n",
    "initial_columns = data.shape[1]\n",
    "\n",
    "print(f'Number of initial rows: {initial_rows}')\n",
    "print(f'Number of initial columns: {initial_columns}')"
   ]
  },
  {
   "cell_type": "code",
   "execution_count": 7,
   "metadata": {},
   "outputs": [
    {
     "data": {
      "text/plain": [
       "ID                             0\n",
       "Delivery_person_ID             0\n",
       "Delivery_person_Age            0\n",
       "Delivery_person_Ratings        0\n",
       "Restaurant_latitude            0\n",
       "Restaurant_longitude           0\n",
       "Delivery_location_latitude     0\n",
       "Delivery_location_longitude    0\n",
       "Order_Date                     0\n",
       "Time_Orderd                    0\n",
       "Time_Order_picked              0\n",
       "Weatherconditions              0\n",
       "Road_traffic_density           0\n",
       "Vehicle_condition              0\n",
       "Type_of_order                  0\n",
       "Type_of_vehicle                0\n",
       "multiple_deliveries            0\n",
       "Festival                       0\n",
       "City                           0\n",
       "Time_taken(min)                0\n",
       "dtype: int64"
      ]
     },
     "execution_count": 7,
     "metadata": {},
     "output_type": "execute_result"
    }
   ],
   "source": [
    "# checking the number of nulls\n",
    "data.isnull().sum()"
   ]
  },
  {
   "cell_type": "code",
   "execution_count": 8,
   "metadata": {},
   "outputs": [
    {
     "data": {
      "text/plain": [
       "multiple_deliveries\n",
       "1       28159\n",
       "0       14095\n",
       "2        1985\n",
       "NaN       993\n",
       "3         361\n",
       "Name: count, dtype: int64"
      ]
     },
     "execution_count": 8,
     "metadata": {},
     "output_type": "execute_result"
    }
   ],
   "source": [
    "# checking for actual nulls\n",
    "data['multiple_deliveries'].value_counts()"
   ]
  },
  {
   "cell_type": "markdown",
   "metadata": {},
   "source": [
    "There are null values but they are indicated as the string \"NaN \""
   ]
  },
  {
   "cell_type": "code",
   "execution_count": 9,
   "metadata": {},
   "outputs": [],
   "source": [
    "# replace all NaN strings with actual nulls\n",
    "data.replace('NaN ', np.nan, inplace = True)"
   ]
  },
  {
   "cell_type": "code",
   "execution_count": 10,
   "metadata": {},
   "outputs": [
    {
     "data": {
      "text/plain": [
       "ID                                0\n",
       "Delivery_person_ID                0\n",
       "Delivery_person_Age            1854\n",
       "Delivery_person_Ratings        1908\n",
       "Restaurant_latitude               0\n",
       "Restaurant_longitude              0\n",
       "Delivery_location_latitude        0\n",
       "Delivery_location_longitude       0\n",
       "Order_Date                        0\n",
       "Time_Orderd                    1731\n",
       "Time_Order_picked                 0\n",
       "Weatherconditions                 0\n",
       "Road_traffic_density            601\n",
       "Vehicle_condition                 0\n",
       "Type_of_order                     0\n",
       "Type_of_vehicle                   0\n",
       "multiple_deliveries             993\n",
       "Festival                        228\n",
       "City                           1200\n",
       "Time_taken(min)                   0\n",
       "dtype: int64"
      ]
     },
     "execution_count": 10,
     "metadata": {},
     "output_type": "execute_result"
    }
   ],
   "source": [
    "# checking for nulls again\n",
    "data.isnull().sum()"
   ]
  },
  {
   "cell_type": "code",
   "execution_count": 11,
   "metadata": {},
   "outputs": [],
   "source": [
    "# dropping all nulls\n",
    "data = data.dropna()"
   ]
  },
  {
   "cell_type": "code",
   "execution_count": 12,
   "metadata": {},
   "outputs": [
    {
     "data": {
      "text/plain": [
       "ID                              object\n",
       "Delivery_person_ID              object\n",
       "Delivery_person_Age             object\n",
       "Delivery_person_Ratings         object\n",
       "Restaurant_latitude            float64\n",
       "Restaurant_longitude           float64\n",
       "Delivery_location_latitude     float64\n",
       "Delivery_location_longitude    float64\n",
       "Order_Date                      object\n",
       "Time_Orderd                     object\n",
       "Time_Order_picked               object\n",
       "Weatherconditions               object\n",
       "Road_traffic_density            object\n",
       "Vehicle_condition                int64\n",
       "Type_of_order                   object\n",
       "Type_of_vehicle                 object\n",
       "multiple_deliveries             object\n",
       "Festival                        object\n",
       "City                            object\n",
       "Time_taken(min)                 object\n",
       "dtype: object"
      ]
     },
     "execution_count": 12,
     "metadata": {},
     "output_type": "execute_result"
    }
   ],
   "source": [
    "# checking the data types of each column\n",
    "data.dtypes"
   ]
  },
  {
   "cell_type": "code",
   "execution_count": 13,
   "metadata": {},
   "outputs": [],
   "source": [
    "# changing the data type of Delivery_person_Age and Delivery_person_Ratings\n",
    "data['Delivery_person_Age'] = data['Delivery_person_Age'].astype('float64')\n",
    "data['Delivery_person_Ratings'] = data['Delivery_person_Ratings'].astype('float64')\n"
   ]
  },
  {
   "cell_type": "code",
   "execution_count": 14,
   "metadata": {},
   "outputs": [],
   "source": [
    "# converting Order_Date into datetime\n",
    "data['Order_Date'] = pd.to_datetime(data['Order_Date'], format='%d-%m-%Y')\n",
    "\n",
    "# converting Time_Orderd and Time_Order_picked into time\n",
    "data['Time_Orderd'] = pd.to_datetime(data['Time_Orderd'], format='%H:%M:%S')\n",
    "data['Time_Orderd_hour'] = data['Time_Orderd'].dt.hour\n",
    "\n",
    "data['Time_Order_picked'] = pd.to_datetime(data['Time_Order_picked'], format='%H:%M:%S')\n",
    "data['Time_Order_picked_hour'] = data['Time_Order_picked'].dt.hour"
   ]
  },
  {
   "cell_type": "code",
   "execution_count": 15,
   "metadata": {},
   "outputs": [],
   "source": [
    "# classifying Time_Orderd and Time_Order_picked into Morning, Afternoon and Evening\n",
    "data['Time_of_Day_Orderd'] = pd.cut(data['Time_Orderd_hour'], bins=[0, 12, 18, 24], labels=['Morning', 'Afternoon', 'Evening'])\n",
    "data['Time_of_Day_picked'] = pd.cut(data['Time_Order_picked_hour'], bins=[0, 12, 18, 24], labels=['Morning', 'Afternoon', 'Evening'])\n",
    "\n",
    "# changing to object data type\n",
    "data['Time_of_Day_Orderd'] = data['Time_of_Day_Orderd'].astype('object')\n",
    "data['Time_of_Day_picked'] = data['Time_of_Day_picked'].astype('object')\n"
   ]
  },
  {
   "cell_type": "code",
   "execution_count": 16,
   "metadata": {},
   "outputs": [],
   "source": [
    "# drop the unneccesary columns\n",
    "data = data.drop(['Order_Date', 'Time_Orderd', 'Time_Orderd_hour', 'Time_Order_picked', 'Time_Order_picked_hour'], axis = 1)\n",
    "\n",
    "# drop any nulls\n",
    "data = data.dropna()"
   ]
  },
  {
   "cell_type": "markdown",
   "metadata": {},
   "source": [
    "### Getting Distance Betweeen Restaurant and Delivery Location using Latitude and Longitude data"
   ]
  },
  {
   "cell_type": "code",
   "execution_count": 17,
   "metadata": {},
   "outputs": [],
   "source": [
    "# defining a function to caluclate distance between 2 points using Lat and Long data\n",
    "# using haversine formula\n",
    "# distance is in km\n",
    "\n",
    "def haversine(lat1, lon1, lat2, lon2):\n",
    "    R = 6371  # radius of the earth in km\n",
    "    lat1, lon1, lat2, lon2 = map(radians, [lat1, lon1, lat2, lon2])\n",
    "    dlat = lat2 - lat1\n",
    "    dlon = lon2 - lon1\n",
    "    a = sin(dlat/2)**2 + cos(lat1) * cos(lat2) * sin(dlon/2)**2\n",
    "    c = 2 * atan2(sqrt(a), sqrt(1-a))\n",
    "    distance = R * c\n",
    "    return round(distance, 5)"
   ]
  },
  {
   "cell_type": "code",
   "execution_count": 18,
   "metadata": {},
   "outputs": [],
   "source": [
    "# using the function to calculate the distance\n",
    "data['Distance'] = data.apply(lambda row: haversine(row['Restaurant_latitude'], row['Restaurant_longitude'], row['Delivery_location_latitude'], row['Delivery_location_longitude']), axis=1)"
   ]
  },
  {
   "cell_type": "markdown",
   "metadata": {},
   "source": [
    "### Using KMeans Clustering Algorithm to cluster latitude and longitude together"
   ]
  },
  {
   "cell_type": "code",
   "execution_count": 19,
   "metadata": {},
   "outputs": [],
   "source": [
    "restaurant = data[['Restaurant_latitude', 'Restaurant_longitude']]\n",
    "delivery = data[['Delivery_location_latitude', 'Delivery_location_longitude']]"
   ]
  },
  {
   "cell_type": "code",
   "execution_count": 20,
   "metadata": {},
   "outputs": [],
   "source": [
    "# specifying my own clusters\n",
    "# each lat and long pair will be classified as North, South, East, West\n",
    "# each lat and long pairs are in the center of the region\n",
    "\n",
    "cluster_centers = np.array([[29.400000, 77.200000], [11.100000, 78.700000], [22.800000, 86.100000], [21.200000, 72.800000]])"
   ]
  },
  {
   "cell_type": "code",
   "execution_count": 21,
   "metadata": {},
   "outputs": [],
   "source": [
    "kmeans_delivery = KMeans(n_clusters = 4, init = cluster_centers, n_init = 1, max_iter = 500, random_state = 42).fit(delivery)\n",
    "kmeans_restaurant = KMeans(n_clusters = 4, init = cluster_centers, n_init = 1, max_iter = 500, random_state = 42).fit(restaurant)\n",
    "\n",
    "data['Delivery_Cluster'] = kmeans_delivery.labels_\n",
    "data['Restaurant_Cluster'] = kmeans_restaurant.labels_\n",
    "\n",
    "# changing data type\n",
    "data['Delivery_Cluster'] = data['Delivery_Cluster'].astype('object')\n",
    "data['Restaurant_Cluster'] = data['Restaurant_Cluster'].astype('object')"
   ]
  },
  {
   "cell_type": "code",
   "execution_count": 22,
   "metadata": {},
   "outputs": [],
   "source": [
    "# mapping the clusters into North, South, East, West\n",
    "location_map = {0: 'North', 1: 'South', 2: 'East', 3: 'West'}\n",
    "\n",
    "# apply the mapping to the column\n",
    "data['Delivery_Cluster'] = data['Delivery_Cluster'].map(location_map)\n",
    "data['Restaurant_Cluster'] = data['Restaurant_Cluster'].map(location_map)"
   ]
  },
  {
   "cell_type": "code",
   "execution_count": 23,
   "metadata": {},
   "outputs": [],
   "source": [
    "# extracting only weather conditions from Weatherconditions\n",
    "words = data['Weatherconditions'].str.split()\n",
    "conditions = words.str[1] \n",
    "\n",
    "data['Weatherconditions'] = conditions"
   ]
  },
  {
   "cell_type": "code",
   "execution_count": 24,
   "metadata": {},
   "outputs": [],
   "source": [
    "# extracting only the mins value from time taken column\n",
    "words_ = data['Time_taken(min)'].str.split()\n",
    "time_taken = words_.str[1]\n",
    "\n",
    "data['Time_taken_mins'] = time_taken\n",
    "data['Time_taken_mins'] = data['Time_taken_mins'].astype('float64')"
   ]
  },
  {
   "cell_type": "code",
   "execution_count": 25,
   "metadata": {},
   "outputs": [],
   "source": [
    "# mapping vehicle condition to its conditions\n",
    "condition_map = {0: 'Below Average', 1: 'Average', 2: 'Good'}\n",
    "\n",
    "# Apply the mapping to the column\n",
    "data['Vehicle_condition'] = data['Vehicle_condition'].map(condition_map)"
   ]
  },
  {
   "cell_type": "code",
   "execution_count": 26,
   "metadata": {},
   "outputs": [],
   "source": [
    "# dropping unneccesary columns\n",
    "\"\"\"\n",
    "Reasons for dropping columns:\n",
    "(1) index, ID and Delivery_person_ID is not needed in the model\n",
    "(2) Restaurant and Delivery Location Lat and Long data is used to calculate distance \n",
    "(3) Time_taken (min) is replaced my Time_taken_mins\n",
    "(4) Restaurant cluster and Delivery location cluster mostly are the same in the dataset (excluding outliers)\n",
    "(5) Time_of_Day_picked is mostly the same as Time_of_Day_orderd\n",
    "(6) Festival and City do not have much meaning in this dataset \n",
    "(7) Multiple deliveries is slightly confusing\n",
    "\n",
    "\"\"\"\n",
    "data = data.reset_index().drop(['index', 'ID', 'Delivery_person_ID', 'Restaurant_latitude', 'Restaurant_longitude', 'Delivery_location_latitude', 'Delivery_location_longitude', 'Time_taken(min)', 'Restaurant_Cluster', 'Time_of_Day_picked', 'Festival', 'City', 'multiple_deliveries'], axis = 1)"
   ]
  },
  {
   "cell_type": "code",
   "execution_count": 27,
   "metadata": {},
   "outputs": [],
   "source": [
    "# changing delivery ratings to satisfaction_percentage\n",
    "data['Delivery_person_Ratings'] = (data['Delivery_person_Ratings']/5) * 100"
   ]
  },
  {
   "cell_type": "code",
   "execution_count": 28,
   "metadata": {},
   "outputs": [],
   "source": [
    "# rename Delivery_person_Ratings to Satisfaction_Perc and Delivery_Cluster to Region\n",
    "data = data.rename(columns={'Delivery_person_Ratings': 'Satisfaction_Perc', 'Delivery_Cluster': 'Region'})"
   ]
  },
  {
   "cell_type": "code",
   "execution_count": 29,
   "metadata": {},
   "outputs": [
    {
     "name": "stdout",
     "output_type": "stream",
     "text": [
      "Number of final rows: 40197\n",
      "Number of final columns: 11\n"
     ]
    }
   ],
   "source": [
    "# checking end number of rows and columns\n",
    "end_rows = data.shape[0]\n",
    "end_columns = data.shape[1]\n",
    "\n",
    "print(f'Number of final rows: {end_rows}')\n",
    "print(f'Number of final columns: {end_columns}')"
   ]
  },
  {
   "cell_type": "markdown",
   "metadata": {},
   "source": [
    "## Explaratory Data Analysis"
   ]
  },
  {
   "cell_type": "code",
   "execution_count": 30,
   "metadata": {},
   "outputs": [
    {
     "data": {
      "text/plain": [
       "Delivery_person_Age     float64\n",
       "Satisfaction_Perc       float64\n",
       "Weatherconditions        object\n",
       "Road_traffic_density     object\n",
       "Vehicle_condition        object\n",
       "Type_of_order            object\n",
       "Type_of_vehicle          object\n",
       "Time_of_Day_Orderd       object\n",
       "Distance                float64\n",
       "Region                   object\n",
       "Time_taken_mins         float64\n",
       "dtype: object"
      ]
     },
     "execution_count": 30,
     "metadata": {},
     "output_type": "execute_result"
    }
   ],
   "source": [
    "data.dtypes"
   ]
  },
  {
   "cell_type": "code",
   "execution_count": 31,
   "metadata": {},
   "outputs": [
    {
     "data": {
      "image/png": "[encoded data removed]",
      "text/plain": [
       "<Figure size 800x800 with 2 Axes>"
      ]
     },
     "metadata": {},
     "output_type": "display_data"
    }
   ],
   "source": [
    "# plotting the correlation matrix to explore relationships between numerical variables\n",
    "# select the numerical columns\n",
    "numeric = data[['Delivery_person_Age', 'Satisfaction_Perc', 'Distance']]\n",
    "\n",
    "# scaling data for easier comparison\n",
    "scaler = StandardScaler()\n",
    "numeric = scaler.fit_transform(numeric)\n",
    "\n",
    "# convert the scaled numerical columns back to a pandas DataFrame\n",
    "numeric = pd.DataFrame(numeric, columns=['Delivery_person_Age', 'Satisfaction_Perc', 'Distance'])\n",
    "\n",
    "# plot heat map\n",
    "plt.figure(figsize = (8,8))\n",
    "sns.heatmap(numeric.corr(), cbar = True, annot = True, cmap = 'Blues')\n",
    "plt.show()"
   ]
  },
  {
   "cell_type": "markdown",
   "metadata": {},
   "source": [
    "We can see that there is almost no correlation between the numerical variables which is a good sign since having high correlation may lead to multicollinearity issues."
   ]
  },
  {
   "cell_type": "code",
   "execution_count": 32,
   "metadata": {},
   "outputs": [
    {
     "name": "stdout",
     "output_type": "stream",
     "text": [
      "Cramér's V for Road_traffic_density and Time_of_Day_Orderd: 0.7742651711977193\n",
      "Cramér's V for Vehicle_condition and Type_of_vehicle: 0.4979389093381019\n",
      "Cramér's V for Type_of_vehicle and Region: 0.01050935699748268\n"
     ]
    }
   ],
   "source": [
    "# finding correlation/association between categorical variables\n",
    "\n",
    "cat_var = data[['Weatherconditions', 'Road_traffic_density', 'Vehicle_condition', 'Type_of_order', 'Type_of_vehicle', 'Time_of_Day_Orderd', 'Region']]\n",
    "\n",
    "# create a list of variable pairs\n",
    "variable_pairs = [(x, y) for i, x in enumerate(cat_var.columns) for j, y in enumerate(cat_var.columns) if i < j]\n",
    "\n",
    "# create empty lists for independent and dependent variables\n",
    "independent_vars = []\n",
    "dependent_vars = []\n",
    "\n",
    "# loop through each variable pair\n",
    "for pair in variable_pairs:\n",
    "    # create a contingency table\n",
    "    contingency_table = pd.crosstab(cat_var[pair[0]], cat_var[pair[1]])\n",
    "    \n",
    "    # calculate the chi-squared test statistic, p-value, degrees of freedom, and expected table\n",
    "    chi2_stat, p_val, dof, expected_table = chi2_contingency(contingency_table)\n",
    "    \n",
    "    # compare the obtained p-value with the significance level of 0.05\n",
    "    if p_val <= 0.05:\n",
    "        dependent_vars.append(pair)\n",
    "    else:\n",
    "        independent_vars.append(pair)\n",
    "\n",
    "# calculate Cramér's V for dependent variable pairs\n",
    "# Cramér's V calculates the association between 2 categorical variables\n",
    "\n",
    "for pair in dependent_vars:\n",
    "    contingency_table = pd.crosstab(cat_var[pair[0]], cat_var[pair[1]])\n",
    "    chi2_stat, p_val, dof, expected_table = chi2_contingency(contingency_table)\n",
    "    n = contingency_table.sum().sum()\n",
    "    phi2 = chi2_stat / n\n",
    "    r, k = contingency_table.shape\n",
    "    phi2corr = max(0, phi2 - ((k-1)*(r-1))/(n-1))\n",
    "    rcorr = r - ((r-1)**2)/(n-1)\n",
    "    kcorr = k - ((k-1)**2)/(n-1)\n",
    "    cramers_v = np.sqrt(phi2corr / min((kcorr-1), (rcorr-1)))\n",
    "    print(f\"Cramér's V for {pair[0]} and {pair[1]}: {cramers_v}\")"
   ]
  },
  {
   "cell_type": "markdown",
   "metadata": {},
   "source": [
    "From the variables that are dependent, we can see that:\n",
    "- There is very strong correlation between Road Traffic Density and Time of Day Ordered which is understandable since ordering at peak hour timings would mean high road traffic density\n",
    "- There is moderate correlation between vehicle condition and type of vehicle \n",
    "- There is weak correlation between type of vehicle and region"
   ]
  },
  {
   "cell_type": "markdown",
   "metadata": {},
   "source": [
    "## Train-Test Split"
   ]
  },
  {
   "cell_type": "code",
   "execution_count": 33,
   "metadata": {},
   "outputs": [],
   "source": [
    "# Set \"Time_taken_mins\" as the y variable\n",
    "y = data['Time_taken_mins'] \n",
    "\n",
    "# Set everything other than Time_taken_mins as the X variables\n",
    "X = data.drop(columns=['Time_taken_mins']) \n",
    "\n",
    "# Train test split in a 80:20 ratio, with a random state for consistency\n",
    "X_train, X_test, y_train, y_test = train_test_split(X, y, test_size = 0.2, random_state = 42)"
   ]
  },
  {
   "cell_type": "code",
   "execution_count": 34,
   "metadata": {},
   "outputs": [],
   "source": [
    "# function to get all categorical variables\n",
    "\n",
    "def getCategorical(X_train, data):\n",
    "    categorical_variables = []\n",
    "    \n",
    "    for column in X_train.columns:\n",
    "        if data[column].dtype == \"object\":\n",
    "            categorical_variables.append(column)\n",
    "\n",
    "    return categorical_variables"
   ]
  },
  {
   "cell_type": "code",
   "execution_count": 35,
   "metadata": {},
   "outputs": [],
   "source": [
    "# function to create a transformer to encode categorical variables\n",
    "\n",
    "def transformer(categorical_variables):\n",
    "    # One-hot encoding\n",
    "    enc = OneHotEncoder(sparse_output = False, handle_unknown = \"ignore\")\n",
    "\n",
    "    transformer_ = ColumnTransformer([\n",
    "        (\"categorical\", enc, categorical_variables)\n",
    "    ], remainder=\"passthrough\")\n",
    "\n",
    "    return transformer_"
   ]
  },
  {
   "cell_type": "code",
   "execution_count": 36,
   "metadata": {},
   "outputs": [],
   "source": [
    "# function to transform data\n",
    "\n",
    "def transformData(X_train, X_test, transformer_):\n",
    "    X_train_encoded = pd.DataFrame(transformer_.fit_transform(X_train), columns = transformer_.get_feature_names_out())\n",
    "    X_test_encoded = pd.DataFrame(transformer_.fit_transform(X_test), columns = transformer_.get_feature_names_out())\n",
    "    \n",
    "    return [X_train_encoded, X_test_encoded]"
   ]
  },
  {
   "cell_type": "code",
   "execution_count": 37,
   "metadata": {},
   "outputs": [],
   "source": [
    "# function to rename the column to increase readability\n",
    "\n",
    "def renameCol(categorical_variables, X_train_encoded, X_test_encoded):\n",
    "    \n",
    "    X_train_encoded.columns = X_train_encoded.columns.str.replace(re.compile(r'categorical__|remainder__'), '', regex = True)\n",
    "    X_test_encoded.columns = X_test_encoded.columns.str.replace(re.compile(r'categorical__|remainder__'), '', regex = True)\n",
    "\n",
    "    return [X_train_encoded, X_test_encoded]\n"
   ]
  },
  {
   "cell_type": "code",
   "execution_count": 38,
   "metadata": {},
   "outputs": [],
   "source": [
    "# function that combines all the above functions into a function called preprocess\n",
    "def preprocess(X_train, X_test, data):\n",
    "    \n",
    "    # use the getCategorical function to get categorical variables in the dataset\n",
    "    categorical_variables = getCategorical(X_train, data)\n",
    "    \n",
    "    # use tranformer function to create the transformer\n",
    "    transformer_ = transformer(categorical_variables)\n",
    "    \n",
    "    # use transformData function\n",
    "    X_train_encoded, X_test_encoded = transformData(X_train, X_test, transformer_)\n",
    "\n",
    "    # renaming the columns for readability\n",
    "    X_train_encoded, X_test_encoded = renameCol(categorical_variables, X_train_encoded, X_test_encoded)\n",
    "\n",
    "    return [X_train_encoded, X_test_encoded, transformer_]"
   ]
  },
  {
   "cell_type": "code",
   "execution_count": 90,
   "metadata": {},
   "outputs": [],
   "source": [
    "# helper function to get model evaluation results\n",
    "def get_results(model, X, y):\n",
    "    y_pred = model.predict(X)\n",
    "    r2 = r2_score(y, y_pred)\n",
    "    mse = mean_squared_error(y, y_pred)\n",
    "    mae = mean_absolute_error(y, y_pred)\n",
    "\n",
    "    return r2, mse, mse**0.5, mae"
   ]
  },
  {
   "cell_type": "code",
   "execution_count": 40,
   "metadata": {},
   "outputs": [],
   "source": [
    "# helper function to get CV results\n",
    "def get_CV_results(model, X, y, cv=10):\n",
    "    scores = cross_validate(model, X, y, cv=cv, return_train_score=True)\n",
    "    print(f\"Mean Test Score: {scores['test_score'].mean()}\")\n",
    "    print(\"\\n\")\n",
    "\n",
    "    display(pd.DataFrame(scores)) "
   ]
  },
  {
   "cell_type": "code",
   "execution_count": 52,
   "metadata": {},
   "outputs": [],
   "source": [
    "# helper function to view grid search results\n",
    "\n",
    "def report_GridSearchCV_results(gs):\n",
    "    print(\"Best combination of hyperparams:\\n\", gs.best_params_, \"\\n\")\n",
    "    print(\"Best mean_test_score score:\\n\", gs.best_score_, \"\\n\")\n",
    "    \n",
    "    scores = []\n",
    "    for i in range(gs.n_splits_):\n",
    "        scores.append(gs.cv_results_['split{}_test_score'.format(i)][gs.best_index_])\n",
    "    print(\"Score by fold for best estimator:\\n\", scores, \"\\n\")\n",
    "    \n",
    "    # View top 5 hyperparams combinations by mean_test_score (mean on \"validation\" set)\n",
    "    print(\"Top 5 hyperparams combinations by mean_test_score:\")\n",
    "    display(pd.DataFrame(gs.cv_results_)[[\"rank_test_score\", \"mean_test_score\"] \n",
    "                                            + [\"param_\" + param for param in gs.param_grid]]\\\n",
    "              .sort_values(by = \"mean_test_score\", ascending = False)\\\n",
    "              .set_index(\"rank_test_score\").head(5))"
   ]
  },
  {
   "cell_type": "markdown",
   "metadata": {},
   "source": [
    "## Multiple Linear Regression"
   ]
  },
  {
   "cell_type": "code",
   "execution_count": 41,
   "metadata": {},
   "outputs": [],
   "source": [
    "X_train_encoded_lr, X_test_encoded_lr, transformer_lr = preprocess(X_train, X_test, data)"
   ]
  },
  {
   "cell_type": "code",
   "execution_count": 46,
   "metadata": {},
   "outputs": [
    {
     "name": "stdout",
     "output_type": "stream",
     "text": [
      "                            OLS Regression Results                            \n",
      "==============================================================================\n",
      "Dep. Variable:        Time_taken_mins   R-squared:                       0.512\n",
      "Model:                            OLS   Adj. R-squared:                  0.512\n",
      "Method:                 Least Squares   F-statistic:                     1468.\n",
      "Date:                Mon, 04 Dec 2023   Prob (F-statistic):               0.00\n",
      "Time:                        01:29:10   Log-Likelihood:            -1.0601e+05\n",
      "No. Observations:               32157   AIC:                         2.121e+05\n",
      "Df Residuals:                   32133   BIC:                         2.123e+05\n",
      "Df Model:                          23                                         \n",
      "Covariance Type:            nonrobust                                         \n",
      "=====================================================================================================\n",
      "                                        coef    std err          t      P>|t|      [0.025      0.975]\n",
      "-----------------------------------------------------------------------------------------------------\n",
      "const                                18.2666      0.208     87.862      0.000      17.859      18.674\n",
      "Weatherconditions_Cloudy              5.8523      0.090     65.330      0.000       5.677       6.028\n",
      "Weatherconditions_Fog                 5.9839      0.088     67.729      0.000       5.811       6.157\n",
      "Weatherconditions_Sandstorms          2.4675      0.088     28.099      0.000       2.295       2.640\n",
      "Weatherconditions_Stormy              2.5427      0.087     29.274      0.000       2.372       2.713\n",
      "Weatherconditions_Sunny              -1.2943      0.091    -14.162      0.000      -1.473      -1.115\n",
      "Weatherconditions_Windy               2.7146      0.088     30.798      0.000       2.542       2.887\n",
      "Road_traffic_density_High             6.2699      0.116     53.945      0.000       6.042       6.498\n",
      "Road_traffic_density_Jam              7.5272      0.120     62.555      0.000       7.291       7.763\n",
      "Road_traffic_density_Low             -1.0654      0.105    -10.159      0.000      -1.271      -0.860\n",
      "Road_traffic_density_Medium           5.5349      0.152     36.525      0.000       5.238       5.832\n",
      "Vehicle_condition_Average             4.2045      0.090     46.866      0.000       4.029       4.380\n",
      "Vehicle_condition_Below Average       9.7086      0.094    103.235      0.000       9.524       9.893\n",
      "Vehicle_condition_Good                4.3535      0.093     46.711      0.000       4.171       4.536\n",
      "Type_of_order_Buffet                  4.5424      0.082     55.246      0.000       4.381       4.704\n",
      "Type_of_order_Drinks                  4.4872      0.082     55.016      0.000       4.327       4.647\n",
      "Type_of_order_Meal                    4.5489      0.082     55.753      0.000       4.389       4.709\n",
      "Type_of_order_Snack                   4.6881      0.082     57.241      0.000       4.528       4.849\n",
      "Type_of_vehicle_electric_scooter      5.9650      0.125     47.900      0.000       5.721       6.209\n",
      "Type_of_vehicle_motorcycle            6.1397      0.098     62.620      0.000       5.948       6.332\n",
      "Type_of_vehicle_scooter               6.1619      0.094     65.839      0.000       5.979       6.345\n",
      "Time_of_Day_Orderd_Afternoon          5.5523      0.151     36.816      0.000       5.257       5.848\n",
      "Time_of_Day_Orderd_Evening            7.5301      0.118     64.000      0.000       7.299       7.761\n",
      "Time_of_Day_Orderd_Morning            5.1843      0.111     46.563      0.000       4.966       5.402\n",
      "Region_East                           4.7149      0.109     43.099      0.000       4.500       4.929\n",
      "Region_North                          4.5370      0.078     57.869      0.000       4.383       4.691\n",
      "Region_South                          4.5547      0.081     56.515      0.000       4.397       4.713\n",
      "Region_West                           4.4600      0.117     37.984      0.000       4.230       4.690\n",
      "Delivery_person_Age                   0.4338      0.006     68.125      0.000       0.421       0.446\n",
      "Satisfaction_Perc                    -0.4267      0.006    -72.029      0.000      -0.438      -0.415\n",
      "Distance                             -0.0001      0.000     -0.868      0.385      -0.000       0.000\n",
      "==============================================================================\n",
      "Omnibus:                      217.256   Durbin-Watson:                   1.994\n",
      "Prob(Omnibus):                  0.000   Jarque-Bera (JB):              221.591\n",
      "Skew:                           0.203   Prob(JB):                     7.62e-49\n",
      "Kurtosis:                       2.984   Cond. No.                     1.66e+16\n",
      "==============================================================================\n",
      "\n",
      "Notes:\n",
      "[1] Standard Errors assume that the covariance matrix of the errors is correctly specified.\n",
      "[2] The smallest eigenvalue is 1.06e-23. This might indicate that there are\n",
      "strong multicollinearity problems or that the design matrix is singular.\n"
     ]
    }
   ],
   "source": [
    "ols = sm.OLS(y_train.reset_index(drop = True), sm.add_constant(X_train_encoded_lr))\n",
    "ols_res = ols.fit()\n",
    "\n",
    "print(ols_res.summary())"
   ]
  },
  {
   "cell_type": "markdown",
   "metadata": {},
   "source": [
    "We can see from the Linear Regression model that the $R^2$ is relatively low, with a value of 0.512. This could indicate that there is non-linear relationships between the variables in the model.\n",
    "\n",
    "Thus, non-linear regression methods will be used subsequently."
   ]
  },
  {
   "cell_type": "markdown",
   "metadata": {},
   "source": [
    "## Random Forest Regressor"
   ]
  },
  {
   "cell_type": "code",
   "execution_count": 47,
   "metadata": {},
   "outputs": [],
   "source": [
    "X_train_encoded_rf, X_test_encoded_rf, transformer_rf = preprocess(X_train, X_test, data)"
   ]
  },
  {
   "cell_type": "code",
   "execution_count": 48,
   "metadata": {},
   "outputs": [
    {
     "data": {
      "text/html": [
       "<style>#sk-container-id-2 {color: black;}#sk-container-id-2 pre{padding: 0;}#sk-container-id-2 div.sk-toggleable {background-color: white;}#sk-container-id-2 label.sk-toggleable__label {cursor: pointer;display: block;width: 100%;margin-bottom: 0;padding: 0.3em;box-sizing: border-box;text-align: center;}#sk-container-id-2 label.sk-toggleable__label-arrow:before {content: \"▸\";float: left;margin-right: 0.25em;color: #696969;}#sk-container-id-2 label.sk-toggleable__label-arrow:hover:before {color: black;}#sk-container-id-2 div.sk-estimator:hover label.sk-toggleable__label-arrow:before {color: black;}#sk-container-id-2 div.sk-toggleable__content {max-height: 0;max-width: 0;overflow: hidden;text-align: left;background-color: #f0f8ff;}#sk-container-id-2 div.sk-toggleable__content pre {margin: 0.2em;color: black;border-radius: 0.25em;background-color: #f0f8ff;}#sk-container-id-2 input.sk-toggleable__control:checked~div.sk-toggleable__content {max-height: 200px;max-width: 100%;overflow: auto;}#sk-container-id-2 input.sk-toggleable__control:checked~label.sk-toggleable__label-arrow:before {content: \"▾\";}#sk-container-id-2 div.sk-estimator input.sk-toggleable__control:checked~label.sk-toggleable__label {background-color: #d4ebff;}#sk-container-id-2 div.sk-label input.sk-toggleable__control:checked~label.sk-toggleable__label {background-color: #d4ebff;}#sk-container-id-2 input.sk-hidden--visually {border: 0;clip: rect(1px 1px 1px 1px);clip: rect(1px, 1px, 1px, 1px);height: 1px;margin: -1px;overflow: hidden;padding: 0;position: absolute;width: 1px;}#sk-container-id-2 div.sk-estimator {font-family: monospace;background-color: #f0f8ff;border: 1px dotted black;border-radius: 0.25em;box-sizing: border-box;margin-bottom: 0.5em;}#sk-container-id-2 div.sk-estimator:hover {background-color: #d4ebff;}#sk-container-id-2 div.sk-parallel-item::after {content: \"\";width: 100%;border-bottom: 1px solid gray;flex-grow: 1;}#sk-container-id-2 div.sk-label:hover label.sk-toggleable__label {background-color: #d4ebff;}#sk-container-id-2 div.sk-serial::before {content: \"\";position: absolute;border-left: 1px solid gray;box-sizing: border-box;top: 0;bottom: 0;left: 50%;z-index: 0;}#sk-container-id-2 div.sk-serial {display: flex;flex-direction: column;align-items: center;background-color: white;padding-right: 0.2em;padding-left: 0.2em;position: relative;}#sk-container-id-2 div.sk-item {position: relative;z-index: 1;}#sk-container-id-2 div.sk-parallel {display: flex;align-items: stretch;justify-content: center;background-color: white;position: relative;}#sk-container-id-2 div.sk-item::before, #sk-container-id-2 div.sk-parallel-item::before {content: \"\";position: absolute;border-left: 1px solid gray;box-sizing: border-box;top: 0;bottom: 0;left: 50%;z-index: -1;}#sk-container-id-2 div.sk-parallel-item {display: flex;flex-direction: column;z-index: 1;position: relative;background-color: white;}#sk-container-id-2 div.sk-parallel-item:first-child::after {align-self: flex-end;width: 50%;}#sk-container-id-2 div.sk-parallel-item:last-child::after {align-self: flex-start;width: 50%;}#sk-container-id-2 div.sk-parallel-item:only-child::after {width: 0;}#sk-container-id-2 div.sk-dashed-wrapped {border: 1px dashed gray;margin: 0 0.4em 0.5em 0.4em;box-sizing: border-box;padding-bottom: 0.4em;background-color: white;}#sk-container-id-2 div.sk-label label {font-family: monospace;font-weight: bold;display: inline-block;line-height: 1.2em;}#sk-container-id-2 div.sk-label-container {text-align: center;}#sk-container-id-2 div.sk-container {/* jupyter's `normalize.less` sets `[hidden] { display: none; }` but bootstrap.min.css set `[hidden] { display: none !important; }` so we also need the `!important` here to be able to override the default hidden behavior on the sphinx rendered scikit-learn.org. See: https://github.com/scikit-learn/scikit-learn/issues/21755 */display: inline-block !important;position: relative;}#sk-container-id-2 div.sk-text-repr-fallback {display: none;}</style><div id=\"sk-container-id-2\" class=\"sk-top-container\"><div class=\"sk-text-repr-fallback\"><pre>RandomForestRegressor(max_depth=5, min_samples_leaf=5, n_jobs=-1,\n",
       "                      random_state=100)</pre><b>In a Jupyter environment, please rerun this cell to show the HTML representation or trust the notebook. <br />On GitHub, the HTML representation is unable to render, please try loading this page with nbviewer.org.</b></div><div class=\"sk-container\" hidden><div class=\"sk-item\"><div class=\"sk-estimator sk-toggleable\"><input class=\"sk-toggleable__control sk-hidden--visually\" id=\"sk-estimator-id-2\" type=\"checkbox\" checked><label for=\"sk-estimator-id-2\" class=\"sk-toggleable__label sk-toggleable__label-arrow\">RandomForestRegressor</label><div class=\"sk-toggleable__content\"><pre>RandomForestRegressor(max_depth=5, min_samples_leaf=5, n_jobs=-1,\n",
       "                      random_state=100)</pre></div></div></div></div></div>"
      ],
      "text/plain": [
       "RandomForestRegressor(max_depth=5, min_samples_leaf=5, n_jobs=-1,\n",
       "                      random_state=100)"
      ]
     },
     "execution_count": 48,
     "metadata": {},
     "output_type": "execute_result"
    }
   ],
   "source": [
    "rf = RandomForestRegressor(n_estimators = 100,\n",
    "                           criterion = 'squared_error',\n",
    "                           max_depth = 5,\n",
    "                           min_samples_split = 5,\n",
    "                           min_samples_leaf = 5,\n",
    "                           random_state = 100,\n",
    "                           n_jobs = -1)\n",
    "\n",
    "rf.fit(X_train_encoded_rf, y_train)"
   ]
  },
  {
   "cell_type": "code",
   "execution_count": 49,
   "metadata": {},
   "outputs": [],
   "source": [
    "# creating a pipeline\n",
    "pipeline_rf = Pipeline([(\"transformer\", transformer_rf), (\"random_forest\", rf)])"
   ]
  },
  {
   "cell_type": "code",
   "execution_count": 50,
   "metadata": {},
   "outputs": [
    {
     "name": "stdout",
     "output_type": "stream",
     "text": [
      "Mean Test Score: 0.6299261080860842\n",
      "\n",
      "\n"
     ]
    },
    {
     "data": {
      "text/html": [
       "<div>\n",
       "<style scoped>\n",
       "    .dataframe tbody tr th:only-of-type {\n",
       "        vertical-align: middle;\n",
       "    }\n",
       "\n",
       "    .dataframe tbody tr th {\n",
       "        vertical-align: top;\n",
       "    }\n",
       "\n",
       "    .dataframe thead th {\n",
       "        text-align: right;\n",
       "    }\n",
       "</style>\n",
       "<table border=\"1\" class=\"dataframe\">\n",
       "  <thead>\n",
       "    <tr style=\"text-align: right;\">\n",
       "      <th></th>\n",
       "      <th>fit_time</th>\n",
       "      <th>score_time</th>\n",
       "      <th>test_score</th>\n",
       "      <th>train_score</th>\n",
       "    </tr>\n",
       "  </thead>\n",
       "  <tbody>\n",
       "    <tr>\n",
       "      <th>0</th>\n",
       "      <td>0.355221</td>\n",
       "      <td>0.017490</td>\n",
       "      <td>0.630025</td>\n",
       "      <td>0.634917</td>\n",
       "    </tr>\n",
       "    <tr>\n",
       "      <th>1</th>\n",
       "      <td>0.345717</td>\n",
       "      <td>0.017701</td>\n",
       "      <td>0.630549</td>\n",
       "      <td>0.625247</td>\n",
       "    </tr>\n",
       "    <tr>\n",
       "      <th>2</th>\n",
       "      <td>0.349194</td>\n",
       "      <td>0.017531</td>\n",
       "      <td>0.615382</td>\n",
       "      <td>0.635690</td>\n",
       "    </tr>\n",
       "    <tr>\n",
       "      <th>3</th>\n",
       "      <td>0.384634</td>\n",
       "      <td>0.017850</td>\n",
       "      <td>0.626930</td>\n",
       "      <td>0.633079</td>\n",
       "    </tr>\n",
       "    <tr>\n",
       "      <th>4</th>\n",
       "      <td>0.355283</td>\n",
       "      <td>0.018543</td>\n",
       "      <td>0.639995</td>\n",
       "      <td>0.633706</td>\n",
       "    </tr>\n",
       "    <tr>\n",
       "      <th>5</th>\n",
       "      <td>0.341540</td>\n",
       "      <td>0.018211</td>\n",
       "      <td>0.619616</td>\n",
       "      <td>0.631223</td>\n",
       "    </tr>\n",
       "    <tr>\n",
       "      <th>6</th>\n",
       "      <td>0.346911</td>\n",
       "      <td>0.017906</td>\n",
       "      <td>0.633765</td>\n",
       "      <td>0.634786</td>\n",
       "    </tr>\n",
       "    <tr>\n",
       "      <th>7</th>\n",
       "      <td>0.351244</td>\n",
       "      <td>0.017219</td>\n",
       "      <td>0.628283</td>\n",
       "      <td>0.636089</td>\n",
       "    </tr>\n",
       "    <tr>\n",
       "      <th>8</th>\n",
       "      <td>0.351242</td>\n",
       "      <td>0.017574</td>\n",
       "      <td>0.636992</td>\n",
       "      <td>0.632458</td>\n",
       "    </tr>\n",
       "    <tr>\n",
       "      <th>9</th>\n",
       "      <td>0.344554</td>\n",
       "      <td>0.017715</td>\n",
       "      <td>0.637723</td>\n",
       "      <td>0.633769</td>\n",
       "    </tr>\n",
       "  </tbody>\n",
       "</table>\n",
       "</div>"
      ],
      "text/plain": [
       "   fit_time  score_time  test_score  train_score\n",
       "0  0.355221    0.017490    0.630025     0.634917\n",
       "1  0.345717    0.017701    0.630549     0.625247\n",
       "2  0.349194    0.017531    0.615382     0.635690\n",
       "3  0.384634    0.017850    0.626930     0.633079\n",
       "4  0.355283    0.018543    0.639995     0.633706\n",
       "5  0.341540    0.018211    0.619616     0.631223\n",
       "6  0.346911    0.017906    0.633765     0.634786\n",
       "7  0.351244    0.017219    0.628283     0.636089\n",
       "8  0.351242    0.017574    0.636992     0.632458\n",
       "9  0.344554    0.017715    0.637723     0.633769"
      ]
     },
     "metadata": {},
     "output_type": "display_data"
    }
   ],
   "source": [
    "# getting CV results\n",
    "get_CV_results(pipeline_rf, X_train, y_train)"
   ]
  },
  {
   "cell_type": "code",
   "execution_count": 57,
   "metadata": {},
   "outputs": [
    {
     "data": {
      "text/html": [
       "<style>#sk-container-id-5 {color: black;}#sk-container-id-5 pre{padding: 0;}#sk-container-id-5 div.sk-toggleable {background-color: white;}#sk-container-id-5 label.sk-toggleable__label {cursor: pointer;display: block;width: 100%;margin-bottom: 0;padding: 0.3em;box-sizing: border-box;text-align: center;}#sk-container-id-5 label.sk-toggleable__label-arrow:before {content: \"▸\";float: left;margin-right: 0.25em;color: #696969;}#sk-container-id-5 label.sk-toggleable__label-arrow:hover:before {color: black;}#sk-container-id-5 div.sk-estimator:hover label.sk-toggleable__label-arrow:before {color: black;}#sk-container-id-5 div.sk-toggleable__content {max-height: 0;max-width: 0;overflow: hidden;text-align: left;background-color: #f0f8ff;}#sk-container-id-5 div.sk-toggleable__content pre {margin: 0.2em;color: black;border-radius: 0.25em;background-color: #f0f8ff;}#sk-container-id-5 input.sk-toggleable__control:checked~div.sk-toggleable__content {max-height: 200px;max-width: 100%;overflow: auto;}#sk-container-id-5 input.sk-toggleable__control:checked~label.sk-toggleable__label-arrow:before {content: \"▾\";}#sk-container-id-5 div.sk-estimator input.sk-toggleable__control:checked~label.sk-toggleable__label {background-color: #d4ebff;}#sk-container-id-5 div.sk-label input.sk-toggleable__control:checked~label.sk-toggleable__label {background-color: #d4ebff;}#sk-container-id-5 input.sk-hidden--visually {border: 0;clip: rect(1px 1px 1px 1px);clip: rect(1px, 1px, 1px, 1px);height: 1px;margin: -1px;overflow: hidden;padding: 0;position: absolute;width: 1px;}#sk-container-id-5 div.sk-estimator {font-family: monospace;background-color: #f0f8ff;border: 1px dotted black;border-radius: 0.25em;box-sizing: border-box;margin-bottom: 0.5em;}#sk-container-id-5 div.sk-estimator:hover {background-color: #d4ebff;}#sk-container-id-5 div.sk-parallel-item::after {content: \"\";width: 100%;border-bottom: 1px solid gray;flex-grow: 1;}#sk-container-id-5 div.sk-label:hover label.sk-toggleable__label {background-color: #d4ebff;}#sk-container-id-5 div.sk-serial::before {content: \"\";position: absolute;border-left: 1px solid gray;box-sizing: border-box;top: 0;bottom: 0;left: 50%;z-index: 0;}#sk-container-id-5 div.sk-serial {display: flex;flex-direction: column;align-items: center;background-color: white;padding-right: 0.2em;padding-left: 0.2em;position: relative;}#sk-container-id-5 div.sk-item {position: relative;z-index: 1;}#sk-container-id-5 div.sk-parallel {display: flex;align-items: stretch;justify-content: center;background-color: white;position: relative;}#sk-container-id-5 div.sk-item::before, #sk-container-id-5 div.sk-parallel-item::before {content: \"\";position: absolute;border-left: 1px solid gray;box-sizing: border-box;top: 0;bottom: 0;left: 50%;z-index: -1;}#sk-container-id-5 div.sk-parallel-item {display: flex;flex-direction: column;z-index: 1;position: relative;background-color: white;}#sk-container-id-5 div.sk-parallel-item:first-child::after {align-self: flex-end;width: 50%;}#sk-container-id-5 div.sk-parallel-item:last-child::after {align-self: flex-start;width: 50%;}#sk-container-id-5 div.sk-parallel-item:only-child::after {width: 0;}#sk-container-id-5 div.sk-dashed-wrapped {border: 1px dashed gray;margin: 0 0.4em 0.5em 0.4em;box-sizing: border-box;padding-bottom: 0.4em;background-color: white;}#sk-container-id-5 div.sk-label label {font-family: monospace;font-weight: bold;display: inline-block;line-height: 1.2em;}#sk-container-id-5 div.sk-label-container {text-align: center;}#sk-container-id-5 div.sk-container {/* jupyter's `normalize.less` sets `[hidden] { display: none; }` but bootstrap.min.css set `[hidden] { display: none !important; }` so we also need the `!important` here to be able to override the default hidden behavior on the sphinx rendered scikit-learn.org. See: https://github.com/scikit-learn/scikit-learn/issues/21755 */display: inline-block !important;position: relative;}#sk-container-id-5 div.sk-text-repr-fallback {display: none;}</style><div id=\"sk-container-id-5\" class=\"sk-top-container\"><div class=\"sk-text-repr-fallback\"><pre>GridSearchCV(cv=5,\n",
       "             estimator=Pipeline(steps=[(&#x27;transformer&#x27;,\n",
       "                                        ColumnTransformer(remainder=&#x27;passthrough&#x27;,\n",
       "                                                          transformers=[(&#x27;categorical&#x27;,\n",
       "                                                                         OneHotEncoder(handle_unknown=&#x27;ignore&#x27;,\n",
       "                                                                                       sparse_output=False),\n",
       "                                                                         [&#x27;Weatherconditions&#x27;,\n",
       "                                                                          &#x27;Road_traffic_density&#x27;,\n",
       "                                                                          &#x27;Vehicle_condition&#x27;,\n",
       "                                                                          &#x27;Type_of_order&#x27;,\n",
       "                                                                          &#x27;Type_of_vehicle&#x27;,\n",
       "                                                                          &#x27;Time_of_Day_Orderd&#x27;,\n",
       "                                                                          &#x27;Region&#x27;])])),\n",
       "                                       (&#x27;random_forest&#x27;,\n",
       "                                        RandomForestRegressor(max_depth=5,\n",
       "                                                              min_samples_leaf=5,\n",
       "                                                              n_jobs=-1,\n",
       "                                                              random_state=100))]),\n",
       "             n_jobs=-1,\n",
       "             param_grid={&#x27;random_forest__max_depth&#x27;: [3, 5, 10, 15],\n",
       "                         &#x27;random_forest__min_samples_leaf&#x27;: [3, 5, 8, 10],\n",
       "                         &#x27;random_forest__min_samples_split&#x27;: [3, 5, 8, 10],\n",
       "                         &#x27;random_forest__n_estimators&#x27;: [80, 100, 500, 700]},\n",
       "             return_train_score=True, scoring=&#x27;r2&#x27;)</pre><b>In a Jupyter environment, please rerun this cell to show the HTML representation or trust the notebook. <br />On GitHub, the HTML representation is unable to render, please try loading this page with nbviewer.org.</b></div><div class=\"sk-container\" hidden><div class=\"sk-item sk-dashed-wrapped\"><div class=\"sk-label-container\"><div class=\"sk-label sk-toggleable\"><input class=\"sk-toggleable__control sk-hidden--visually\" id=\"sk-estimator-id-12\" type=\"checkbox\" ><label for=\"sk-estimator-id-12\" class=\"sk-toggleable__label sk-toggleable__label-arrow\">GridSearchCV</label><div class=\"sk-toggleable__content\"><pre>GridSearchCV(cv=5,\n",
       "             estimator=Pipeline(steps=[(&#x27;transformer&#x27;,\n",
       "                                        ColumnTransformer(remainder=&#x27;passthrough&#x27;,\n",
       "                                                          transformers=[(&#x27;categorical&#x27;,\n",
       "                                                                         OneHotEncoder(handle_unknown=&#x27;ignore&#x27;,\n",
       "                                                                                       sparse_output=False),\n",
       "                                                                         [&#x27;Weatherconditions&#x27;,\n",
       "                                                                          &#x27;Road_traffic_density&#x27;,\n",
       "                                                                          &#x27;Vehicle_condition&#x27;,\n",
       "                                                                          &#x27;Type_of_order&#x27;,\n",
       "                                                                          &#x27;Type_of_vehicle&#x27;,\n",
       "                                                                          &#x27;Time_of_Day_Orderd&#x27;,\n",
       "                                                                          &#x27;Region&#x27;])])),\n",
       "                                       (&#x27;random_forest&#x27;,\n",
       "                                        RandomForestRegressor(max_depth=5,\n",
       "                                                              min_samples_leaf=5,\n",
       "                                                              n_jobs=-1,\n",
       "                                                              random_state=100))]),\n",
       "             n_jobs=-1,\n",
       "             param_grid={&#x27;random_forest__max_depth&#x27;: [3, 5, 10, 15],\n",
       "                         &#x27;random_forest__min_samples_leaf&#x27;: [3, 5, 8, 10],\n",
       "                         &#x27;random_forest__min_samples_split&#x27;: [3, 5, 8, 10],\n",
       "                         &#x27;random_forest__n_estimators&#x27;: [80, 100, 500, 700]},\n",
       "             return_train_score=True, scoring=&#x27;r2&#x27;)</pre></div></div></div><div class=\"sk-parallel\"><div class=\"sk-parallel-item\"><div class=\"sk-item\"><div class=\"sk-label-container\"><div class=\"sk-label sk-toggleable\"><input class=\"sk-toggleable__control sk-hidden--visually\" id=\"sk-estimator-id-13\" type=\"checkbox\" ><label for=\"sk-estimator-id-13\" class=\"sk-toggleable__label sk-toggleable__label-arrow\">estimator: Pipeline</label><div class=\"sk-toggleable__content\"><pre>Pipeline(steps=[(&#x27;transformer&#x27;,\n",
       "                 ColumnTransformer(remainder=&#x27;passthrough&#x27;,\n",
       "                                   transformers=[(&#x27;categorical&#x27;,\n",
       "                                                  OneHotEncoder(handle_unknown=&#x27;ignore&#x27;,\n",
       "                                                                sparse_output=False),\n",
       "                                                  [&#x27;Weatherconditions&#x27;,\n",
       "                                                   &#x27;Road_traffic_density&#x27;,\n",
       "                                                   &#x27;Vehicle_condition&#x27;,\n",
       "                                                   &#x27;Type_of_order&#x27;,\n",
       "                                                   &#x27;Type_of_vehicle&#x27;,\n",
       "                                                   &#x27;Time_of_Day_Orderd&#x27;,\n",
       "                                                   &#x27;Region&#x27;])])),\n",
       "                (&#x27;random_forest&#x27;,\n",
       "                 RandomForestRegressor(max_depth=5, min_samples_leaf=5,\n",
       "                                       n_jobs=-1, random_state=100))])</pre></div></div></div><div class=\"sk-serial\"><div class=\"sk-item\"><div class=\"sk-serial\"><div class=\"sk-item sk-dashed-wrapped\"><div class=\"sk-label-container\"><div class=\"sk-label sk-toggleable\"><input class=\"sk-toggleable__control sk-hidden--visually\" id=\"sk-estimator-id-14\" type=\"checkbox\" ><label for=\"sk-estimator-id-14\" class=\"sk-toggleable__label sk-toggleable__label-arrow\">transformer: ColumnTransformer</label><div class=\"sk-toggleable__content\"><pre>ColumnTransformer(remainder=&#x27;passthrough&#x27;,\n",
       "                  transformers=[(&#x27;categorical&#x27;,\n",
       "                                 OneHotEncoder(handle_unknown=&#x27;ignore&#x27;,\n",
       "                                               sparse_output=False),\n",
       "                                 [&#x27;Weatherconditions&#x27;, &#x27;Road_traffic_density&#x27;,\n",
       "                                  &#x27;Vehicle_condition&#x27;, &#x27;Type_of_order&#x27;,\n",
       "                                  &#x27;Type_of_vehicle&#x27;, &#x27;Time_of_Day_Orderd&#x27;,\n",
       "                                  &#x27;Region&#x27;])])</pre></div></div></div><div class=\"sk-parallel\"><div class=\"sk-parallel-item\"><div class=\"sk-item\"><div class=\"sk-label-container\"><div class=\"sk-label sk-toggleable\"><input class=\"sk-toggleable__control sk-hidden--visually\" id=\"sk-estimator-id-15\" type=\"checkbox\" ><label for=\"sk-estimator-id-15\" class=\"sk-toggleable__label sk-toggleable__label-arrow\">categorical</label><div class=\"sk-toggleable__content\"><pre>[&#x27;Weatherconditions&#x27;, &#x27;Road_traffic_density&#x27;, &#x27;Vehicle_condition&#x27;, &#x27;Type_of_order&#x27;, &#x27;Type_of_vehicle&#x27;, &#x27;Time_of_Day_Orderd&#x27;, &#x27;Region&#x27;]</pre></div></div></div><div class=\"sk-serial\"><div class=\"sk-item\"><div class=\"sk-estimator sk-toggleable\"><input class=\"sk-toggleable__control sk-hidden--visually\" id=\"sk-estimator-id-16\" type=\"checkbox\" ><label for=\"sk-estimator-id-16\" class=\"sk-toggleable__label sk-toggleable__label-arrow\">OneHotEncoder</label><div class=\"sk-toggleable__content\"><pre>OneHotEncoder(handle_unknown=&#x27;ignore&#x27;, sparse_output=False)</pre></div></div></div></div></div></div><div class=\"sk-parallel-item\"><div class=\"sk-item\"><div class=\"sk-label-container\"><div class=\"sk-label sk-toggleable\"><input class=\"sk-toggleable__control sk-hidden--visually\" id=\"sk-estimator-id-17\" type=\"checkbox\" ><label for=\"sk-estimator-id-17\" class=\"sk-toggleable__label sk-toggleable__label-arrow\">remainder</label><div class=\"sk-toggleable__content\"><pre>[&#x27;Delivery_person_Age&#x27;, &#x27;Satisfaction_Perc&#x27;, &#x27;Distance&#x27;]</pre></div></div></div><div class=\"sk-serial\"><div class=\"sk-item\"><div class=\"sk-estimator sk-toggleable\"><input class=\"sk-toggleable__control sk-hidden--visually\" id=\"sk-estimator-id-18\" type=\"checkbox\" ><label for=\"sk-estimator-id-18\" class=\"sk-toggleable__label sk-toggleable__label-arrow\">passthrough</label><div class=\"sk-toggleable__content\"><pre>passthrough</pre></div></div></div></div></div></div></div></div><div class=\"sk-item\"><div class=\"sk-estimator sk-toggleable\"><input class=\"sk-toggleable__control sk-hidden--visually\" id=\"sk-estimator-id-19\" type=\"checkbox\" ><label for=\"sk-estimator-id-19\" class=\"sk-toggleable__label sk-toggleable__label-arrow\">RandomForestRegressor</label><div class=\"sk-toggleable__content\"><pre>RandomForestRegressor(max_depth=5, min_samples_leaf=5, n_jobs=-1,\n",
       "                      random_state=100)</pre></div></div></div></div></div></div></div></div></div></div></div></div>"
      ],
      "text/plain": [
       "GridSearchCV(cv=5,\n",
       "             estimator=Pipeline(steps=[('transformer',\n",
       "                                        ColumnTransformer(remainder='passthrough',\n",
       "                                                          transformers=[('categorical',\n",
       "                                                                         OneHotEncoder(handle_unknown='ignore',\n",
       "                                                                                       sparse_output=False),\n",
       "                                                                         ['Weatherconditions',\n",
       "                                                                          'Road_traffic_density',\n",
       "                                                                          'Vehicle_condition',\n",
       "                                                                          'Type_of_order',\n",
       "                                                                          'Type_of_vehicle',\n",
       "                                                                          'Time_of_Day_Orderd',\n",
       "                                                                          'Region'])])),\n",
       "                                       ('random_forest',\n",
       "                                        RandomForestRegressor(max_depth=5,\n",
       "                                                              min_samples_leaf=5,\n",
       "                                                              n_jobs=-1,\n",
       "                                                              random_state=100))]),\n",
       "             n_jobs=-1,\n",
       "             param_grid={'random_forest__max_depth': [3, 5, 10, 15],\n",
       "                         'random_forest__min_samples_leaf': [3, 5, 8, 10],\n",
       "                         'random_forest__min_samples_split': [3, 5, 8, 10],\n",
       "                         'random_forest__n_estimators': [80, 100, 500, 700]},\n",
       "             return_train_score=True, scoring='r2')"
      ]
     },
     "execution_count": 57,
     "metadata": {},
     "output_type": "execute_result"
    }
   ],
   "source": [
    "# hyperparameters tuning\n",
    "grid_rf = {\n",
    "    'random_forest__n_estimators': [80, 100, 500, 700],\n",
    "    'random_forest__max_depth': [3, 5, 10, 15],\n",
    "    'random_forest__min_samples_split': [3, 5, 8, 10],\n",
    "    'random_forest__min_samples_leaf': [3, 5, 8, 10]\n",
    "}\n",
    "\n",
    "rf_gs = GridSearchCV(estimator = pipeline_rf,\n",
    "                      param_grid = grid_rf,\n",
    "                      cv = 5,\n",
    "                      n_jobs = -1,\n",
    "                      return_train_score = True,\n",
    "                      scoring = 'r2')\n",
    "\n",
    "rf_gs.fit(X_train, y_train)\n"
   ]
  },
  {
   "cell_type": "code",
   "execution_count": 58,
   "metadata": {},
   "outputs": [
    {
     "name": "stdout",
     "output_type": "stream",
     "text": [
      "Best combination of hyperparams:\n",
      " {'random_forest__max_depth': 10, 'random_forest__min_samples_leaf': 3, 'random_forest__min_samples_split': 10, 'random_forest__n_estimators': 700} \n",
      "\n",
      "Best mean_test_score score:\n",
      " 0.8290521128470963 \n",
      "\n",
      "Score by fold for best estimator:\n",
      " [0.8325837072149307, 0.8183282851317532, 0.8303348518138202, 0.8308671277128252, 0.8331465923621525] \n",
      "\n",
      "Top 5 hyperparams combinations by mean_test_score:\n"
     ]
    },
    {
     "data": {
      "text/html": [
       "<div>\n",
       "<style scoped>\n",
       "    .dataframe tbody tr th:only-of-type {\n",
       "        vertical-align: middle;\n",
       "    }\n",
       "\n",
       "    .dataframe tbody tr th {\n",
       "        vertical-align: top;\n",
       "    }\n",
       "\n",
       "    .dataframe thead th {\n",
       "        text-align: right;\n",
       "    }\n",
       "</style>\n",
       "<table border=\"1\" class=\"dataframe\">\n",
       "  <thead>\n",
       "    <tr style=\"text-align: right;\">\n",
       "      <th></th>\n",
       "      <th>mean_test_score</th>\n",
       "      <th>param_random_forest__n_estimators</th>\n",
       "      <th>param_random_forest__max_depth</th>\n",
       "      <th>param_random_forest__min_samples_split</th>\n",
       "      <th>param_random_forest__min_samples_leaf</th>\n",
       "    </tr>\n",
       "    <tr>\n",
       "      <th>rank_test_score</th>\n",
       "      <th></th>\n",
       "      <th></th>\n",
       "      <th></th>\n",
       "      <th></th>\n",
       "      <th></th>\n",
       "    </tr>\n",
       "  </thead>\n",
       "  <tbody>\n",
       "    <tr>\n",
       "      <th>1</th>\n",
       "      <td>0.829052</td>\n",
       "      <td>700</td>\n",
       "      <td>10</td>\n",
       "      <td>10</td>\n",
       "      <td>3</td>\n",
       "    </tr>\n",
       "    <tr>\n",
       "      <th>2</th>\n",
       "      <td>0.829050</td>\n",
       "      <td>500</td>\n",
       "      <td>10</td>\n",
       "      <td>10</td>\n",
       "      <td>3</td>\n",
       "    </tr>\n",
       "    <tr>\n",
       "      <th>3</th>\n",
       "      <td>0.829005</td>\n",
       "      <td>700</td>\n",
       "      <td>10</td>\n",
       "      <td>8</td>\n",
       "      <td>3</td>\n",
       "    </tr>\n",
       "    <tr>\n",
       "      <th>4</th>\n",
       "      <td>0.828998</td>\n",
       "      <td>500</td>\n",
       "      <td>10</td>\n",
       "      <td>8</td>\n",
       "      <td>3</td>\n",
       "    </tr>\n",
       "    <tr>\n",
       "      <th>5</th>\n",
       "      <td>0.828972</td>\n",
       "      <td>700</td>\n",
       "      <td>10</td>\n",
       "      <td>3</td>\n",
       "      <td>3</td>\n",
       "    </tr>\n",
       "  </tbody>\n",
       "</table>\n",
       "</div>"
      ],
      "text/plain": [
       "                 mean_test_score param_random_forest__n_estimators  \\\n",
       "rank_test_score                                                      \n",
       "1                       0.829052                               700   \n",
       "2                       0.829050                               500   \n",
       "3                       0.829005                               700   \n",
       "4                       0.828998                               500   \n",
       "5                       0.828972                               700   \n",
       "\n",
       "                param_random_forest__max_depth  \\\n",
       "rank_test_score                                  \n",
       "1                                           10   \n",
       "2                                           10   \n",
       "3                                           10   \n",
       "4                                           10   \n",
       "5                                           10   \n",
       "\n",
       "                param_random_forest__min_samples_split  \\\n",
       "rank_test_score                                          \n",
       "1                                                   10   \n",
       "2                                                   10   \n",
       "3                                                    8   \n",
       "4                                                    8   \n",
       "5                                                    3   \n",
       "\n",
       "                param_random_forest__min_samples_leaf  \n",
       "rank_test_score                                        \n",
       "1                                                   3  \n",
       "2                                                   3  \n",
       "3                                                   3  \n",
       "4                                                   3  \n",
       "5                                                   3  "
      ]
     },
     "metadata": {},
     "output_type": "display_data"
    }
   ],
   "source": [
    "report_GridSearchCV_results(rf_gs)"
   ]
  },
  {
   "cell_type": "code",
   "execution_count": 59,
   "metadata": {},
   "outputs": [
    {
     "data": {
      "text/html": [
       "<style>#sk-container-id-6 {color: black;}#sk-container-id-6 pre{padding: 0;}#sk-container-id-6 div.sk-toggleable {background-color: white;}#sk-container-id-6 label.sk-toggleable__label {cursor: pointer;display: block;width: 100%;margin-bottom: 0;padding: 0.3em;box-sizing: border-box;text-align: center;}#sk-container-id-6 label.sk-toggleable__label-arrow:before {content: \"▸\";float: left;margin-right: 0.25em;color: #696969;}#sk-container-id-6 label.sk-toggleable__label-arrow:hover:before {color: black;}#sk-container-id-6 div.sk-estimator:hover label.sk-toggleable__label-arrow:before {color: black;}#sk-container-id-6 div.sk-toggleable__content {max-height: 0;max-width: 0;overflow: hidden;text-align: left;background-color: #f0f8ff;}#sk-container-id-6 div.sk-toggleable__content pre {margin: 0.2em;color: black;border-radius: 0.25em;background-color: #f0f8ff;}#sk-container-id-6 input.sk-toggleable__control:checked~div.sk-toggleable__content {max-height: 200px;max-width: 100%;overflow: auto;}#sk-container-id-6 input.sk-toggleable__control:checked~label.sk-toggleable__label-arrow:before {content: \"▾\";}#sk-container-id-6 div.sk-estimator input.sk-toggleable__control:checked~label.sk-toggleable__label {background-color: #d4ebff;}#sk-container-id-6 div.sk-label input.sk-toggleable__control:checked~label.sk-toggleable__label {background-color: #d4ebff;}#sk-container-id-6 input.sk-hidden--visually {border: 0;clip: rect(1px 1px 1px 1px);clip: rect(1px, 1px, 1px, 1px);height: 1px;margin: -1px;overflow: hidden;padding: 0;position: absolute;width: 1px;}#sk-container-id-6 div.sk-estimator {font-family: monospace;background-color: #f0f8ff;border: 1px dotted black;border-radius: 0.25em;box-sizing: border-box;margin-bottom: 0.5em;}#sk-container-id-6 div.sk-estimator:hover {background-color: #d4ebff;}#sk-container-id-6 div.sk-parallel-item::after {content: \"\";width: 100%;border-bottom: 1px solid gray;flex-grow: 1;}#sk-container-id-6 div.sk-label:hover label.sk-toggleable__label {background-color: #d4ebff;}#sk-container-id-6 div.sk-serial::before {content: \"\";position: absolute;border-left: 1px solid gray;box-sizing: border-box;top: 0;bottom: 0;left: 50%;z-index: 0;}#sk-container-id-6 div.sk-serial {display: flex;flex-direction: column;align-items: center;background-color: white;padding-right: 0.2em;padding-left: 0.2em;position: relative;}#sk-container-id-6 div.sk-item {position: relative;z-index: 1;}#sk-container-id-6 div.sk-parallel {display: flex;align-items: stretch;justify-content: center;background-color: white;position: relative;}#sk-container-id-6 div.sk-item::before, #sk-container-id-6 div.sk-parallel-item::before {content: \"\";position: absolute;border-left: 1px solid gray;box-sizing: border-box;top: 0;bottom: 0;left: 50%;z-index: -1;}#sk-container-id-6 div.sk-parallel-item {display: flex;flex-direction: column;z-index: 1;position: relative;background-color: white;}#sk-container-id-6 div.sk-parallel-item:first-child::after {align-self: flex-end;width: 50%;}#sk-container-id-6 div.sk-parallel-item:last-child::after {align-self: flex-start;width: 50%;}#sk-container-id-6 div.sk-parallel-item:only-child::after {width: 0;}#sk-container-id-6 div.sk-dashed-wrapped {border: 1px dashed gray;margin: 0 0.4em 0.5em 0.4em;box-sizing: border-box;padding-bottom: 0.4em;background-color: white;}#sk-container-id-6 div.sk-label label {font-family: monospace;font-weight: bold;display: inline-block;line-height: 1.2em;}#sk-container-id-6 div.sk-label-container {text-align: center;}#sk-container-id-6 div.sk-container {/* jupyter's `normalize.less` sets `[hidden] { display: none; }` but bootstrap.min.css set `[hidden] { display: none !important; }` so we also need the `!important` here to be able to override the default hidden behavior on the sphinx rendered scikit-learn.org. See: https://github.com/scikit-learn/scikit-learn/issues/21755 */display: inline-block !important;position: relative;}#sk-container-id-6 div.sk-text-repr-fallback {display: none;}</style><div id=\"sk-container-id-6\" class=\"sk-top-container\"><div class=\"sk-text-repr-fallback\"><pre>RandomForestRegressor(max_depth=10, min_samples_leaf=3, min_samples_split=10,\n",
       "                      n_estimators=700, random_state=100)</pre><b>In a Jupyter environment, please rerun this cell to show the HTML representation or trust the notebook. <br />On GitHub, the HTML representation is unable to render, please try loading this page with nbviewer.org.</b></div><div class=\"sk-container\" hidden><div class=\"sk-item\"><div class=\"sk-estimator sk-toggleable\"><input class=\"sk-toggleable__control sk-hidden--visually\" id=\"sk-estimator-id-20\" type=\"checkbox\" checked><label for=\"sk-estimator-id-20\" class=\"sk-toggleable__label sk-toggleable__label-arrow\">RandomForestRegressor</label><div class=\"sk-toggleable__content\"><pre>RandomForestRegressor(max_depth=10, min_samples_leaf=3, min_samples_split=10,\n",
       "                      n_estimators=700, random_state=100)</pre></div></div></div></div></div>"
      ],
      "text/plain": [
       "RandomForestRegressor(max_depth=10, min_samples_leaf=3, min_samples_split=10,\n",
       "                      n_estimators=700, random_state=100)"
      ]
     },
     "execution_count": 59,
     "metadata": {},
     "output_type": "execute_result"
    }
   ],
   "source": [
    "# fitting the best model\n",
    "best_params_rf = {key.replace('random_forest__', ''): value for key, value in rf_gs.best_params_.items()}\n",
    "\n",
    "rf_reg = RandomForestRegressor(**best_params_rf,\n",
    "                             random_state = 100)\n",
    "\n",
    "rf_reg.fit(X_train_encoded_rf, y_train)"
   ]
  },
  {
   "cell_type": "markdown",
   "metadata": {},
   "source": [
    "## Gradient Boosting Regressor"
   ]
  },
  {
   "cell_type": "code",
   "execution_count": 60,
   "metadata": {},
   "outputs": [],
   "source": [
    "X_train_encoded_gb, X_test_encoded_gb, transformer_gb = preprocess(X_train, X_test, data)"
   ]
  },
  {
   "cell_type": "code",
   "execution_count": 64,
   "metadata": {},
   "outputs": [
    {
     "data": {
      "text/html": [
       "<style>#sk-container-id-8 {color: black;}#sk-container-id-8 pre{padding: 0;}#sk-container-id-8 div.sk-toggleable {background-color: white;}#sk-container-id-8 label.sk-toggleable__label {cursor: pointer;display: block;width: 100%;margin-bottom: 0;padding: 0.3em;box-sizing: border-box;text-align: center;}#sk-container-id-8 label.sk-toggleable__label-arrow:before {content: \"▸\";float: left;margin-right: 0.25em;color: #696969;}#sk-container-id-8 label.sk-toggleable__label-arrow:hover:before {color: black;}#sk-container-id-8 div.sk-estimator:hover label.sk-toggleable__label-arrow:before {color: black;}#sk-container-id-8 div.sk-toggleable__content {max-height: 0;max-width: 0;overflow: hidden;text-align: left;background-color: #f0f8ff;}#sk-container-id-8 div.sk-toggleable__content pre {margin: 0.2em;color: black;border-radius: 0.25em;background-color: #f0f8ff;}#sk-container-id-8 input.sk-toggleable__control:checked~div.sk-toggleable__content {max-height: 200px;max-width: 100%;overflow: auto;}#sk-container-id-8 input.sk-toggleable__control:checked~label.sk-toggleable__label-arrow:before {content: \"▾\";}#sk-container-id-8 div.sk-estimator input.sk-toggleable__control:checked~label.sk-toggleable__label {background-color: #d4ebff;}#sk-container-id-8 div.sk-label input.sk-toggleable__control:checked~label.sk-toggleable__label {background-color: #d4ebff;}#sk-container-id-8 input.sk-hidden--visually {border: 0;clip: rect(1px 1px 1px 1px);clip: rect(1px, 1px, 1px, 1px);height: 1px;margin: -1px;overflow: hidden;padding: 0;position: absolute;width: 1px;}#sk-container-id-8 div.sk-estimator {font-family: monospace;background-color: #f0f8ff;border: 1px dotted black;border-radius: 0.25em;box-sizing: border-box;margin-bottom: 0.5em;}#sk-container-id-8 div.sk-estimator:hover {background-color: #d4ebff;}#sk-container-id-8 div.sk-parallel-item::after {content: \"\";width: 100%;border-bottom: 1px solid gray;flex-grow: 1;}#sk-container-id-8 div.sk-label:hover label.sk-toggleable__label {background-color: #d4ebff;}#sk-container-id-8 div.sk-serial::before {content: \"\";position: absolute;border-left: 1px solid gray;box-sizing: border-box;top: 0;bottom: 0;left: 50%;z-index: 0;}#sk-container-id-8 div.sk-serial {display: flex;flex-direction: column;align-items: center;background-color: white;padding-right: 0.2em;padding-left: 0.2em;position: relative;}#sk-container-id-8 div.sk-item {position: relative;z-index: 1;}#sk-container-id-8 div.sk-parallel {display: flex;align-items: stretch;justify-content: center;background-color: white;position: relative;}#sk-container-id-8 div.sk-item::before, #sk-container-id-8 div.sk-parallel-item::before {content: \"\";position: absolute;border-left: 1px solid gray;box-sizing: border-box;top: 0;bottom: 0;left: 50%;z-index: -1;}#sk-container-id-8 div.sk-parallel-item {display: flex;flex-direction: column;z-index: 1;position: relative;background-color: white;}#sk-container-id-8 div.sk-parallel-item:first-child::after {align-self: flex-end;width: 50%;}#sk-container-id-8 div.sk-parallel-item:last-child::after {align-self: flex-start;width: 50%;}#sk-container-id-8 div.sk-parallel-item:only-child::after {width: 0;}#sk-container-id-8 div.sk-dashed-wrapped {border: 1px dashed gray;margin: 0 0.4em 0.5em 0.4em;box-sizing: border-box;padding-bottom: 0.4em;background-color: white;}#sk-container-id-8 div.sk-label label {font-family: monospace;font-weight: bold;display: inline-block;line-height: 1.2em;}#sk-container-id-8 div.sk-label-container {text-align: center;}#sk-container-id-8 div.sk-container {/* jupyter's `normalize.less` sets `[hidden] { display: none; }` but bootstrap.min.css set `[hidden] { display: none !important; }` so we also need the `!important` here to be able to override the default hidden behavior on the sphinx rendered scikit-learn.org. See: https://github.com/scikit-learn/scikit-learn/issues/21755 */display: inline-block !important;position: relative;}#sk-container-id-8 div.sk-text-repr-fallback {display: none;}</style><div id=\"sk-container-id-8\" class=\"sk-top-container\"><div class=\"sk-text-repr-fallback\"><pre>GradientBoostingRegressor(max_depth=5, min_samples_leaf=5, min_samples_split=5,\n",
       "                          random_state=100)</pre><b>In a Jupyter environment, please rerun this cell to show the HTML representation or trust the notebook. <br />On GitHub, the HTML representation is unable to render, please try loading this page with nbviewer.org.</b></div><div class=\"sk-container\" hidden><div class=\"sk-item\"><div class=\"sk-estimator sk-toggleable\"><input class=\"sk-toggleable__control sk-hidden--visually\" id=\"sk-estimator-id-22\" type=\"checkbox\" checked><label for=\"sk-estimator-id-22\" class=\"sk-toggleable__label sk-toggleable__label-arrow\">GradientBoostingRegressor</label><div class=\"sk-toggleable__content\"><pre>GradientBoostingRegressor(max_depth=5, min_samples_leaf=5, min_samples_split=5,\n",
       "                          random_state=100)</pre></div></div></div></div></div>"
      ],
      "text/plain": [
       "GradientBoostingRegressor(max_depth=5, min_samples_leaf=5, min_samples_split=5,\n",
       "                          random_state=100)"
      ]
     },
     "execution_count": 64,
     "metadata": {},
     "output_type": "execute_result"
    }
   ],
   "source": [
    "gb = GradientBoostingRegressor(n_estimators = 100,\n",
    "                               max_depth = 5,\n",
    "                               min_samples_split = 5,\n",
    "                               min_samples_leaf = 5,\n",
    "                               random_state = 100)\n",
    "\n",
    "gb.fit(X_train_encoded_gb, y_train)"
   ]
  },
  {
   "cell_type": "code",
   "execution_count": 65,
   "metadata": {},
   "outputs": [],
   "source": [
    "# creating a pipeline\n",
    "pipeline_gb = Pipeline([(\"transformer\", transformer_gb), (\"gb\", gb)])"
   ]
  },
  {
   "cell_type": "code",
   "execution_count": 66,
   "metadata": {},
   "outputs": [
    {
     "name": "stdout",
     "output_type": "stream",
     "text": [
      "Mean Test Score: 0.8108951541003254\n",
      "\n",
      "\n"
     ]
    },
    {
     "data": {
      "text/html": [
       "<div>\n",
       "<style scoped>\n",
       "    .dataframe tbody tr th:only-of-type {\n",
       "        vertical-align: middle;\n",
       "    }\n",
       "\n",
       "    .dataframe tbody tr th {\n",
       "        vertical-align: top;\n",
       "    }\n",
       "\n",
       "    .dataframe thead th {\n",
       "        text-align: right;\n",
       "    }\n",
       "</style>\n",
       "<table border=\"1\" class=\"dataframe\">\n",
       "  <thead>\n",
       "    <tr style=\"text-align: right;\">\n",
       "      <th></th>\n",
       "      <th>fit_time</th>\n",
       "      <th>score_time</th>\n",
       "      <th>test_score</th>\n",
       "      <th>train_score</th>\n",
       "    </tr>\n",
       "  </thead>\n",
       "  <tbody>\n",
       "    <tr>\n",
       "      <th>0</th>\n",
       "      <td>3.255995</td>\n",
       "      <td>0.008698</td>\n",
       "      <td>0.807197</td>\n",
       "      <td>0.821708</td>\n",
       "    </tr>\n",
       "    <tr>\n",
       "      <th>1</th>\n",
       "      <td>3.240663</td>\n",
       "      <td>0.009179</td>\n",
       "      <td>0.821825</td>\n",
       "      <td>0.819846</td>\n",
       "    </tr>\n",
       "    <tr>\n",
       "      <th>2</th>\n",
       "      <td>3.200232</td>\n",
       "      <td>0.008475</td>\n",
       "      <td>0.795117</td>\n",
       "      <td>0.823182</td>\n",
       "    </tr>\n",
       "    <tr>\n",
       "      <th>3</th>\n",
       "      <td>3.227029</td>\n",
       "      <td>0.008794</td>\n",
       "      <td>0.809535</td>\n",
       "      <td>0.822067</td>\n",
       "    </tr>\n",
       "    <tr>\n",
       "      <th>4</th>\n",
       "      <td>3.206285</td>\n",
       "      <td>0.008932</td>\n",
       "      <td>0.817070</td>\n",
       "      <td>0.821478</td>\n",
       "    </tr>\n",
       "    <tr>\n",
       "      <th>5</th>\n",
       "      <td>3.240902</td>\n",
       "      <td>0.009349</td>\n",
       "      <td>0.805293</td>\n",
       "      <td>0.819627</td>\n",
       "    </tr>\n",
       "    <tr>\n",
       "      <th>6</th>\n",
       "      <td>3.231361</td>\n",
       "      <td>0.008814</td>\n",
       "      <td>0.813175</td>\n",
       "      <td>0.820972</td>\n",
       "    </tr>\n",
       "    <tr>\n",
       "      <th>7</th>\n",
       "      <td>3.224168</td>\n",
       "      <td>0.008684</td>\n",
       "      <td>0.811644</td>\n",
       "      <td>0.819755</td>\n",
       "    </tr>\n",
       "    <tr>\n",
       "      <th>8</th>\n",
       "      <td>3.214563</td>\n",
       "      <td>0.008413</td>\n",
       "      <td>0.816571</td>\n",
       "      <td>0.819785</td>\n",
       "    </tr>\n",
       "    <tr>\n",
       "      <th>9</th>\n",
       "      <td>3.208800</td>\n",
       "      <td>0.008613</td>\n",
       "      <td>0.811524</td>\n",
       "      <td>0.820379</td>\n",
       "    </tr>\n",
       "  </tbody>\n",
       "</table>\n",
       "</div>"
      ],
      "text/plain": [
       "   fit_time  score_time  test_score  train_score\n",
       "0  3.255995    0.008698    0.807197     0.821708\n",
       "1  3.240663    0.009179    0.821825     0.819846\n",
       "2  3.200232    0.008475    0.795117     0.823182\n",
       "3  3.227029    0.008794    0.809535     0.822067\n",
       "4  3.206285    0.008932    0.817070     0.821478\n",
       "5  3.240902    0.009349    0.805293     0.819627\n",
       "6  3.231361    0.008814    0.813175     0.820972\n",
       "7  3.224168    0.008684    0.811644     0.819755\n",
       "8  3.214563    0.008413    0.816571     0.819785\n",
       "9  3.208800    0.008613    0.811524     0.820379"
      ]
     },
     "metadata": {},
     "output_type": "display_data"
    }
   ],
   "source": [
    "# getting CV results\n",
    "get_CV_results(pipeline_gb, X_train, y_train)"
   ]
  },
  {
   "cell_type": "code",
   "execution_count": 70,
   "metadata": {},
   "outputs": [
    {
     "data": {
      "text/html": [
       "<style>#sk-container-id-11 {color: black;}#sk-container-id-11 pre{padding: 0;}#sk-container-id-11 div.sk-toggleable {background-color: white;}#sk-container-id-11 label.sk-toggleable__label {cursor: pointer;display: block;width: 100%;margin-bottom: 0;padding: 0.3em;box-sizing: border-box;text-align: center;}#sk-container-id-11 label.sk-toggleable__label-arrow:before {content: \"▸\";float: left;margin-right: 0.25em;color: #696969;}#sk-container-id-11 label.sk-toggleable__label-arrow:hover:before {color: black;}#sk-container-id-11 div.sk-estimator:hover label.sk-toggleable__label-arrow:before {color: black;}#sk-container-id-11 div.sk-toggleable__content {max-height: 0;max-width: 0;overflow: hidden;text-align: left;background-color: #f0f8ff;}#sk-container-id-11 div.sk-toggleable__content pre {margin: 0.2em;color: black;border-radius: 0.25em;background-color: #f0f8ff;}#sk-container-id-11 input.sk-toggleable__control:checked~div.sk-toggleable__content {max-height: 200px;max-width: 100%;overflow: auto;}#sk-container-id-11 input.sk-toggleable__control:checked~label.sk-toggleable__label-arrow:before {content: \"▾\";}#sk-container-id-11 div.sk-estimator input.sk-toggleable__control:checked~label.sk-toggleable__label {background-color: #d4ebff;}#sk-container-id-11 div.sk-label input.sk-toggleable__control:checked~label.sk-toggleable__label {background-color: #d4ebff;}#sk-container-id-11 input.sk-hidden--visually {border: 0;clip: rect(1px 1px 1px 1px);clip: rect(1px, 1px, 1px, 1px);height: 1px;margin: -1px;overflow: hidden;padding: 0;position: absolute;width: 1px;}#sk-container-id-11 div.sk-estimator {font-family: monospace;background-color: #f0f8ff;border: 1px dotted black;border-radius: 0.25em;box-sizing: border-box;margin-bottom: 0.5em;}#sk-container-id-11 div.sk-estimator:hover {background-color: #d4ebff;}#sk-container-id-11 div.sk-parallel-item::after {content: \"\";width: 100%;border-bottom: 1px solid gray;flex-grow: 1;}#sk-container-id-11 div.sk-label:hover label.sk-toggleable__label {background-color: #d4ebff;}#sk-container-id-11 div.sk-serial::before {content: \"\";position: absolute;border-left: 1px solid gray;box-sizing: border-box;top: 0;bottom: 0;left: 50%;z-index: 0;}#sk-container-id-11 div.sk-serial {display: flex;flex-direction: column;align-items: center;background-color: white;padding-right: 0.2em;padding-left: 0.2em;position: relative;}#sk-container-id-11 div.sk-item {position: relative;z-index: 1;}#sk-container-id-11 div.sk-parallel {display: flex;align-items: stretch;justify-content: center;background-color: white;position: relative;}#sk-container-id-11 div.sk-item::before, #sk-container-id-11 div.sk-parallel-item::before {content: \"\";position: absolute;border-left: 1px solid gray;box-sizing: border-box;top: 0;bottom: 0;left: 50%;z-index: -1;}#sk-container-id-11 div.sk-parallel-item {display: flex;flex-direction: column;z-index: 1;position: relative;background-color: white;}#sk-container-id-11 div.sk-parallel-item:first-child::after {align-self: flex-end;width: 50%;}#sk-container-id-11 div.sk-parallel-item:last-child::after {align-self: flex-start;width: 50%;}#sk-container-id-11 div.sk-parallel-item:only-child::after {width: 0;}#sk-container-id-11 div.sk-dashed-wrapped {border: 1px dashed gray;margin: 0 0.4em 0.5em 0.4em;box-sizing: border-box;padding-bottom: 0.4em;background-color: white;}#sk-container-id-11 div.sk-label label {font-family: monospace;font-weight: bold;display: inline-block;line-height: 1.2em;}#sk-container-id-11 div.sk-label-container {text-align: center;}#sk-container-id-11 div.sk-container {/* jupyter's `normalize.less` sets `[hidden] { display: none; }` but bootstrap.min.css set `[hidden] { display: none !important; }` so we also need the `!important` here to be able to override the default hidden behavior on the sphinx rendered scikit-learn.org. See: https://github.com/scikit-learn/scikit-learn/issues/21755 */display: inline-block !important;position: relative;}#sk-container-id-11 div.sk-text-repr-fallback {display: none;}</style><div id=\"sk-container-id-11\" class=\"sk-top-container\"><div class=\"sk-text-repr-fallback\"><pre>GridSearchCV(cv=5,\n",
       "             estimator=Pipeline(steps=[(&#x27;transformer&#x27;,\n",
       "                                        ColumnTransformer(remainder=&#x27;passthrough&#x27;,\n",
       "                                                          transformers=[(&#x27;categorical&#x27;,\n",
       "                                                                         OneHotEncoder(handle_unknown=&#x27;ignore&#x27;,\n",
       "                                                                                       sparse_output=False),\n",
       "                                                                         [&#x27;Weatherconditions&#x27;,\n",
       "                                                                          &#x27;Road_traffic_density&#x27;,\n",
       "                                                                          &#x27;Vehicle_condition&#x27;,\n",
       "                                                                          &#x27;Type_of_order&#x27;,\n",
       "                                                                          &#x27;Type_of_vehicle&#x27;,\n",
       "                                                                          &#x27;Time_of_Day_Orderd&#x27;,\n",
       "                                                                          &#x27;Region&#x27;])])),\n",
       "                                       (&#x27;gb&#x27;,\n",
       "                                        GradientBoostingRegressor(max_depth=5,\n",
       "                                                                  min_samples_leaf=5,\n",
       "                                                                  min_samples_split=5,\n",
       "                                                                  random_state=100))]),\n",
       "             n_jobs=-1,\n",
       "             param_grid={&#x27;gb__max_depth&#x27;: [2, 3, 5, 8],\n",
       "                         &#x27;gb__min_samples_leaf&#x27;: [2, 3, 5, 8],\n",
       "                         &#x27;gb__min_samples_split&#x27;: [2, 3, 5, 8],\n",
       "                         &#x27;gb__n_estimators&#x27;: [50, 60, 80, 100]},\n",
       "             return_train_score=True, scoring=&#x27;r2&#x27;)</pre><b>In a Jupyter environment, please rerun this cell to show the HTML representation or trust the notebook. <br />On GitHub, the HTML representation is unable to render, please try loading this page with nbviewer.org.</b></div><div class=\"sk-container\" hidden><div class=\"sk-item sk-dashed-wrapped\"><div class=\"sk-label-container\"><div class=\"sk-label sk-toggleable\"><input class=\"sk-toggleable__control sk-hidden--visually\" id=\"sk-estimator-id-39\" type=\"checkbox\" ><label for=\"sk-estimator-id-39\" class=\"sk-toggleable__label sk-toggleable__label-arrow\">GridSearchCV</label><div class=\"sk-toggleable__content\"><pre>GridSearchCV(cv=5,\n",
       "             estimator=Pipeline(steps=[(&#x27;transformer&#x27;,\n",
       "                                        ColumnTransformer(remainder=&#x27;passthrough&#x27;,\n",
       "                                                          transformers=[(&#x27;categorical&#x27;,\n",
       "                                                                         OneHotEncoder(handle_unknown=&#x27;ignore&#x27;,\n",
       "                                                                                       sparse_output=False),\n",
       "                                                                         [&#x27;Weatherconditions&#x27;,\n",
       "                                                                          &#x27;Road_traffic_density&#x27;,\n",
       "                                                                          &#x27;Vehicle_condition&#x27;,\n",
       "                                                                          &#x27;Type_of_order&#x27;,\n",
       "                                                                          &#x27;Type_of_vehicle&#x27;,\n",
       "                                                                          &#x27;Time_of_Day_Orderd&#x27;,\n",
       "                                                                          &#x27;Region&#x27;])])),\n",
       "                                       (&#x27;gb&#x27;,\n",
       "                                        GradientBoostingRegressor(max_depth=5,\n",
       "                                                                  min_samples_leaf=5,\n",
       "                                                                  min_samples_split=5,\n",
       "                                                                  random_state=100))]),\n",
       "             n_jobs=-1,\n",
       "             param_grid={&#x27;gb__max_depth&#x27;: [2, 3, 5, 8],\n",
       "                         &#x27;gb__min_samples_leaf&#x27;: [2, 3, 5, 8],\n",
       "                         &#x27;gb__min_samples_split&#x27;: [2, 3, 5, 8],\n",
       "                         &#x27;gb__n_estimators&#x27;: [50, 60, 80, 100]},\n",
       "             return_train_score=True, scoring=&#x27;r2&#x27;)</pre></div></div></div><div class=\"sk-parallel\"><div class=\"sk-parallel-item\"><div class=\"sk-item\"><div class=\"sk-label-container\"><div class=\"sk-label sk-toggleable\"><input class=\"sk-toggleable__control sk-hidden--visually\" id=\"sk-estimator-id-40\" type=\"checkbox\" ><label for=\"sk-estimator-id-40\" class=\"sk-toggleable__label sk-toggleable__label-arrow\">estimator: Pipeline</label><div class=\"sk-toggleable__content\"><pre>Pipeline(steps=[(&#x27;transformer&#x27;,\n",
       "                 ColumnTransformer(remainder=&#x27;passthrough&#x27;,\n",
       "                                   transformers=[(&#x27;categorical&#x27;,\n",
       "                                                  OneHotEncoder(handle_unknown=&#x27;ignore&#x27;,\n",
       "                                                                sparse_output=False),\n",
       "                                                  [&#x27;Weatherconditions&#x27;,\n",
       "                                                   &#x27;Road_traffic_density&#x27;,\n",
       "                                                   &#x27;Vehicle_condition&#x27;,\n",
       "                                                   &#x27;Type_of_order&#x27;,\n",
       "                                                   &#x27;Type_of_vehicle&#x27;,\n",
       "                                                   &#x27;Time_of_Day_Orderd&#x27;,\n",
       "                                                   &#x27;Region&#x27;])])),\n",
       "                (&#x27;gb&#x27;,\n",
       "                 GradientBoostingRegressor(max_depth=5, min_samples_leaf=5,\n",
       "                                           min_samples_split=5,\n",
       "                                           random_state=100))])</pre></div></div></div><div class=\"sk-serial\"><div class=\"sk-item\"><div class=\"sk-serial\"><div class=\"sk-item sk-dashed-wrapped\"><div class=\"sk-label-container\"><div class=\"sk-label sk-toggleable\"><input class=\"sk-toggleable__control sk-hidden--visually\" id=\"sk-estimator-id-41\" type=\"checkbox\" ><label for=\"sk-estimator-id-41\" class=\"sk-toggleable__label sk-toggleable__label-arrow\">transformer: ColumnTransformer</label><div class=\"sk-toggleable__content\"><pre>ColumnTransformer(remainder=&#x27;passthrough&#x27;,\n",
       "                  transformers=[(&#x27;categorical&#x27;,\n",
       "                                 OneHotEncoder(handle_unknown=&#x27;ignore&#x27;,\n",
       "                                               sparse_output=False),\n",
       "                                 [&#x27;Weatherconditions&#x27;, &#x27;Road_traffic_density&#x27;,\n",
       "                                  &#x27;Vehicle_condition&#x27;, &#x27;Type_of_order&#x27;,\n",
       "                                  &#x27;Type_of_vehicle&#x27;, &#x27;Time_of_Day_Orderd&#x27;,\n",
       "                                  &#x27;Region&#x27;])])</pre></div></div></div><div class=\"sk-parallel\"><div class=\"sk-parallel-item\"><div class=\"sk-item\"><div class=\"sk-label-container\"><div class=\"sk-label sk-toggleable\"><input class=\"sk-toggleable__control sk-hidden--visually\" id=\"sk-estimator-id-42\" type=\"checkbox\" ><label for=\"sk-estimator-id-42\" class=\"sk-toggleable__label sk-toggleable__label-arrow\">categorical</label><div class=\"sk-toggleable__content\"><pre>[&#x27;Weatherconditions&#x27;, &#x27;Road_traffic_density&#x27;, &#x27;Vehicle_condition&#x27;, &#x27;Type_of_order&#x27;, &#x27;Type_of_vehicle&#x27;, &#x27;Time_of_Day_Orderd&#x27;, &#x27;Region&#x27;]</pre></div></div></div><div class=\"sk-serial\"><div class=\"sk-item\"><div class=\"sk-estimator sk-toggleable\"><input class=\"sk-toggleable__control sk-hidden--visually\" id=\"sk-estimator-id-43\" type=\"checkbox\" ><label for=\"sk-estimator-id-43\" class=\"sk-toggleable__label sk-toggleable__label-arrow\">OneHotEncoder</label><div class=\"sk-toggleable__content\"><pre>OneHotEncoder(handle_unknown=&#x27;ignore&#x27;, sparse_output=False)</pre></div></div></div></div></div></div><div class=\"sk-parallel-item\"><div class=\"sk-item\"><div class=\"sk-label-container\"><div class=\"sk-label sk-toggleable\"><input class=\"sk-toggleable__control sk-hidden--visually\" id=\"sk-estimator-id-44\" type=\"checkbox\" ><label for=\"sk-estimator-id-44\" class=\"sk-toggleable__label sk-toggleable__label-arrow\">remainder</label><div class=\"sk-toggleable__content\"><pre>[&#x27;Delivery_person_Age&#x27;, &#x27;Satisfaction_Perc&#x27;, &#x27;Distance&#x27;]</pre></div></div></div><div class=\"sk-serial\"><div class=\"sk-item\"><div class=\"sk-estimator sk-toggleable\"><input class=\"sk-toggleable__control sk-hidden--visually\" id=\"sk-estimator-id-45\" type=\"checkbox\" ><label for=\"sk-estimator-id-45\" class=\"sk-toggleable__label sk-toggleable__label-arrow\">passthrough</label><div class=\"sk-toggleable__content\"><pre>passthrough</pre></div></div></div></div></div></div></div></div><div class=\"sk-item\"><div class=\"sk-estimator sk-toggleable\"><input class=\"sk-toggleable__control sk-hidden--visually\" id=\"sk-estimator-id-46\" type=\"checkbox\" ><label for=\"sk-estimator-id-46\" class=\"sk-toggleable__label sk-toggleable__label-arrow\">GradientBoostingRegressor</label><div class=\"sk-toggleable__content\"><pre>GradientBoostingRegressor(max_depth=5, min_samples_leaf=5, min_samples_split=5,\n",
       "                          random_state=100)</pre></div></div></div></div></div></div></div></div></div></div></div></div>"
      ],
      "text/plain": [
       "GridSearchCV(cv=5,\n",
       "             estimator=Pipeline(steps=[('transformer',\n",
       "                                        ColumnTransformer(remainder='passthrough',\n",
       "                                                          transformers=[('categorical',\n",
       "                                                                         OneHotEncoder(handle_unknown='ignore',\n",
       "                                                                                       sparse_output=False),\n",
       "                                                                         ['Weatherconditions',\n",
       "                                                                          'Road_traffic_density',\n",
       "                                                                          'Vehicle_condition',\n",
       "                                                                          'Type_of_order',\n",
       "                                                                          'Type_of_vehicle',\n",
       "                                                                          'Time_of_Day_Orderd',\n",
       "                                                                          'Region'])])),\n",
       "                                       ('gb',\n",
       "                                        GradientBoostingRegressor(max_depth=5,\n",
       "                                                                  min_samples_leaf=5,\n",
       "                                                                  min_samples_split=5,\n",
       "                                                                  random_state=100))]),\n",
       "             n_jobs=-1,\n",
       "             param_grid={'gb__max_depth': [2, 3, 5, 8],\n",
       "                         'gb__min_samples_leaf': [2, 3, 5, 8],\n",
       "                         'gb__min_samples_split': [2, 3, 5, 8],\n",
       "                         'gb__n_estimators': [50, 60, 80, 100]},\n",
       "             return_train_score=True, scoring='r2')"
      ]
     },
     "execution_count": 70,
     "metadata": {},
     "output_type": "execute_result"
    }
   ],
   "source": [
    "# hyperparameters tuning\n",
    "grid_gb = {\n",
    "    'gb__n_estimators': [50, 60, 80, 100],\n",
    "    'gb__max_depth': [2, 3, 5, 8],\n",
    "    'gb__min_samples_split': [2, 3, 5, 8],\n",
    "    'gb__min_samples_leaf': [2, 3, 5, 8]\n",
    "}\n",
    "\n",
    "gb_gs = GridSearchCV(estimator = pipeline_gb,\n",
    "                      param_grid = grid_gb,\n",
    "                      cv = 5,\n",
    "                      n_jobs = -1,\n",
    "                      return_train_score = True,\n",
    "                      scoring = 'r2')\n",
    "\n",
    "gb_gs.fit(X_train, y_train)"
   ]
  },
  {
   "cell_type": "code",
   "execution_count": 71,
   "metadata": {},
   "outputs": [
    {
     "name": "stdout",
     "output_type": "stream",
     "text": [
      "Best combination of hyperparams:\n",
      " {'gb__max_depth': 8, 'gb__min_samples_leaf': 3, 'gb__min_samples_split': 2, 'gb__n_estimators': 50} \n",
      "\n",
      "Best mean_test_score score:\n",
      " 0.8251906100578397 \n",
      "\n",
      "Score by fold for best estimator:\n",
      " [0.8270832913914502, 0.8159901834228904, 0.8274656623478038, 0.8263268595797213, 0.8290870535473331] \n",
      "\n",
      "Top 5 hyperparams combinations by mean_test_score:\n"
     ]
    },
    {
     "data": {
      "text/html": [
       "<div>\n",
       "<style scoped>\n",
       "    .dataframe tbody tr th:only-of-type {\n",
       "        vertical-align: middle;\n",
       "    }\n",
       "\n",
       "    .dataframe tbody tr th {\n",
       "        vertical-align: top;\n",
       "    }\n",
       "\n",
       "    .dataframe thead th {\n",
       "        text-align: right;\n",
       "    }\n",
       "</style>\n",
       "<table border=\"1\" class=\"dataframe\">\n",
       "  <thead>\n",
       "    <tr style=\"text-align: right;\">\n",
       "      <th></th>\n",
       "      <th>mean_test_score</th>\n",
       "      <th>param_gb__n_estimators</th>\n",
       "      <th>param_gb__max_depth</th>\n",
       "      <th>param_gb__min_samples_split</th>\n",
       "      <th>param_gb__min_samples_leaf</th>\n",
       "    </tr>\n",
       "    <tr>\n",
       "      <th>rank_test_score</th>\n",
       "      <th></th>\n",
       "      <th></th>\n",
       "      <th></th>\n",
       "      <th></th>\n",
       "      <th></th>\n",
       "    </tr>\n",
       "  </thead>\n",
       "  <tbody>\n",
       "    <tr>\n",
       "      <th>1</th>\n",
       "      <td>0.825191</td>\n",
       "      <td>50</td>\n",
       "      <td>8</td>\n",
       "      <td>3</td>\n",
       "      <td>3</td>\n",
       "    </tr>\n",
       "    <tr>\n",
       "      <th>1</th>\n",
       "      <td>0.825191</td>\n",
       "      <td>50</td>\n",
       "      <td>8</td>\n",
       "      <td>5</td>\n",
       "      <td>3</td>\n",
       "    </tr>\n",
       "    <tr>\n",
       "      <th>1</th>\n",
       "      <td>0.825191</td>\n",
       "      <td>50</td>\n",
       "      <td>8</td>\n",
       "      <td>2</td>\n",
       "      <td>3</td>\n",
       "    </tr>\n",
       "    <tr>\n",
       "      <th>4</th>\n",
       "      <td>0.825125</td>\n",
       "      <td>50</td>\n",
       "      <td>8</td>\n",
       "      <td>8</td>\n",
       "      <td>8</td>\n",
       "    </tr>\n",
       "    <tr>\n",
       "      <th>4</th>\n",
       "      <td>0.825125</td>\n",
       "      <td>50</td>\n",
       "      <td>8</td>\n",
       "      <td>5</td>\n",
       "      <td>8</td>\n",
       "    </tr>\n",
       "  </tbody>\n",
       "</table>\n",
       "</div>"
      ],
      "text/plain": [
       "                 mean_test_score param_gb__n_estimators param_gb__max_depth  \\\n",
       "rank_test_score                                                               \n",
       "1                       0.825191                     50                   8   \n",
       "1                       0.825191                     50                   8   \n",
       "1                       0.825191                     50                   8   \n",
       "4                       0.825125                     50                   8   \n",
       "4                       0.825125                     50                   8   \n",
       "\n",
       "                param_gb__min_samples_split param_gb__min_samples_leaf  \n",
       "rank_test_score                                                         \n",
       "1                                         3                          3  \n",
       "1                                         5                          3  \n",
       "1                                         2                          3  \n",
       "4                                         8                          8  \n",
       "4                                         5                          8  "
      ]
     },
     "metadata": {},
     "output_type": "display_data"
    }
   ],
   "source": [
    "# getting best hyperparameters\n",
    "report_GridSearchCV_results(gb_gs)"
   ]
  },
  {
   "cell_type": "code",
   "execution_count": 72,
   "metadata": {},
   "outputs": [
    {
     "data": {
      "text/html": [
       "<style>#sk-container-id-12 {color: black;}#sk-container-id-12 pre{padding: 0;}#sk-container-id-12 div.sk-toggleable {background-color: white;}#sk-container-id-12 label.sk-toggleable__label {cursor: pointer;display: block;width: 100%;margin-bottom: 0;padding: 0.3em;box-sizing: border-box;text-align: center;}#sk-container-id-12 label.sk-toggleable__label-arrow:before {content: \"▸\";float: left;margin-right: 0.25em;color: #696969;}#sk-container-id-12 label.sk-toggleable__label-arrow:hover:before {color: black;}#sk-container-id-12 div.sk-estimator:hover label.sk-toggleable__label-arrow:before {color: black;}#sk-container-id-12 div.sk-toggleable__content {max-height: 0;max-width: 0;overflow: hidden;text-align: left;background-color: #f0f8ff;}#sk-container-id-12 div.sk-toggleable__content pre {margin: 0.2em;color: black;border-radius: 0.25em;background-color: #f0f8ff;}#sk-container-id-12 input.sk-toggleable__control:checked~div.sk-toggleable__content {max-height: 200px;max-width: 100%;overflow: auto;}#sk-container-id-12 input.sk-toggleable__control:checked~label.sk-toggleable__label-arrow:before {content: \"▾\";}#sk-container-id-12 div.sk-estimator input.sk-toggleable__control:checked~label.sk-toggleable__label {background-color: #d4ebff;}#sk-container-id-12 div.sk-label input.sk-toggleable__control:checked~label.sk-toggleable__label {background-color: #d4ebff;}#sk-container-id-12 input.sk-hidden--visually {border: 0;clip: rect(1px 1px 1px 1px);clip: rect(1px, 1px, 1px, 1px);height: 1px;margin: -1px;overflow: hidden;padding: 0;position: absolute;width: 1px;}#sk-container-id-12 div.sk-estimator {font-family: monospace;background-color: #f0f8ff;border: 1px dotted black;border-radius: 0.25em;box-sizing: border-box;margin-bottom: 0.5em;}#sk-container-id-12 div.sk-estimator:hover {background-color: #d4ebff;}#sk-container-id-12 div.sk-parallel-item::after {content: \"\";width: 100%;border-bottom: 1px solid gray;flex-grow: 1;}#sk-container-id-12 div.sk-label:hover label.sk-toggleable__label {background-color: #d4ebff;}#sk-container-id-12 div.sk-serial::before {content: \"\";position: absolute;border-left: 1px solid gray;box-sizing: border-box;top: 0;bottom: 0;left: 50%;z-index: 0;}#sk-container-id-12 div.sk-serial {display: flex;flex-direction: column;align-items: center;background-color: white;padding-right: 0.2em;padding-left: 0.2em;position: relative;}#sk-container-id-12 div.sk-item {position: relative;z-index: 1;}#sk-container-id-12 div.sk-parallel {display: flex;align-items: stretch;justify-content: center;background-color: white;position: relative;}#sk-container-id-12 div.sk-item::before, #sk-container-id-12 div.sk-parallel-item::before {content: \"\";position: absolute;border-left: 1px solid gray;box-sizing: border-box;top: 0;bottom: 0;left: 50%;z-index: -1;}#sk-container-id-12 div.sk-parallel-item {display: flex;flex-direction: column;z-index: 1;position: relative;background-color: white;}#sk-container-id-12 div.sk-parallel-item:first-child::after {align-self: flex-end;width: 50%;}#sk-container-id-12 div.sk-parallel-item:last-child::after {align-self: flex-start;width: 50%;}#sk-container-id-12 div.sk-parallel-item:only-child::after {width: 0;}#sk-container-id-12 div.sk-dashed-wrapped {border: 1px dashed gray;margin: 0 0.4em 0.5em 0.4em;box-sizing: border-box;padding-bottom: 0.4em;background-color: white;}#sk-container-id-12 div.sk-label label {font-family: monospace;font-weight: bold;display: inline-block;line-height: 1.2em;}#sk-container-id-12 div.sk-label-container {text-align: center;}#sk-container-id-12 div.sk-container {/* jupyter's `normalize.less` sets `[hidden] { display: none; }` but bootstrap.min.css set `[hidden] { display: none !important; }` so we also need the `!important` here to be able to override the default hidden behavior on the sphinx rendered scikit-learn.org. See: https://github.com/scikit-learn/scikit-learn/issues/21755 */display: inline-block !important;position: relative;}#sk-container-id-12 div.sk-text-repr-fallback {display: none;}</style><div id=\"sk-container-id-12\" class=\"sk-top-container\"><div class=\"sk-text-repr-fallback\"><pre>GradientBoostingRegressor(max_depth=8, min_samples_leaf=3, n_estimators=50,\n",
       "                          random_state=100)</pre><b>In a Jupyter environment, please rerun this cell to show the HTML representation or trust the notebook. <br />On GitHub, the HTML representation is unable to render, please try loading this page with nbviewer.org.</b></div><div class=\"sk-container\" hidden><div class=\"sk-item\"><div class=\"sk-estimator sk-toggleable\"><input class=\"sk-toggleable__control sk-hidden--visually\" id=\"sk-estimator-id-47\" type=\"checkbox\" checked><label for=\"sk-estimator-id-47\" class=\"sk-toggleable__label sk-toggleable__label-arrow\">GradientBoostingRegressor</label><div class=\"sk-toggleable__content\"><pre>GradientBoostingRegressor(max_depth=8, min_samples_leaf=3, n_estimators=50,\n",
       "                          random_state=100)</pre></div></div></div></div></div>"
      ],
      "text/plain": [
       "GradientBoostingRegressor(max_depth=8, min_samples_leaf=3, n_estimators=50,\n",
       "                          random_state=100)"
      ]
     },
     "execution_count": 72,
     "metadata": {},
     "output_type": "execute_result"
    }
   ],
   "source": [
    "# fitting the best model\n",
    "best_params_gb = {key.replace('gb__', ''): value for key, value in gb_gs.best_params_.items()}\n",
    "\n",
    "gb_reg = GradientBoostingRegressor(**best_params_gb,\n",
    "                             random_state = 100)\n",
    "\n",
    "gb_reg.fit(X_train_encoded_gb, y_train)"
   ]
  },
  {
   "cell_type": "markdown",
   "metadata": {},
   "source": [
    "## Multi-Layer Perceptron (MLP) Regressor"
   ]
  },
  {
   "cell_type": "code",
   "execution_count": 73,
   "metadata": {},
   "outputs": [],
   "source": [
    "# unpacking values\n",
    "X_train_encoded_nn, X_test_encoded_nn, transformer_nn = preprocess(X_train, X_test, data)"
   ]
  },
  {
   "cell_type": "code",
   "execution_count": 79,
   "metadata": {},
   "outputs": [
    {
     "data": {
      "text/html": [
       "<style>#sk-container-id-14 {color: black;}#sk-container-id-14 pre{padding: 0;}#sk-container-id-14 div.sk-toggleable {background-color: white;}#sk-container-id-14 label.sk-toggleable__label {cursor: pointer;display: block;width: 100%;margin-bottom: 0;padding: 0.3em;box-sizing: border-box;text-align: center;}#sk-container-id-14 label.sk-toggleable__label-arrow:before {content: \"▸\";float: left;margin-right: 0.25em;color: #696969;}#sk-container-id-14 label.sk-toggleable__label-arrow:hover:before {color: black;}#sk-container-id-14 div.sk-estimator:hover label.sk-toggleable__label-arrow:before {color: black;}#sk-container-id-14 div.sk-toggleable__content {max-height: 0;max-width: 0;overflow: hidden;text-align: left;background-color: #f0f8ff;}#sk-container-id-14 div.sk-toggleable__content pre {margin: 0.2em;color: black;border-radius: 0.25em;background-color: #f0f8ff;}#sk-container-id-14 input.sk-toggleable__control:checked~div.sk-toggleable__content {max-height: 200px;max-width: 100%;overflow: auto;}#sk-container-id-14 input.sk-toggleable__control:checked~label.sk-toggleable__label-arrow:before {content: \"▾\";}#sk-container-id-14 div.sk-estimator input.sk-toggleable__control:checked~label.sk-toggleable__label {background-color: #d4ebff;}#sk-container-id-14 div.sk-label input.sk-toggleable__control:checked~label.sk-toggleable__label {background-color: #d4ebff;}#sk-container-id-14 input.sk-hidden--visually {border: 0;clip: rect(1px 1px 1px 1px);clip: rect(1px, 1px, 1px, 1px);height: 1px;margin: -1px;overflow: hidden;padding: 0;position: absolute;width: 1px;}#sk-container-id-14 div.sk-estimator {font-family: monospace;background-color: #f0f8ff;border: 1px dotted black;border-radius: 0.25em;box-sizing: border-box;margin-bottom: 0.5em;}#sk-container-id-14 div.sk-estimator:hover {background-color: #d4ebff;}#sk-container-id-14 div.sk-parallel-item::after {content: \"\";width: 100%;border-bottom: 1px solid gray;flex-grow: 1;}#sk-container-id-14 div.sk-label:hover label.sk-toggleable__label {background-color: #d4ebff;}#sk-container-id-14 div.sk-serial::before {content: \"\";position: absolute;border-left: 1px solid gray;box-sizing: border-box;top: 0;bottom: 0;left: 50%;z-index: 0;}#sk-container-id-14 div.sk-serial {display: flex;flex-direction: column;align-items: center;background-color: white;padding-right: 0.2em;padding-left: 0.2em;position: relative;}#sk-container-id-14 div.sk-item {position: relative;z-index: 1;}#sk-container-id-14 div.sk-parallel {display: flex;align-items: stretch;justify-content: center;background-color: white;position: relative;}#sk-container-id-14 div.sk-item::before, #sk-container-id-14 div.sk-parallel-item::before {content: \"\";position: absolute;border-left: 1px solid gray;box-sizing: border-box;top: 0;bottom: 0;left: 50%;z-index: -1;}#sk-container-id-14 div.sk-parallel-item {display: flex;flex-direction: column;z-index: 1;position: relative;background-color: white;}#sk-container-id-14 div.sk-parallel-item:first-child::after {align-self: flex-end;width: 50%;}#sk-container-id-14 div.sk-parallel-item:last-child::after {align-self: flex-start;width: 50%;}#sk-container-id-14 div.sk-parallel-item:only-child::after {width: 0;}#sk-container-id-14 div.sk-dashed-wrapped {border: 1px dashed gray;margin: 0 0.4em 0.5em 0.4em;box-sizing: border-box;padding-bottom: 0.4em;background-color: white;}#sk-container-id-14 div.sk-label label {font-family: monospace;font-weight: bold;display: inline-block;line-height: 1.2em;}#sk-container-id-14 div.sk-label-container {text-align: center;}#sk-container-id-14 div.sk-container {/* jupyter's `normalize.less` sets `[hidden] { display: none; }` but bootstrap.min.css set `[hidden] { display: none !important; }` so we also need the `!important` here to be able to override the default hidden behavior on the sphinx rendered scikit-learn.org. See: https://github.com/scikit-learn/scikit-learn/issues/21755 */display: inline-block !important;position: relative;}#sk-container-id-14 div.sk-text-repr-fallback {display: none;}</style><div id=\"sk-container-id-14\" class=\"sk-top-container\"><div class=\"sk-text-repr-fallback\"><pre>MLPRegressor(hidden_layer_sizes=(10, 10, 10), max_iter=25000, random_state=100)</pre><b>In a Jupyter environment, please rerun this cell to show the HTML representation or trust the notebook. <br />On GitHub, the HTML representation is unable to render, please try loading this page with nbviewer.org.</b></div><div class=\"sk-container\" hidden><div class=\"sk-item\"><div class=\"sk-estimator sk-toggleable\"><input class=\"sk-toggleable__control sk-hidden--visually\" id=\"sk-estimator-id-49\" type=\"checkbox\" checked><label for=\"sk-estimator-id-49\" class=\"sk-toggleable__label sk-toggleable__label-arrow\">MLPRegressor</label><div class=\"sk-toggleable__content\"><pre>MLPRegressor(hidden_layer_sizes=(10, 10, 10), max_iter=25000, random_state=100)</pre></div></div></div></div></div>"
      ],
      "text/plain": [
       "MLPRegressor(hidden_layer_sizes=(10, 10, 10), max_iter=25000, random_state=100)"
      ]
     },
     "execution_count": 79,
     "metadata": {},
     "output_type": "execute_result"
    }
   ],
   "source": [
    "nn = MLPRegressor(hidden_layer_sizes = (10,10,10), max_iter = 25000, random_state = 100)\n",
    "\n",
    "nn.fit(X_train_encoded_nn, y_train)"
   ]
  },
  {
   "cell_type": "code",
   "execution_count": 80,
   "metadata": {},
   "outputs": [],
   "source": [
    "# creating pipeline\n",
    "pipeline_nn = Pipeline([(\"transformer\", transformer_nn), (\"neural_network\", nn)])"
   ]
  },
  {
   "cell_type": "code",
   "execution_count": 81,
   "metadata": {},
   "outputs": [
    {
     "name": "stdout",
     "output_type": "stream",
     "text": [
      "Mean Test Score: 0.6875410477421833\n",
      "\n",
      "\n"
     ]
    },
    {
     "data": {
      "text/html": [
       "<div>\n",
       "<style scoped>\n",
       "    .dataframe tbody tr th:only-of-type {\n",
       "        vertical-align: middle;\n",
       "    }\n",
       "\n",
       "    .dataframe tbody tr th {\n",
       "        vertical-align: top;\n",
       "    }\n",
       "\n",
       "    .dataframe thead th {\n",
       "        text-align: right;\n",
       "    }\n",
       "</style>\n",
       "<table border=\"1\" class=\"dataframe\">\n",
       "  <thead>\n",
       "    <tr style=\"text-align: right;\">\n",
       "      <th></th>\n",
       "      <th>fit_time</th>\n",
       "      <th>score_time</th>\n",
       "      <th>test_score</th>\n",
       "      <th>train_score</th>\n",
       "    </tr>\n",
       "  </thead>\n",
       "  <tbody>\n",
       "    <tr>\n",
       "      <th>0</th>\n",
       "      <td>8.264197</td>\n",
       "      <td>0.014066</td>\n",
       "      <td>0.697081</td>\n",
       "      <td>0.716029</td>\n",
       "    </tr>\n",
       "    <tr>\n",
       "      <th>1</th>\n",
       "      <td>7.065659</td>\n",
       "      <td>0.004172</td>\n",
       "      <td>0.723922</td>\n",
       "      <td>0.708004</td>\n",
       "    </tr>\n",
       "    <tr>\n",
       "      <th>2</th>\n",
       "      <td>6.020617</td>\n",
       "      <td>0.003764</td>\n",
       "      <td>0.712710</td>\n",
       "      <td>0.734981</td>\n",
       "    </tr>\n",
       "    <tr>\n",
       "      <th>3</th>\n",
       "      <td>3.702195</td>\n",
       "      <td>0.003990</td>\n",
       "      <td>0.652768</td>\n",
       "      <td>0.640857</td>\n",
       "    </tr>\n",
       "    <tr>\n",
       "      <th>4</th>\n",
       "      <td>3.778643</td>\n",
       "      <td>0.004005</td>\n",
       "      <td>0.660078</td>\n",
       "      <td>0.651903</td>\n",
       "    </tr>\n",
       "    <tr>\n",
       "      <th>5</th>\n",
       "      <td>4.949430</td>\n",
       "      <td>0.004722</td>\n",
       "      <td>0.686915</td>\n",
       "      <td>0.702935</td>\n",
       "    </tr>\n",
       "    <tr>\n",
       "      <th>6</th>\n",
       "      <td>4.401068</td>\n",
       "      <td>0.003803</td>\n",
       "      <td>0.644803</td>\n",
       "      <td>0.661068</td>\n",
       "    </tr>\n",
       "    <tr>\n",
       "      <th>7</th>\n",
       "      <td>8.203694</td>\n",
       "      <td>0.003971</td>\n",
       "      <td>0.712120</td>\n",
       "      <td>0.709555</td>\n",
       "    </tr>\n",
       "    <tr>\n",
       "      <th>8</th>\n",
       "      <td>6.224957</td>\n",
       "      <td>0.005251</td>\n",
       "      <td>0.696858</td>\n",
       "      <td>0.692266</td>\n",
       "    </tr>\n",
       "    <tr>\n",
       "      <th>9</th>\n",
       "      <td>6.380646</td>\n",
       "      <td>0.003812</td>\n",
       "      <td>0.688157</td>\n",
       "      <td>0.682008</td>\n",
       "    </tr>\n",
       "  </tbody>\n",
       "</table>\n",
       "</div>"
      ],
      "text/plain": [
       "   fit_time  score_time  test_score  train_score\n",
       "0  8.264197    0.014066    0.697081     0.716029\n",
       "1  7.065659    0.004172    0.723922     0.708004\n",
       "2  6.020617    0.003764    0.712710     0.734981\n",
       "3  3.702195    0.003990    0.652768     0.640857\n",
       "4  3.778643    0.004005    0.660078     0.651903\n",
       "5  4.949430    0.004722    0.686915     0.702935\n",
       "6  4.401068    0.003803    0.644803     0.661068\n",
       "7  8.203694    0.003971    0.712120     0.709555\n",
       "8  6.224957    0.005251    0.696858     0.692266\n",
       "9  6.380646    0.003812    0.688157     0.682008"
      ]
     },
     "metadata": {},
     "output_type": "display_data"
    }
   ],
   "source": [
    "# showing CV results\n",
    "get_CV_results(pipeline_nn, X_train, y_train)"
   ]
  },
  {
   "cell_type": "code",
   "execution_count": 83,
   "metadata": {},
   "outputs": [
    {
     "data": {
      "text/html": [
       "<style>#sk-container-id-15 {color: black;}#sk-container-id-15 pre{padding: 0;}#sk-container-id-15 div.sk-toggleable {background-color: white;}#sk-container-id-15 label.sk-toggleable__label {cursor: pointer;display: block;width: 100%;margin-bottom: 0;padding: 0.3em;box-sizing: border-box;text-align: center;}#sk-container-id-15 label.sk-toggleable__label-arrow:before {content: \"▸\";float: left;margin-right: 0.25em;color: #696969;}#sk-container-id-15 label.sk-toggleable__label-arrow:hover:before {color: black;}#sk-container-id-15 div.sk-estimator:hover label.sk-toggleable__label-arrow:before {color: black;}#sk-container-id-15 div.sk-toggleable__content {max-height: 0;max-width: 0;overflow: hidden;text-align: left;background-color: #f0f8ff;}#sk-container-id-15 div.sk-toggleable__content pre {margin: 0.2em;color: black;border-radius: 0.25em;background-color: #f0f8ff;}#sk-container-id-15 input.sk-toggleable__control:checked~div.sk-toggleable__content {max-height: 200px;max-width: 100%;overflow: auto;}#sk-container-id-15 input.sk-toggleable__control:checked~label.sk-toggleable__label-arrow:before {content: \"▾\";}#sk-container-id-15 div.sk-estimator input.sk-toggleable__control:checked~label.sk-toggleable__label {background-color: #d4ebff;}#sk-container-id-15 div.sk-label input.sk-toggleable__control:checked~label.sk-toggleable__label {background-color: #d4ebff;}#sk-container-id-15 input.sk-hidden--visually {border: 0;clip: rect(1px 1px 1px 1px);clip: rect(1px, 1px, 1px, 1px);height: 1px;margin: -1px;overflow: hidden;padding: 0;position: absolute;width: 1px;}#sk-container-id-15 div.sk-estimator {font-family: monospace;background-color: #f0f8ff;border: 1px dotted black;border-radius: 0.25em;box-sizing: border-box;margin-bottom: 0.5em;}#sk-container-id-15 div.sk-estimator:hover {background-color: #d4ebff;}#sk-container-id-15 div.sk-parallel-item::after {content: \"\";width: 100%;border-bottom: 1px solid gray;flex-grow: 1;}#sk-container-id-15 div.sk-label:hover label.sk-toggleable__label {background-color: #d4ebff;}#sk-container-id-15 div.sk-serial::before {content: \"\";position: absolute;border-left: 1px solid gray;box-sizing: border-box;top: 0;bottom: 0;left: 50%;z-index: 0;}#sk-container-id-15 div.sk-serial {display: flex;flex-direction: column;align-items: center;background-color: white;padding-right: 0.2em;padding-left: 0.2em;position: relative;}#sk-container-id-15 div.sk-item {position: relative;z-index: 1;}#sk-container-id-15 div.sk-parallel {display: flex;align-items: stretch;justify-content: center;background-color: white;position: relative;}#sk-container-id-15 div.sk-item::before, #sk-container-id-15 div.sk-parallel-item::before {content: \"\";position: absolute;border-left: 1px solid gray;box-sizing: border-box;top: 0;bottom: 0;left: 50%;z-index: -1;}#sk-container-id-15 div.sk-parallel-item {display: flex;flex-direction: column;z-index: 1;position: relative;background-color: white;}#sk-container-id-15 div.sk-parallel-item:first-child::after {align-self: flex-end;width: 50%;}#sk-container-id-15 div.sk-parallel-item:last-child::after {align-self: flex-start;width: 50%;}#sk-container-id-15 div.sk-parallel-item:only-child::after {width: 0;}#sk-container-id-15 div.sk-dashed-wrapped {border: 1px dashed gray;margin: 0 0.4em 0.5em 0.4em;box-sizing: border-box;padding-bottom: 0.4em;background-color: white;}#sk-container-id-15 div.sk-label label {font-family: monospace;font-weight: bold;display: inline-block;line-height: 1.2em;}#sk-container-id-15 div.sk-label-container {text-align: center;}#sk-container-id-15 div.sk-container {/* jupyter's `normalize.less` sets `[hidden] { display: none; }` but bootstrap.min.css set `[hidden] { display: none !important; }` so we also need the `!important` here to be able to override the default hidden behavior on the sphinx rendered scikit-learn.org. See: https://github.com/scikit-learn/scikit-learn/issues/21755 */display: inline-block !important;position: relative;}#sk-container-id-15 div.sk-text-repr-fallback {display: none;}</style><div id=\"sk-container-id-15\" class=\"sk-top-container\"><div class=\"sk-text-repr-fallback\"><pre>GridSearchCV(cv=5,\n",
       "             estimator=Pipeline(steps=[(&#x27;transformer&#x27;,\n",
       "                                        ColumnTransformer(remainder=&#x27;passthrough&#x27;,\n",
       "                                                          transformers=[(&#x27;categorical&#x27;,\n",
       "                                                                         OneHotEncoder(handle_unknown=&#x27;ignore&#x27;,\n",
       "                                                                                       sparse_output=False),\n",
       "                                                                         [&#x27;Weatherconditions&#x27;,\n",
       "                                                                          &#x27;Road_traffic_density&#x27;,\n",
       "                                                                          &#x27;Vehicle_condition&#x27;,\n",
       "                                                                          &#x27;Type_of_order&#x27;,\n",
       "                                                                          &#x27;Type_of_vehicle&#x27;,\n",
       "                                                                          &#x27;Time_of_Day_Orderd&#x27;,\n",
       "                                                                          &#x27;Region&#x27;])])),\n",
       "                                       (&#x27;neural_network&#x27;,\n",
       "                                        MLPRegress...\n",
       "                                                     max_iter=25000,\n",
       "                                                     random_state=100))]),\n",
       "             n_jobs=-1,\n",
       "             param_grid={&#x27;neural_network__activation&#x27;: [&#x27;relu&#x27;, &#x27;tanh&#x27;,\n",
       "                                                        &#x27;logistic&#x27;],\n",
       "                         &#x27;neural_network__alpha&#x27;: [0.0001, 0.01, 0.05, 0.1],\n",
       "                         &#x27;neural_network__hidden_layer_sizes&#x27;: [(8, 8, 8),\n",
       "                                                                (10, 10, 10),\n",
       "                                                                (15, 15, 15),\n",
       "                                                                (10, 10, 10,\n",
       "                                                                 10)],\n",
       "                         &#x27;neural_network__learning_rate&#x27;: [&#x27;constant&#x27;,\n",
       "                                                           &#x27;adaptive&#x27;,\n",
       "                                                           &#x27;invscaling&#x27;]},\n",
       "             return_train_score=True, scoring=&#x27;r2&#x27;)</pre><b>In a Jupyter environment, please rerun this cell to show the HTML representation or trust the notebook. <br />On GitHub, the HTML representation is unable to render, please try loading this page with nbviewer.org.</b></div><div class=\"sk-container\" hidden><div class=\"sk-item sk-dashed-wrapped\"><div class=\"sk-label-container\"><div class=\"sk-label sk-toggleable\"><input class=\"sk-toggleable__control sk-hidden--visually\" id=\"sk-estimator-id-50\" type=\"checkbox\" ><label for=\"sk-estimator-id-50\" class=\"sk-toggleable__label sk-toggleable__label-arrow\">GridSearchCV</label><div class=\"sk-toggleable__content\"><pre>GridSearchCV(cv=5,\n",
       "             estimator=Pipeline(steps=[(&#x27;transformer&#x27;,\n",
       "                                        ColumnTransformer(remainder=&#x27;passthrough&#x27;,\n",
       "                                                          transformers=[(&#x27;categorical&#x27;,\n",
       "                                                                         OneHotEncoder(handle_unknown=&#x27;ignore&#x27;,\n",
       "                                                                                       sparse_output=False),\n",
       "                                                                         [&#x27;Weatherconditions&#x27;,\n",
       "                                                                          &#x27;Road_traffic_density&#x27;,\n",
       "                                                                          &#x27;Vehicle_condition&#x27;,\n",
       "                                                                          &#x27;Type_of_order&#x27;,\n",
       "                                                                          &#x27;Type_of_vehicle&#x27;,\n",
       "                                                                          &#x27;Time_of_Day_Orderd&#x27;,\n",
       "                                                                          &#x27;Region&#x27;])])),\n",
       "                                       (&#x27;neural_network&#x27;,\n",
       "                                        MLPRegress...\n",
       "                                                     max_iter=25000,\n",
       "                                                     random_state=100))]),\n",
       "             n_jobs=-1,\n",
       "             param_grid={&#x27;neural_network__activation&#x27;: [&#x27;relu&#x27;, &#x27;tanh&#x27;,\n",
       "                                                        &#x27;logistic&#x27;],\n",
       "                         &#x27;neural_network__alpha&#x27;: [0.0001, 0.01, 0.05, 0.1],\n",
       "                         &#x27;neural_network__hidden_layer_sizes&#x27;: [(8, 8, 8),\n",
       "                                                                (10, 10, 10),\n",
       "                                                                (15, 15, 15),\n",
       "                                                                (10, 10, 10,\n",
       "                                                                 10)],\n",
       "                         &#x27;neural_network__learning_rate&#x27;: [&#x27;constant&#x27;,\n",
       "                                                           &#x27;adaptive&#x27;,\n",
       "                                                           &#x27;invscaling&#x27;]},\n",
       "             return_train_score=True, scoring=&#x27;r2&#x27;)</pre></div></div></div><div class=\"sk-parallel\"><div class=\"sk-parallel-item\"><div class=\"sk-item\"><div class=\"sk-label-container\"><div class=\"sk-label sk-toggleable\"><input class=\"sk-toggleable__control sk-hidden--visually\" id=\"sk-estimator-id-51\" type=\"checkbox\" ><label for=\"sk-estimator-id-51\" class=\"sk-toggleable__label sk-toggleable__label-arrow\">estimator: Pipeline</label><div class=\"sk-toggleable__content\"><pre>Pipeline(steps=[(&#x27;transformer&#x27;,\n",
       "                 ColumnTransformer(remainder=&#x27;passthrough&#x27;,\n",
       "                                   transformers=[(&#x27;categorical&#x27;,\n",
       "                                                  OneHotEncoder(handle_unknown=&#x27;ignore&#x27;,\n",
       "                                                                sparse_output=False),\n",
       "                                                  [&#x27;Weatherconditions&#x27;,\n",
       "                                                   &#x27;Road_traffic_density&#x27;,\n",
       "                                                   &#x27;Vehicle_condition&#x27;,\n",
       "                                                   &#x27;Type_of_order&#x27;,\n",
       "                                                   &#x27;Type_of_vehicle&#x27;,\n",
       "                                                   &#x27;Time_of_Day_Orderd&#x27;,\n",
       "                                                   &#x27;Region&#x27;])])),\n",
       "                (&#x27;neural_network&#x27;,\n",
       "                 MLPRegressor(hidden_layer_sizes=(10, 10, 10), max_iter=25000,\n",
       "                              random_state=100))])</pre></div></div></div><div class=\"sk-serial\"><div class=\"sk-item\"><div class=\"sk-serial\"><div class=\"sk-item sk-dashed-wrapped\"><div class=\"sk-label-container\"><div class=\"sk-label sk-toggleable\"><input class=\"sk-toggleable__control sk-hidden--visually\" id=\"sk-estimator-id-52\" type=\"checkbox\" ><label for=\"sk-estimator-id-52\" class=\"sk-toggleable__label sk-toggleable__label-arrow\">transformer: ColumnTransformer</label><div class=\"sk-toggleable__content\"><pre>ColumnTransformer(remainder=&#x27;passthrough&#x27;,\n",
       "                  transformers=[(&#x27;categorical&#x27;,\n",
       "                                 OneHotEncoder(handle_unknown=&#x27;ignore&#x27;,\n",
       "                                               sparse_output=False),\n",
       "                                 [&#x27;Weatherconditions&#x27;, &#x27;Road_traffic_density&#x27;,\n",
       "                                  &#x27;Vehicle_condition&#x27;, &#x27;Type_of_order&#x27;,\n",
       "                                  &#x27;Type_of_vehicle&#x27;, &#x27;Time_of_Day_Orderd&#x27;,\n",
       "                                  &#x27;Region&#x27;])])</pre></div></div></div><div class=\"sk-parallel\"><div class=\"sk-parallel-item\"><div class=\"sk-item\"><div class=\"sk-label-container\"><div class=\"sk-label sk-toggleable\"><input class=\"sk-toggleable__control sk-hidden--visually\" id=\"sk-estimator-id-53\" type=\"checkbox\" ><label for=\"sk-estimator-id-53\" class=\"sk-toggleable__label sk-toggleable__label-arrow\">categorical</label><div class=\"sk-toggleable__content\"><pre>[&#x27;Weatherconditions&#x27;, &#x27;Road_traffic_density&#x27;, &#x27;Vehicle_condition&#x27;, &#x27;Type_of_order&#x27;, &#x27;Type_of_vehicle&#x27;, &#x27;Time_of_Day_Orderd&#x27;, &#x27;Region&#x27;]</pre></div></div></div><div class=\"sk-serial\"><div class=\"sk-item\"><div class=\"sk-estimator sk-toggleable\"><input class=\"sk-toggleable__control sk-hidden--visually\" id=\"sk-estimator-id-54\" type=\"checkbox\" ><label for=\"sk-estimator-id-54\" class=\"sk-toggleable__label sk-toggleable__label-arrow\">OneHotEncoder</label><div class=\"sk-toggleable__content\"><pre>OneHotEncoder(handle_unknown=&#x27;ignore&#x27;, sparse_output=False)</pre></div></div></div></div></div></div><div class=\"sk-parallel-item\"><div class=\"sk-item\"><div class=\"sk-label-container\"><div class=\"sk-label sk-toggleable\"><input class=\"sk-toggleable__control sk-hidden--visually\" id=\"sk-estimator-id-55\" type=\"checkbox\" ><label for=\"sk-estimator-id-55\" class=\"sk-toggleable__label sk-toggleable__label-arrow\">remainder</label><div class=\"sk-toggleable__content\"><pre>[&#x27;Delivery_person_Age&#x27;, &#x27;Satisfaction_Perc&#x27;, &#x27;Distance&#x27;]</pre></div></div></div><div class=\"sk-serial\"><div class=\"sk-item\"><div class=\"sk-estimator sk-toggleable\"><input class=\"sk-toggleable__control sk-hidden--visually\" id=\"sk-estimator-id-56\" type=\"checkbox\" ><label for=\"sk-estimator-id-56\" class=\"sk-toggleable__label sk-toggleable__label-arrow\">passthrough</label><div class=\"sk-toggleable__content\"><pre>passthrough</pre></div></div></div></div></div></div></div></div><div class=\"sk-item\"><div class=\"sk-estimator sk-toggleable\"><input class=\"sk-toggleable__control sk-hidden--visually\" id=\"sk-estimator-id-57\" type=\"checkbox\" ><label for=\"sk-estimator-id-57\" class=\"sk-toggleable__label sk-toggleable__label-arrow\">MLPRegressor</label><div class=\"sk-toggleable__content\"><pre>MLPRegressor(hidden_layer_sizes=(10, 10, 10), max_iter=25000, random_state=100)</pre></div></div></div></div></div></div></div></div></div></div></div></div>"
      ],
      "text/plain": [
       "GridSearchCV(cv=5,\n",
       "             estimator=Pipeline(steps=[('transformer',\n",
       "                                        ColumnTransformer(remainder='passthrough',\n",
       "                                                          transformers=[('categorical',\n",
       "                                                                         OneHotEncoder(handle_unknown='ignore',\n",
       "                                                                                       sparse_output=False),\n",
       "                                                                         ['Weatherconditions',\n",
       "                                                                          'Road_traffic_density',\n",
       "                                                                          'Vehicle_condition',\n",
       "                                                                          'Type_of_order',\n",
       "                                                                          'Type_of_vehicle',\n",
       "                                                                          'Time_of_Day_Orderd',\n",
       "                                                                          'Region'])])),\n",
       "                                       ('neural_network',\n",
       "                                        MLPRegress...\n",
       "                                                     max_iter=25000,\n",
       "                                                     random_state=100))]),\n",
       "             n_jobs=-1,\n",
       "             param_grid={'neural_network__activation': ['relu', 'tanh',\n",
       "                                                        'logistic'],\n",
       "                         'neural_network__alpha': [0.0001, 0.01, 0.05, 0.1],\n",
       "                         'neural_network__hidden_layer_sizes': [(8, 8, 8),\n",
       "                                                                (10, 10, 10),\n",
       "                                                                (15, 15, 15),\n",
       "                                                                (10, 10, 10,\n",
       "                                                                 10)],\n",
       "                         'neural_network__learning_rate': ['constant',\n",
       "                                                           'adaptive',\n",
       "                                                           'invscaling']},\n",
       "             return_train_score=True, scoring='r2')"
      ]
     },
     "execution_count": 83,
     "metadata": {},
     "output_type": "execute_result"
    }
   ],
   "source": [
    "# hyperparameter tuning\n",
    "grid_nn = {\n",
    "    'neural_network__hidden_layer_sizes': [(8,8,8), (10,10,10), (15,15,15), (10,10,10,10)],\n",
    "    'neural_network__activation': ['relu', 'tanh', 'logistic'],\n",
    "    'neural_network__alpha': [0.0001, 0.01, 0.05, 0.1],\n",
    "    'neural_network__learning_rate': ['constant', 'adaptive', 'invscaling']\n",
    "}\n",
    "\n",
    "nn_gs = GridSearchCV(estimator = pipeline_nn, \n",
    "                     param_grid = grid_nn,  \n",
    "                     cv = 5, \n",
    "                     n_jobs = -1,\n",
    "                     return_train_score = True,\n",
    "                     scoring = 'r2')\n",
    "\n",
    "nn_gs.fit(X_train, y_train)"
   ]
  },
  {
   "cell_type": "code",
   "execution_count": 84,
   "metadata": {},
   "outputs": [
    {
     "name": "stdout",
     "output_type": "stream",
     "text": [
      "Best combination of hyperparams:\n",
      " {'neural_network__activation': 'tanh', 'neural_network__alpha': 0.05, 'neural_network__hidden_layer_sizes': (15, 15, 15), 'neural_network__learning_rate': 'constant'} \n",
      "\n",
      "Best mean_test_score score:\n",
      " 0.8012349880167587 \n",
      "\n",
      "Score by fold for best estimator:\n",
      " [0.7891762200444528, 0.7991630537928999, 0.8075234893042094, 0.8004720342347044, 0.809840142707527] \n",
      "\n",
      "Top 5 hyperparams combinations by mean_test_score:\n"
     ]
    },
    {
     "data": {
      "text/html": [
       "<div>\n",
       "<style scoped>\n",
       "    .dataframe tbody tr th:only-of-type {\n",
       "        vertical-align: middle;\n",
       "    }\n",
       "\n",
       "    .dataframe tbody tr th {\n",
       "        vertical-align: top;\n",
       "    }\n",
       "\n",
       "    .dataframe thead th {\n",
       "        text-align: right;\n",
       "    }\n",
       "</style>\n",
       "<table border=\"1\" class=\"dataframe\">\n",
       "  <thead>\n",
       "    <tr style=\"text-align: right;\">\n",
       "      <th></th>\n",
       "      <th>mean_test_score</th>\n",
       "      <th>param_neural_network__hidden_layer_sizes</th>\n",
       "      <th>param_neural_network__activation</th>\n",
       "      <th>param_neural_network__alpha</th>\n",
       "      <th>param_neural_network__learning_rate</th>\n",
       "    </tr>\n",
       "    <tr>\n",
       "      <th>rank_test_score</th>\n",
       "      <th></th>\n",
       "      <th></th>\n",
       "      <th></th>\n",
       "      <th></th>\n",
       "      <th></th>\n",
       "    </tr>\n",
       "  </thead>\n",
       "  <tbody>\n",
       "    <tr>\n",
       "      <th>1</th>\n",
       "      <td>0.801235</td>\n",
       "      <td>(15, 15, 15)</td>\n",
       "      <td>tanh</td>\n",
       "      <td>0.05</td>\n",
       "      <td>invscaling</td>\n",
       "    </tr>\n",
       "    <tr>\n",
       "      <th>1</th>\n",
       "      <td>0.801235</td>\n",
       "      <td>(15, 15, 15)</td>\n",
       "      <td>tanh</td>\n",
       "      <td>0.05</td>\n",
       "      <td>constant</td>\n",
       "    </tr>\n",
       "    <tr>\n",
       "      <th>1</th>\n",
       "      <td>0.801235</td>\n",
       "      <td>(15, 15, 15)</td>\n",
       "      <td>tanh</td>\n",
       "      <td>0.05</td>\n",
       "      <td>adaptive</td>\n",
       "    </tr>\n",
       "    <tr>\n",
       "      <th>4</th>\n",
       "      <td>0.796789</td>\n",
       "      <td>(15, 15, 15)</td>\n",
       "      <td>tanh</td>\n",
       "      <td>0.01</td>\n",
       "      <td>constant</td>\n",
       "    </tr>\n",
       "    <tr>\n",
       "      <th>4</th>\n",
       "      <td>0.796789</td>\n",
       "      <td>(15, 15, 15)</td>\n",
       "      <td>tanh</td>\n",
       "      <td>0.01</td>\n",
       "      <td>adaptive</td>\n",
       "    </tr>\n",
       "  </tbody>\n",
       "</table>\n",
       "</div>"
      ],
      "text/plain": [
       "                 mean_test_score param_neural_network__hidden_layer_sizes  \\\n",
       "rank_test_score                                                             \n",
       "1                       0.801235                             (15, 15, 15)   \n",
       "1                       0.801235                             (15, 15, 15)   \n",
       "1                       0.801235                             (15, 15, 15)   \n",
       "4                       0.796789                             (15, 15, 15)   \n",
       "4                       0.796789                             (15, 15, 15)   \n",
       "\n",
       "                param_neural_network__activation param_neural_network__alpha  \\\n",
       "rank_test_score                                                                \n",
       "1                                           tanh                        0.05   \n",
       "1                                           tanh                        0.05   \n",
       "1                                           tanh                        0.05   \n",
       "4                                           tanh                        0.01   \n",
       "4                                           tanh                        0.01   \n",
       "\n",
       "                param_neural_network__learning_rate  \n",
       "rank_test_score                                      \n",
       "1                                        invscaling  \n",
       "1                                          constant  \n",
       "1                                          adaptive  \n",
       "4                                          constant  \n",
       "4                                          adaptive  "
      ]
     },
     "metadata": {},
     "output_type": "display_data"
    }
   ],
   "source": [
    "# getting hyperparameter tuning results\n",
    "report_GridSearchCV_results(nn_gs)"
   ]
  },
  {
   "cell_type": "code",
   "execution_count": 87,
   "metadata": {},
   "outputs": [
    {
     "data": {
      "text/html": [
       "<style>#sk-container-id-17 {color: black;}#sk-container-id-17 pre{padding: 0;}#sk-container-id-17 div.sk-toggleable {background-color: white;}#sk-container-id-17 label.sk-toggleable__label {cursor: pointer;display: block;width: 100%;margin-bottom: 0;padding: 0.3em;box-sizing: border-box;text-align: center;}#sk-container-id-17 label.sk-toggleable__label-arrow:before {content: \"▸\";float: left;margin-right: 0.25em;color: #696969;}#sk-container-id-17 label.sk-toggleable__label-arrow:hover:before {color: black;}#sk-container-id-17 div.sk-estimator:hover label.sk-toggleable__label-arrow:before {color: black;}#sk-container-id-17 div.sk-toggleable__content {max-height: 0;max-width: 0;overflow: hidden;text-align: left;background-color: #f0f8ff;}#sk-container-id-17 div.sk-toggleable__content pre {margin: 0.2em;color: black;border-radius: 0.25em;background-color: #f0f8ff;}#sk-container-id-17 input.sk-toggleable__control:checked~div.sk-toggleable__content {max-height: 200px;max-width: 100%;overflow: auto;}#sk-container-id-17 input.sk-toggleable__control:checked~label.sk-toggleable__label-arrow:before {content: \"▾\";}#sk-container-id-17 div.sk-estimator input.sk-toggleable__control:checked~label.sk-toggleable__label {background-color: #d4ebff;}#sk-container-id-17 div.sk-label input.sk-toggleable__control:checked~label.sk-toggleable__label {background-color: #d4ebff;}#sk-container-id-17 input.sk-hidden--visually {border: 0;clip: rect(1px 1px 1px 1px);clip: rect(1px, 1px, 1px, 1px);height: 1px;margin: -1px;overflow: hidden;padding: 0;position: absolute;width: 1px;}#sk-container-id-17 div.sk-estimator {font-family: monospace;background-color: #f0f8ff;border: 1px dotted black;border-radius: 0.25em;box-sizing: border-box;margin-bottom: 0.5em;}#sk-container-id-17 div.sk-estimator:hover {background-color: #d4ebff;}#sk-container-id-17 div.sk-parallel-item::after {content: \"\";width: 100%;border-bottom: 1px solid gray;flex-grow: 1;}#sk-container-id-17 div.sk-label:hover label.sk-toggleable__label {background-color: #d4ebff;}#sk-container-id-17 div.sk-serial::before {content: \"\";position: absolute;border-left: 1px solid gray;box-sizing: border-box;top: 0;bottom: 0;left: 50%;z-index: 0;}#sk-container-id-17 div.sk-serial {display: flex;flex-direction: column;align-items: center;background-color: white;padding-right: 0.2em;padding-left: 0.2em;position: relative;}#sk-container-id-17 div.sk-item {position: relative;z-index: 1;}#sk-container-id-17 div.sk-parallel {display: flex;align-items: stretch;justify-content: center;background-color: white;position: relative;}#sk-container-id-17 div.sk-item::before, #sk-container-id-17 div.sk-parallel-item::before {content: \"\";position: absolute;border-left: 1px solid gray;box-sizing: border-box;top: 0;bottom: 0;left: 50%;z-index: -1;}#sk-container-id-17 div.sk-parallel-item {display: flex;flex-direction: column;z-index: 1;position: relative;background-color: white;}#sk-container-id-17 div.sk-parallel-item:first-child::after {align-self: flex-end;width: 50%;}#sk-container-id-17 div.sk-parallel-item:last-child::after {align-self: flex-start;width: 50%;}#sk-container-id-17 div.sk-parallel-item:only-child::after {width: 0;}#sk-container-id-17 div.sk-dashed-wrapped {border: 1px dashed gray;margin: 0 0.4em 0.5em 0.4em;box-sizing: border-box;padding-bottom: 0.4em;background-color: white;}#sk-container-id-17 div.sk-label label {font-family: monospace;font-weight: bold;display: inline-block;line-height: 1.2em;}#sk-container-id-17 div.sk-label-container {text-align: center;}#sk-container-id-17 div.sk-container {/* jupyter's `normalize.less` sets `[hidden] { display: none; }` but bootstrap.min.css set `[hidden] { display: none !important; }` so we also need the `!important` here to be able to override the default hidden behavior on the sphinx rendered scikit-learn.org. See: https://github.com/scikit-learn/scikit-learn/issues/21755 */display: inline-block !important;position: relative;}#sk-container-id-17 div.sk-text-repr-fallback {display: none;}</style><div id=\"sk-container-id-17\" class=\"sk-top-container\"><div class=\"sk-text-repr-fallback\"><pre>MLPRegressor(activation=&#x27;tanh&#x27;, alpha=0.05, hidden_layer_sizes=(15, 15, 15),\n",
       "             max_iter=25000, random_state=100)</pre><b>In a Jupyter environment, please rerun this cell to show the HTML representation or trust the notebook. <br />On GitHub, the HTML representation is unable to render, please try loading this page with nbviewer.org.</b></div><div class=\"sk-container\" hidden><div class=\"sk-item\"><div class=\"sk-estimator sk-toggleable\"><input class=\"sk-toggleable__control sk-hidden--visually\" id=\"sk-estimator-id-59\" type=\"checkbox\" checked><label for=\"sk-estimator-id-59\" class=\"sk-toggleable__label sk-toggleable__label-arrow\">MLPRegressor</label><div class=\"sk-toggleable__content\"><pre>MLPRegressor(activation=&#x27;tanh&#x27;, alpha=0.05, hidden_layer_sizes=(15, 15, 15),\n",
       "             max_iter=25000, random_state=100)</pre></div></div></div></div></div>"
      ],
      "text/plain": [
       "MLPRegressor(activation='tanh', alpha=0.05, hidden_layer_sizes=(15, 15, 15),\n",
       "             max_iter=25000, random_state=100)"
      ]
     },
     "execution_count": 87,
     "metadata": {},
     "output_type": "execute_result"
    }
   ],
   "source": [
    "# fitting the best model\n",
    "best_params_nn = {key.replace('neural_network__', ''): value for key, value in nn_gs.best_params_.items()}\n",
    "\n",
    "nn_reg = MLPRegressor(**best_params_nn,\n",
    "                      max_iter = 25000,\n",
    "                      random_state = 100)\n",
    "\n",
    "nn_reg.fit(X_train_encoded_nn, y_train)"
   ]
  },
  {
   "cell_type": "markdown",
   "metadata": {},
   "source": [
    "## Model Evaluation"
   ]
  },
  {
   "cell_type": "code",
   "execution_count": 96,
   "metadata": {},
   "outputs": [],
   "source": [
    "# model evaluation for Random Forest\n",
    "r2_rf, mse_rf, rmse_rf, mae_rf = get_results(rf_reg, X_test_encoded_rf, y_test)"
   ]
  },
  {
   "cell_type": "code",
   "execution_count": 97,
   "metadata": {},
   "outputs": [],
   "source": [
    "# model evaluation for Gradient Boosting\n",
    "r2_gb, mse_gb, rmse_gb, mae_gb = get_results(gb_reg, X_test_encoded_gb, y_test)"
   ]
  },
  {
   "cell_type": "code",
   "execution_count": 98,
   "metadata": {},
   "outputs": [],
   "source": [
    "# model evaluation for Neural Network\n",
    "r2_nn, mse_nn, rmse_nn, mae_nn = get_results(nn_reg, X_test_encoded_nn, y_test)"
   ]
  },
  {
   "cell_type": "code",
   "execution_count": 100,
   "metadata": {},
   "outputs": [
    {
     "data": {
      "text/html": [
       "<div>\n",
       "<style scoped>\n",
       "    .dataframe tbody tr th:only-of-type {\n",
       "        vertical-align: middle;\n",
       "    }\n",
       "\n",
       "    .dataframe tbody tr th {\n",
       "        vertical-align: top;\n",
       "    }\n",
       "\n",
       "    .dataframe thead th {\n",
       "        text-align: right;\n",
       "    }\n",
       "</style>\n",
       "<table border=\"1\" class=\"dataframe\">\n",
       "  <thead>\n",
       "    <tr style=\"text-align: right;\">\n",
       "      <th></th>\n",
       "      <th>Model</th>\n",
       "      <th>R2</th>\n",
       "      <th>MSE</th>\n",
       "      <th>RMSE</th>\n",
       "      <th>MAE</th>\n",
       "    </tr>\n",
       "  </thead>\n",
       "  <tbody>\n",
       "    <tr>\n",
       "      <th>0</th>\n",
       "      <td>Random Forest</td>\n",
       "      <td>0.825446</td>\n",
       "      <td>15.219200</td>\n",
       "      <td>3.901179</td>\n",
       "      <td>3.156066</td>\n",
       "    </tr>\n",
       "    <tr>\n",
       "      <th>1</th>\n",
       "      <td>Gradient Boosting</td>\n",
       "      <td>0.821593</td>\n",
       "      <td>15.555171</td>\n",
       "      <td>3.944004</td>\n",
       "      <td>3.184487</td>\n",
       "    </tr>\n",
       "    <tr>\n",
       "      <th>2</th>\n",
       "      <td>Multi-Layer Perceptron</td>\n",
       "      <td>0.810696</td>\n",
       "      <td>16.505230</td>\n",
       "      <td>4.062663</td>\n",
       "      <td>3.280932</td>\n",
       "    </tr>\n",
       "  </tbody>\n",
       "</table>\n",
       "</div>"
      ],
      "text/plain": [
       "                    Model        R2        MSE      RMSE       MAE\n",
       "0           Random Forest  0.825446  15.219200  3.901179  3.156066\n",
       "1       Gradient Boosting  0.821593  15.555171  3.944004  3.184487\n",
       "2  Multi-Layer Perceptron  0.810696  16.505230  4.062663  3.280932"
      ]
     },
     "execution_count": 100,
     "metadata": {},
     "output_type": "execute_result"
    }
   ],
   "source": [
    "# creating a dataframe to compare models\n",
    "regressor = ['Random Forest', 'Gradient Boosting', 'Multi-Layer Perceptron']\n",
    "r2 = [r2_rf, r2_gb, r2_nn]\n",
    "mse = [mse_rf, mse_gb, mse_nn]\n",
    "rmse = [rmse_rf, rmse_gb, rmse_nn]\n",
    "mae = [mae_rf, mae_gb, mae_nn]\n",
    "\n",
    "model_eval = pd.DataFrame({'Model': regressor,\n",
    "                           'R2': r2,\n",
    "                           'MSE': mse,\n",
    "                           'RMSE': rmse,\n",
    "                           'MAE': mae})\n",
    "\n",
    "model_eval = model_eval.sort_values(by = 'R2', ascending = False).reset_index(drop = True)\n",
    "\n",
    "model_eval"
   ]
  },
  {
   "cell_type": "markdown",
   "metadata": {},
   "source": [
    "Using $R^2$ as the comparison metric, we can see that among the models, Random Forest came out to the best after tuning with an $R^2$ of 0.825. This means that using Random Forest, we can explain 82.5% of the variation in delivery duration."
   ]
  },
  {
   "cell_type": "markdown",
   "metadata": {},
   "source": [
    "## Model Interpretation"
   ]
  },
  {
   "cell_type": "markdown",
   "metadata": {},
   "source": [
    "### Random Forest"
   ]
  },
  {
   "cell_type": "code",
   "execution_count": 101,
   "metadata": {},
   "outputs": [
    {
     "data": {
      "image/png": "[encoded data removed]",
      "text/plain": [
       "<Figure size 1200x500 with 1 Axes>"
      ]
     },
     "metadata": {},
     "output_type": "display_data"
    }
   ],
   "source": [
    "# helper function to get feature importance    \n",
    "def plot_importance(model, X):\n",
    "\n",
    "    importances = pd.Series(data=model.feature_importances_,\n",
    "                            index= list(X.columns))\n",
    "    \n",
    "    importances_sorted = importances.sort_values()\n",
    "    \n",
    "    importances_sorted = importances_sorted[-10:]\n",
    "\n",
    "    plt.figure(figsize = (12, 5))\n",
    "    importances_sorted.plot(kind='barh', color='blue')\n",
    "    plt.title('Top 10 Feature Importance')\n",
    "    plt.xlabel(\"Importance\", fontweight = 'bold')\n",
    "    plt.ylabel(\"Features\", fontweight = 'bold')\n",
    "    plt.show()\n",
    "\n",
    "plot_importance(rf_gs.best_estimator_.named_steps[\"random_forest\"], X_train_encoded_rf)"
   ]
  },
  {
   "cell_type": "markdown",
   "metadata": {},
   "source": [
    "### Gradient Boosting"
   ]
  },
  {
   "cell_type": "code",
   "execution_count": 107,
   "metadata": {},
   "outputs": [
    {
     "data": {
      "image/png": "[encoded data removed]",
      "text/plain": [
       "<Figure size 1200x500 with 1 Axes>"
      ]
     },
     "metadata": {},
     "output_type": "display_data"
    }
   ],
   "source": [
    "plot_importance(gb_gs.best_estimator_.named_steps['gb'], X_train_encoded_gb)"
   ]
  },
  {
   "cell_type": "markdown",
   "metadata": {},
   "source": [
    "### Multi-Layer Perceptron"
   ]
  },
  {
   "cell_type": "code",
   "execution_count": 104,
   "metadata": {},
   "outputs": [
    {
     "data": {
      "image/png": "[encoded data removed]",
      "text/plain": [
       "<Figure size 1200x500 with 1 Axes>"
      ]
     },
     "metadata": {},
     "output_type": "display_data"
    }
   ],
   "source": [
    "# plot feature importance\n",
    "result = permutation_importance(nn_reg, X_test_encoded_nn, y_test, n_repeats = 10, random_state = 100)\n",
    "\n",
    "# Plot the feature importances\n",
    "fig, ax = plt.subplots(figsize=(12, 5))\n",
    "sorted_idx = result.importances_mean.argsort()[-10:]\n",
    "ax.barh(X_test_encoded_nn.columns[sorted_idx], result.importances_mean[sorted_idx], color='blue')\n",
    "ax.set_title(\"Top 10 Permutation Importances\")\n",
    "ax.set_facecolor('lightgrey')\n",
    "ax.set_xlabel('Importance', fontweight = 'bold')\n",
    "ax.set_ylabel('Feature', fontweight = 'bold')\n",
    "ax.set_yticks(range(10))\n",
    "ax.set_yticklabels(X_test_encoded_nn.columns[sorted_idx], fontsize=10)\n",
    "fig.tight_layout()\n",
    "plt.show()"
   ]
  },
  {
   "cell_type": "markdown",
   "metadata": {},
   "source": [
    "From the feature importances plot, we can see that:\n",
    "- Random Forest and Gradient Boosting placed the same importance on Satisfaction Percentage, Low traffic road density and distance. All 3 are very relevant factors that can affect delivery duration\n",
    "- For the Neural Network, the most important feature was distance and it is very clear that it can and will affect delivery duration"
   ]
  }
 ],
 "metadata": {
  "kernelspec": {
   "display_name": "Python 3",
   "language": "python",
   "name": "python3"
  },
  "language_info": {
   "codemirror_mode": {
    "name": "ipython",
    "version": 3
   },
   "file_extension": ".py",
   "mimetype": "text/x-python",
   "name": "python",
   "nbconvert_exporter": "python",
   "pygments_lexer": "ipython3",
   "version": "3.12.0"
  },
  "orig_nbformat": 4
 },
 "nbformat": 4,
 "nbformat_minor": 2
}
