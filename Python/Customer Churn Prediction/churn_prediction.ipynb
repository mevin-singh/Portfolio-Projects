{
 "cells": [
  {
   "attachments": {},
   "cell_type": "markdown",
   "metadata": {},
   "source": [
    "### Importing Relevant Packages"
   ]
  },
  {
   "cell_type": "code",
   "execution_count": 1,
   "metadata": {},
   "outputs": [],
   "source": [
    "import pandas as pd\n",
    "import numpy as np\n",
    "from IPython.display import display\n",
    "\n",
    "\n",
    "from sklearn.preprocessing import OneHotEncoder, StandardScaler\n",
    "from sklearn.compose import ColumnTransformer\n",
    "from sklearn.model_selection import train_test_split, cross_validate, GridSearchCV\n",
    "from sklearn.pipeline import Pipeline\n",
    "from pycaret.classification import * \n",
    "from sklearn.decomposition import PCA\n",
    "from lightgbm import LGBMClassifier\n",
    "from sklearn.ensemble import GradientBoostingClassifier\n",
    "from sklearn.linear_model import LogisticRegression\n",
    "\n",
    "from sklearn.metrics import classification_report, accuracy_score, f1_score, roc_auc_score, confusion_matrix\n",
    "\n",
    "import seaborn as sns\n",
    "import matplotlib.pyplot as plt"
   ]
  },
  {
   "attachments": {},
   "cell_type": "markdown",
   "metadata": {},
   "source": [
    "### Importing dataset"
   ]
  },
  {
   "cell_type": "code",
   "execution_count": 7,
   "metadata": {},
   "outputs": [],
   "source": [
    "data = pd.read_csv('customer_churn.csv')"
   ]
  },
  {
   "attachments": {},
   "cell_type": "markdown",
   "metadata": {},
   "source": [
    "### Description of dataset"
   ]
  },
  {
   "attachments": {},
   "cell_type": "markdown",
   "metadata": {},
   "source": [
    "| Column Name          | Column Type  | Column Description                                          |\n",
    "| -------------------- | ------------ | ------------------------------------------------------------ |\n",
    "| State                | String       | The state where a customer comes from                        |\n",
    "| Account length       | Integer      | Number of days a customer has been using services            |\n",
    "| Area code            | Integer      | The area where a customer comes from                         |\n",
    "| Phone number         | Alphanumeric | The phone number of a customer                               |\n",
    "| International plan   | String       | The status of customer international plan                    |\n",
    "| Voicemail plan       | String       | The status of customer voicemail plan                        |\n",
    "| No. vmail msgs       | Integer      | Number of voicemail messages sent by a customer              |\n",
    "| Total day minutes    | Float        | Total call minutes spent by a customer during the day time    |\n",
    "| Total day calls      | Integer      | Total number of calls made by a customer during the day time |\n",
    "| Total day charge     | Float        | Total amount charged to a customer during the day time       |\n",
    "| Total eve minutes    | Float        | Total call minutes spent by a customer during the evening time |\n",
    "| Total eve calls      | Integer      | Total number of calls made by a customer during the evening time |\n",
    "| Total eve charge     | Float        | Total amount charged to a customer during the evening time   |\n",
    "| Total night minutes  | Float        | Total call minutes spent by a customer during the night time |\n",
    "| Total night calls    | Integer      | Total number of calls made by a customer during the night time |\n",
    "| Total night charge   | Float        | Total amount charged to a customer during the night time     |\n",
    "| Total intl minutes   | Float        | Total international call minutes spent by a customer         |\n",
    "| Total intl calls     | Integer      | Total number of international calls made by a customer       |\n",
    "| Total int charge     | Float        | Total international call amount charged to a customer        |\n",
    "| Customer service calls | Integer    | Total number of customer service calls made by a customer    |\n",
    "| Churn                | Boolean      | Whether a customer is churned or not                         |\n"
   ]
  },
  {
   "attachments": {},
   "cell_type": "markdown",
   "metadata": {},
   "source": [
    "## Exploratory Data Analysis"
   ]
  },
  {
   "attachments": {},
   "cell_type": "markdown",
   "metadata": {},
   "source": [
    "### Which states have the most number of customers?"
   ]
  },
  {
   "cell_type": "code",
   "execution_count": 9,
   "metadata": {},
   "outputs": [],
   "source": [
    "customers = data.groupby('state')\\\n",
    "                .size()\\\n",
    "                .to_frame('n_custs')\\\n",
    "                .sort_values(by = 'n_custs', ascending = False)\\\n",
    "                .reset_index()\n",
    "                \n",
    "\n",
    "customers_flipped = data.groupby('state')\\\n",
    "                .size()\\\n",
    "                .to_frame('n_custs')\\\n",
    "                .sort_values(by = 'n_custs', ascending = True)\\\n",
    "                .reset_index()\n",
    "\n",
    "top10 = customers[0:10]\n",
    "bottom10 = customers_flipped[0:10]\n",
    "\n",
    "x1 = top10['state']\n",
    "x2 = bottom10['state']\n",
    "\n",
    "y1 = top10['n_custs']\n",
    "y2 = bottom10['n_custs']\n"
   ]
  },
  {
   "cell_type": "code",
   "execution_count": 10,
   "metadata": {},
   "outputs": [
    {
     "data": {
      "image/png": "[encoded data removed]",
      "text/plain": [
       "<Figure size 720x360 with 1 Axes>"
      ]
     },
     "metadata": {
      "needs_background": "light"
     },
     "output_type": "display_data"
    }
   ],
   "source": [
    "# Plotting top 10\n",
    "plt.figure(figsize = (10,5))\n",
    "\n",
    "plt.bar(x1, y1) # top 10\n",
    "\n",
    "plt.title(\"Top 10 States\")\n",
    "\n",
    "# adding value labels\n",
    "for i in range(len(x1)):\n",
    "        plt.text(i, y1[i]//2, y1[i], ha = 'center', fontweight = 'bold')\n",
    "\n",
    "plt.xlabel(\"States\")\n",
    "plt.ylabel(\"Number of Customers\")\n",
    "\n",
    "plt.grid(False)\n",
    "\n",
    "plt.show()"
   ]
  },
  {
   "cell_type": "code",
   "execution_count": 11,
   "metadata": {},
   "outputs": [
    {
     "data": {
      "image/png": "[encoded data removed]",
      "text/plain": [
       "<Figure size 720x360 with 1 Axes>"
      ]
     },
     "metadata": {
      "needs_background": "light"
     },
     "output_type": "display_data"
    }
   ],
   "source": [
    "# Plotting top 10\n",
    "plt.figure(figsize = (10,5))\n",
    "\n",
    "plt.bar(x2, y2) # bottom 10\n",
    "\n",
    "plt.title(\"Bottom 10 States\")\n",
    "\n",
    "# adding value labels\n",
    "for j in range(len(x2)):\n",
    "        plt.text(j, y2[j]//2, y2[j], ha = 'center', fontweight = 'bold')\n",
    "\n",
    "plt.xlabel(\"States\")\n",
    "plt.ylabel(\"Number of Customers\")\n",
    "\n",
    "plt.grid(False)\n",
    "\n",
    "plt.show()"
   ]
  },
  {
   "attachments": {},
   "cell_type": "markdown",
   "metadata": {},
   "source": [
    "As we can see from the above graphs, the state where most customers come from is West Virginia (WV) and the state where the least number of customers are from is California (CA). "
   ]
  },
  {
   "attachments": {},
   "cell_type": "markdown",
   "metadata": {},
   "source": [
    "### Are there any correlations between the variables?"
   ]
  },
  {
   "cell_type": "code",
   "execution_count": 27,
   "metadata": {},
   "outputs": [
    {
     "data": {
      "image/png": "[encoded data removed]",
      "text/plain": [
       "<Figure size 432x288 with 2 Axes>"
      ]
     },
     "metadata": {
      "needs_background": "light"
     },
     "output_type": "display_data"
    }
   ],
   "source": [
    "corr_matrix = data.corr().round(2)\n",
    "\n",
    "# plotting half of the correlation matrix\n",
    "mask = np.triu(np.ones_like(corr_matrix, dtype=bool))\n",
    "\n",
    "sns.heatmap(corr_matrix,vmax=1, vmin=-1, center=0, cmap='vlag', mask=mask)\n",
    "\n",
    "plt.show()"
   ]
  },
  {
   "attachments": {},
   "cell_type": "markdown",
   "metadata": {},
   "source": [
    "From the correlation matrix above, \n",
    "\n",
    "There is positive correlation between:\n",
    "- total day charge and total day minutes\n",
    "- total eve charge and total eve minutes\n",
    "- total intl charge and total intl minutes\n",
    "- churn and customer service calls\n",
    "- churn and total day charge\n",
    "- churn and total day minutes\n",
    "\n",
    "\n",
    "There is negative correlation between:\n",
    "- churn and number of vmail messages\n"
   ]
  },
  {
   "attachments": {},
   "cell_type": "markdown",
   "metadata": {},
   "source": [
    "#### What is the distribution of churn in the dataset?"
   ]
  },
  {
   "cell_type": "code",
   "execution_count": 49,
   "metadata": {},
   "outputs": [
    {
     "data": {
      "image/png": "[encoded data removed]",
      "text/plain": [
       "<Figure size 432x288 with 1 Axes>"
      ]
     },
     "metadata": {},
     "output_type": "display_data"
    }
   ],
   "source": [
    "churn_dist = data.groupby('churn')\\\n",
    "            .size()\\\n",
    "            .to_frame('count')\\\n",
    "            .reset_index()\\\n",
    "            .plot(kind = 'pie', y = 'count', autopct = '%1.0f%%', legend = True)\n"
   ]
  },
  {
   "attachments": {},
   "cell_type": "markdown",
   "metadata": {},
   "source": [
    "From the dataset, we can see that the dataset contains 86% of those who did not churn and only 14% who churn. This is an issue as it may pose a problem to the accuracy of the predicted outcome. To combat this, we can use metrics such as F1 score and AUC to evaluate the different models."
   ]
  },
  {
   "attachments": {},
   "cell_type": "markdown",
   "metadata": {},
   "source": [
    "## Data Preprocessing"
   ]
  },
  {
   "cell_type": "code",
   "execution_count": 147,
   "metadata": {},
   "outputs": [],
   "source": [
    "# Converting Area Code to object type\n",
    "data['area code'] = data['area code'].astype('object')"
   ]
  },
  {
   "cell_type": "code",
   "execution_count": 8,
   "metadata": {},
   "outputs": [],
   "source": [
    "# Train Test split\n",
    "churn = data.copy()\n",
    "churn = churn.drop(columns = 'phone number') # phone number should not be needed to predict if a customer were to churn\n",
    "\n",
    "y = churn['churn']\n",
    "x = churn.drop(columns = ['churn'])\n",
    "\n",
    "x_train, x_test, y_train, y_test = train_test_split(x, y, test_size = 0.2, random_state = 100)"
   ]
  },
  {
   "attachments": {},
   "cell_type": "markdown",
   "metadata": {},
   "source": [
    "## Model 1: Gradient Boosting Classifier"
   ]
  },
  {
   "attachments": {},
   "cell_type": "markdown",
   "metadata": {},
   "source": [
    "### Feature Encoding (One-Hot Encoding)"
   ]
  },
  {
   "cell_type": "code",
   "execution_count": 9,
   "metadata": {},
   "outputs": [
    {
     "name": "stdout",
     "output_type": "stream",
     "text": [
      "Categorical variables:  ['state', 'international plan', 'voice mail plan']\n"
     ]
    }
   ],
   "source": [
    "categorical_variables = []\n",
    "\n",
    "for column in x_train.columns:\n",
    "    if churn[column].dtype == 'object':\n",
    "        categorical_variables.append(column)\n",
    "\n",
    "print(\"Categorical variables: \", categorical_variables)\n",
    "\n",
    "# One-hot encoding, fitted on the train dataset\n",
    "enc_gbm = OneHotEncoder(sparse=False, handle_unknown=\"ignore\")\n",
    "\n",
    "transformer_gbm = ColumnTransformer([\n",
    "    (\"categorical\", enc_gbm, categorical_variables)\n",
    "], remainder=\"passthrough\")\n",
    "\n",
    "transformer_gbm.fit(x_train)\n",
    "\n",
    "x_train_encoded_gbm = pd.DataFrame(transformer_gbm.transform(x_train), columns=transformer_gbm.get_feature_names())\n",
    "x_test_encoded_gbm = pd.DataFrame(transformer_gbm.transform(x_test), columns=transformer_gbm.get_feature_names())"
   ]
  },
  {
   "attachments": {},
   "cell_type": "markdown",
   "metadata": {},
   "source": [
    "### Pipeline"
   ]
  },
  {
   "cell_type": "code",
   "execution_count": 72,
   "metadata": {},
   "outputs": [],
   "source": [
    "gbm = GradientBoostingClassifier(learning_rate = 0.1, n_estimators = 100, max_depth = 5)\n",
    "\n",
    "pipeline_gbm = Pipeline(steps=[(\"transformer\", transformer_gbm), (\"scaler\", StandardScaler()), ('pca', PCA()), (\"gbm\", gbm)])"
   ]
  },
  {
   "attachments": {},
   "cell_type": "markdown",
   "metadata": {},
   "source": [
    "### Cross-Validation"
   ]
  },
  {
   "cell_type": "code",
   "execution_count": 73,
   "metadata": {},
   "outputs": [
    {
     "name": "stdout",
     "output_type": "stream",
     "text": [
      "Mean test score:  0.8897116386471797\n"
     ]
    },
    {
     "data": {
      "text/html": [
       "<div>\n",
       "<style scoped>\n",
       "    .dataframe tbody tr th:only-of-type {\n",
       "        vertical-align: middle;\n",
       "    }\n",
       "\n",
       "    .dataframe tbody tr th {\n",
       "        vertical-align: top;\n",
       "    }\n",
       "\n",
       "    .dataframe thead th {\n",
       "        text-align: right;\n",
       "    }\n",
       "</style>\n",
       "<table border=\"1\" class=\"dataframe\">\n",
       "  <thead>\n",
       "    <tr style=\"text-align: right;\">\n",
       "      <th></th>\n",
       "      <th>fit_time</th>\n",
       "      <th>score_time</th>\n",
       "      <th>test_score</th>\n",
       "      <th>train_score</th>\n",
       "    </tr>\n",
       "  </thead>\n",
       "  <tbody>\n",
       "    <tr>\n",
       "      <th>0</th>\n",
       "      <td>6.935135</td>\n",
       "      <td>0.010495</td>\n",
       "      <td>0.898876</td>\n",
       "      <td>0.994581</td>\n",
       "    </tr>\n",
       "    <tr>\n",
       "      <th>1</th>\n",
       "      <td>7.438788</td>\n",
       "      <td>0.006617</td>\n",
       "      <td>0.910112</td>\n",
       "      <td>0.991663</td>\n",
       "    </tr>\n",
       "    <tr>\n",
       "      <th>2</th>\n",
       "      <td>7.932485</td>\n",
       "      <td>0.005551</td>\n",
       "      <td>0.861423</td>\n",
       "      <td>0.995415</td>\n",
       "    </tr>\n",
       "    <tr>\n",
       "      <th>3</th>\n",
       "      <td>7.540681</td>\n",
       "      <td>0.007523</td>\n",
       "      <td>0.880150</td>\n",
       "      <td>0.990413</td>\n",
       "    </tr>\n",
       "    <tr>\n",
       "      <th>4</th>\n",
       "      <td>7.991297</td>\n",
       "      <td>0.042895</td>\n",
       "      <td>0.913858</td>\n",
       "      <td>0.991663</td>\n",
       "    </tr>\n",
       "    <tr>\n",
       "      <th>5</th>\n",
       "      <td>7.956623</td>\n",
       "      <td>0.008932</td>\n",
       "      <td>0.902622</td>\n",
       "      <td>0.995832</td>\n",
       "    </tr>\n",
       "    <tr>\n",
       "      <th>6</th>\n",
       "      <td>7.636662</td>\n",
       "      <td>0.049164</td>\n",
       "      <td>0.883459</td>\n",
       "      <td>0.992083</td>\n",
       "    </tr>\n",
       "    <tr>\n",
       "      <th>7</th>\n",
       "      <td>7.920136</td>\n",
       "      <td>0.005316</td>\n",
       "      <td>0.902256</td>\n",
       "      <td>0.992500</td>\n",
       "    </tr>\n",
       "    <tr>\n",
       "      <th>8</th>\n",
       "      <td>8.997865</td>\n",
       "      <td>0.006851</td>\n",
       "      <td>0.857143</td>\n",
       "      <td>0.988750</td>\n",
       "    </tr>\n",
       "    <tr>\n",
       "      <th>9</th>\n",
       "      <td>11.545357</td>\n",
       "      <td>0.020097</td>\n",
       "      <td>0.887218</td>\n",
       "      <td>0.988750</td>\n",
       "    </tr>\n",
       "  </tbody>\n",
       "</table>\n",
       "</div>"
      ],
      "text/plain": [
       "    fit_time  score_time  test_score  train_score\n",
       "0   6.935135    0.010495    0.898876     0.994581\n",
       "1   7.438788    0.006617    0.910112     0.991663\n",
       "2   7.932485    0.005551    0.861423     0.995415\n",
       "3   7.540681    0.007523    0.880150     0.990413\n",
       "4   7.991297    0.042895    0.913858     0.991663\n",
       "5   7.956623    0.008932    0.902622     0.995832\n",
       "6   7.636662    0.049164    0.883459     0.992083\n",
       "7   7.920136    0.005316    0.902256     0.992500\n",
       "8   8.997865    0.006851    0.857143     0.988750\n",
       "9  11.545357    0.020097    0.887218     0.988750"
      ]
     },
     "metadata": {},
     "output_type": "display_data"
    }
   ],
   "source": [
    "def show_cv_results(pipeline):\n",
    "    scores = cross_validate(pipeline, x_train, y_train, cv=10, return_train_score=True)\n",
    "    print(\"Mean test score: \", scores[\"test_score\"].mean())\n",
    "    display(pd.DataFrame(scores))\n",
    "    \n",
    "show_cv_results(pipeline_gbm)"
   ]
  },
  {
   "attachments": {},
   "cell_type": "markdown",
   "metadata": {},
   "source": [
    "### Hyperparameter Tuning"
   ]
  },
  {
   "cell_type": "code",
   "execution_count": null,
   "metadata": {},
   "outputs": [],
   "source": [
    "n_components = list(range(1, x.shape[1]+1, 3))\n",
    "\n",
    "grid_gbm = {\n",
    "    \"gbm__max_depth\": [1, 3, 5, 10],\n",
    "    \"gbm__learning_rate\": [0.01, 0.1, 1],\n",
    "    \"gbm__n_estimators\": [80, 100, 200, 300, 400],\n",
    "    \"pca__n_components\": n_components\n",
    "}\n",
    "\n",
    "gs_gbm = GridSearchCV(pipeline_gbm, grid_gbm)\n",
    "gs_gbm.fit(x_train, y_train)"
   ]
  },
  {
   "cell_type": "code",
   "execution_count": 88,
   "metadata": {},
   "outputs": [],
   "source": [
    "# helper function to view grid search results\n",
    "\n",
    "def report_GridSearchCV_results(gs):\n",
    "    print(\"Best combination of hyperparams:\\n\", gs.best_params_, \"\\n\")\n",
    "    print(\"Best mean_test_score score:\\n\", gs.best_score_, \"\\n\")\n",
    "    \n",
    "    scores = []\n",
    "    for i in range(gs.n_splits_):\n",
    "        scores.append(gs.cv_results_['split{}_test_score'.format(i)][gs.best_index_])\n",
    "    print(\"Score by fold for best estimator:\\n\", scores, \"\\n\")\n",
    "    \n",
    "    # View top 5 hyperparams combinations by mean_test_score (mean on \"validation\" set)\n",
    "    print(\"Top 5 hyperparams combinations by mean_test_score:\")\n",
    "    display(pd.DataFrame(gs.cv_results_)[[\"rank_test_score\", \"mean_test_score\"] \n",
    "                                            + [\"param_\" + param for param in gs.param_grid]]\\\n",
    "              .sort_values(by = \"mean_test_score\", ascending = False)\\\n",
    "              .set_index(\"rank_test_score\").head(5))"
   ]
  },
  {
   "cell_type": "code",
   "execution_count": 100,
   "metadata": {},
   "outputs": [
    {
     "name": "stdout",
     "output_type": "stream",
     "text": [
      "Best combination of hyperparams:\n",
      " {'gbm__learning_rate': 0.1, 'gbm__max_depth': 5, 'gbm__n_estimators': 100, 'pca__n_components': 19} \n",
      "\n",
      "Best mean_test_score score:\n",
      " 0.8994764986543556 \n",
      "\n",
      "Score by fold for best estimator:\n",
      " [0.8951310861423221, 0.8874296435272045, 0.9136960600375235, 0.9080675422138836, 0.8930581613508443] \n",
      "\n",
      "Top 5 hyperparams combinations by mean_test_score:\n"
     ]
    },
    {
     "data": {
      "text/html": [
       "<div>\n",
       "<style scoped>\n",
       "    .dataframe tbody tr th:only-of-type {\n",
       "        vertical-align: middle;\n",
       "    }\n",
       "\n",
       "    .dataframe tbody tr th {\n",
       "        vertical-align: top;\n",
       "    }\n",
       "\n",
       "    .dataframe thead th {\n",
       "        text-align: right;\n",
       "    }\n",
       "</style>\n",
       "<table border=\"1\" class=\"dataframe\">\n",
       "  <thead>\n",
       "    <tr style=\"text-align: right;\">\n",
       "      <th></th>\n",
       "      <th>mean_test_score</th>\n",
       "      <th>param_gbm__max_depth</th>\n",
       "      <th>param_gbm__learning_rate</th>\n",
       "      <th>param_gbm__n_estimators</th>\n",
       "      <th>param_pca__n_components</th>\n",
       "    </tr>\n",
       "    <tr>\n",
       "      <th>rank_test_score</th>\n",
       "      <th></th>\n",
       "      <th></th>\n",
       "      <th></th>\n",
       "      <th></th>\n",
       "      <th></th>\n",
       "    </tr>\n",
       "  </thead>\n",
       "  <tbody>\n",
       "    <tr>\n",
       "      <th>1</th>\n",
       "      <td>0.899476</td>\n",
       "      <td>5</td>\n",
       "      <td>0.1</td>\n",
       "      <td>100</td>\n",
       "      <td>19</td>\n",
       "    </tr>\n",
       "    <tr>\n",
       "      <th>2</th>\n",
       "      <td>0.896098</td>\n",
       "      <td>5</td>\n",
       "      <td>0.1</td>\n",
       "      <td>80</td>\n",
       "      <td>13</td>\n",
       "    </tr>\n",
       "    <tr>\n",
       "      <th>3</th>\n",
       "      <td>0.895352</td>\n",
       "      <td>5</td>\n",
       "      <td>0.1</td>\n",
       "      <td>80</td>\n",
       "      <td>19</td>\n",
       "    </tr>\n",
       "    <tr>\n",
       "      <th>4</th>\n",
       "      <td>0.893473</td>\n",
       "      <td>5</td>\n",
       "      <td>0.1</td>\n",
       "      <td>100</td>\n",
       "      <td>16</td>\n",
       "    </tr>\n",
       "    <tr>\n",
       "      <th>5</th>\n",
       "      <td>0.892726</td>\n",
       "      <td>5</td>\n",
       "      <td>0.1</td>\n",
       "      <td>400</td>\n",
       "      <td>13</td>\n",
       "    </tr>\n",
       "  </tbody>\n",
       "</table>\n",
       "</div>"
      ],
      "text/plain": [
       "                 mean_test_score param_gbm__max_depth  \\\n",
       "rank_test_score                                         \n",
       "1                       0.899476                    5   \n",
       "2                       0.896098                    5   \n",
       "3                       0.895352                    5   \n",
       "4                       0.893473                    5   \n",
       "5                       0.892726                    5   \n",
       "\n",
       "                param_gbm__learning_rate param_gbm__n_estimators  \\\n",
       "rank_test_score                                                    \n",
       "1                                    0.1                     100   \n",
       "2                                    0.1                      80   \n",
       "3                                    0.1                      80   \n",
       "4                                    0.1                     100   \n",
       "5                                    0.1                     400   \n",
       "\n",
       "                param_pca__n_components  \n",
       "rank_test_score                          \n",
       "1                                    19  \n",
       "2                                    13  \n",
       "3                                    19  \n",
       "4                                    16  \n",
       "5                                    13  "
      ]
     },
     "metadata": {},
     "output_type": "display_data"
    }
   ],
   "source": [
    "report_GridSearchCV_results(gs_gbm)"
   ]
  },
  {
   "attachments": {},
   "cell_type": "markdown",
   "metadata": {},
   "source": [
    "### Performance on Test Set"
   ]
  },
  {
   "cell_type": "code",
   "execution_count": 167,
   "metadata": {},
   "outputs": [
    {
     "name": "stdout",
     "output_type": "stream",
     "text": [
      "              precision    recall  f1-score   support\n",
      "\n",
      "       False       0.93      0.98      0.95       593\n",
      "        True       0.67      0.38      0.48        74\n",
      "\n",
      "    accuracy                           0.91       667\n",
      "   macro avg       0.80      0.68      0.72       667\n",
      "weighted avg       0.90      0.91      0.90       667\n",
      "\n"
     ]
    },
    {
     "data": {
      "image/png": "[encoded data removed]",
      "text/plain": [
       "<Figure size 432x288 with 2 Axes>"
      ]
     },
     "metadata": {
      "needs_background": "light"
     },
     "output_type": "display_data"
    }
   ],
   "source": [
    "def score_model(model, x, y):\n",
    "    pred = model.predict(x)\n",
    "    print(classification_report(y, pred))\n",
    "    \n",
    "    cm = confusion_matrix(y, pred)\n",
    "    columns = np.unique(y)\n",
    "    df_cm = pd.DataFrame(cm, index=columns, columns=columns)\n",
    "    ax = sns.heatmap(df_cm, cmap='Blues', annot=True, fmt='g')\n",
    "    ax.set_xlabel(\"Predicted\")\n",
    "    ax.set_ylabel(\"Actual\")\n",
    "    \n",
    "score_model(gs_gbm, x_test, y_test)"
   ]
  },
  {
   "attachments": {},
   "cell_type": "markdown",
   "metadata": {},
   "source": [
    "### Fitting New Model"
   ]
  },
  {
   "cell_type": "code",
   "execution_count": null,
   "metadata": {},
   "outputs": [],
   "source": [
    "gbm1 = GradientBoostingClassifier(learning_rate = 0.1, n_estimators = 100, max_depth = 5)\n",
    "\n",
    "gbm1.fit(x_train_encoded_gbm, y_train)"
   ]
  },
  {
   "attachments": {},
   "cell_type": "markdown",
   "metadata": {},
   "source": [
    "## Model 2: Light Gradient Boosting Machine Classifier"
   ]
  },
  {
   "attachments": {},
   "cell_type": "markdown",
   "metadata": {},
   "source": [
    "### Feature Encoding (One-Hot Encoding)"
   ]
  },
  {
   "cell_type": "code",
   "execution_count": 14,
   "metadata": {},
   "outputs": [],
   "source": [
    "# One-hot encoding, fitted on the train dataset\n",
    "enc_lgbm = OneHotEncoder(sparse=False, handle_unknown=\"ignore\")\n",
    "\n",
    "transformer_lgbm = ColumnTransformer([\n",
    "    (\"categorical\", enc_lgbm, categorical_variables)\n",
    "], remainder=\"passthrough\")\n",
    "\n",
    "transformer_lgbm.fit(x_train)\n",
    "\n",
    "x_train_encoded_lgbm = pd.DataFrame(transformer_lgbm.transform(x_train), columns=transformer_lgbm.get_feature_names())\n",
    "x_test_encoded_lgbm = pd.DataFrame(transformer_lgbm.transform(x_test), columns=transformer_lgbm.get_feature_names())"
   ]
  },
  {
   "attachments": {},
   "cell_type": "markdown",
   "metadata": {},
   "source": [
    "### Pipeline"
   ]
  },
  {
   "cell_type": "code",
   "execution_count": 170,
   "metadata": {},
   "outputs": [],
   "source": [
    "lgbm = LGBMClassifier(num_leaves = 30, max_depth = 5, learning_rate = 0.1, n_estimators = 100)\n",
    "\n",
    "pipeline_lgbm = Pipeline(steps=[(\"transformer\", transformer_lgbm), (\"scaler\", StandardScaler()), ('pca', PCA()), (\"lgbm\", lgbm)])"
   ]
  },
  {
   "attachments": {},
   "cell_type": "markdown",
   "metadata": {},
   "source": [
    "### Cross-Validation"
   ]
  },
  {
   "cell_type": "code",
   "execution_count": 102,
   "metadata": {},
   "outputs": [
    {
     "name": "stdout",
     "output_type": "stream",
     "text": [
      "Mean test score:  0.8889597589479317\n"
     ]
    },
    {
     "data": {
      "text/html": [
       "<div>\n",
       "<style scoped>\n",
       "    .dataframe tbody tr th:only-of-type {\n",
       "        vertical-align: middle;\n",
       "    }\n",
       "\n",
       "    .dataframe tbody tr th {\n",
       "        vertical-align: top;\n",
       "    }\n",
       "\n",
       "    .dataframe thead th {\n",
       "        text-align: right;\n",
       "    }\n",
       "</style>\n",
       "<table border=\"1\" class=\"dataframe\">\n",
       "  <thead>\n",
       "    <tr style=\"text-align: right;\">\n",
       "      <th></th>\n",
       "      <th>fit_time</th>\n",
       "      <th>score_time</th>\n",
       "      <th>test_score</th>\n",
       "      <th>train_score</th>\n",
       "    </tr>\n",
       "  </thead>\n",
       "  <tbody>\n",
       "    <tr>\n",
       "      <th>0</th>\n",
       "      <td>0.493246</td>\n",
       "      <td>0.009582</td>\n",
       "      <td>0.883895</td>\n",
       "      <td>0.970404</td>\n",
       "    </tr>\n",
       "    <tr>\n",
       "      <th>1</th>\n",
       "      <td>0.226774</td>\n",
       "      <td>0.005909</td>\n",
       "      <td>0.910112</td>\n",
       "      <td>0.985827</td>\n",
       "    </tr>\n",
       "    <tr>\n",
       "      <th>2</th>\n",
       "      <td>0.197097</td>\n",
       "      <td>0.006725</td>\n",
       "      <td>0.868914</td>\n",
       "      <td>0.983743</td>\n",
       "    </tr>\n",
       "    <tr>\n",
       "      <th>3</th>\n",
       "      <td>0.409762</td>\n",
       "      <td>0.007826</td>\n",
       "      <td>0.880150</td>\n",
       "      <td>0.982493</td>\n",
       "    </tr>\n",
       "    <tr>\n",
       "      <th>4</th>\n",
       "      <td>0.277717</td>\n",
       "      <td>0.006020</td>\n",
       "      <td>0.906367</td>\n",
       "      <td>0.974990</td>\n",
       "    </tr>\n",
       "    <tr>\n",
       "      <th>5</th>\n",
       "      <td>0.246611</td>\n",
       "      <td>0.006200</td>\n",
       "      <td>0.917603</td>\n",
       "      <td>0.981242</td>\n",
       "    </tr>\n",
       "    <tr>\n",
       "      <th>6</th>\n",
       "      <td>0.224531</td>\n",
       "      <td>0.005388</td>\n",
       "      <td>0.883459</td>\n",
       "      <td>0.982917</td>\n",
       "    </tr>\n",
       "    <tr>\n",
       "      <th>7</th>\n",
       "      <td>0.204380</td>\n",
       "      <td>0.006571</td>\n",
       "      <td>0.875940</td>\n",
       "      <td>0.975833</td>\n",
       "    </tr>\n",
       "    <tr>\n",
       "      <th>8</th>\n",
       "      <td>0.212069</td>\n",
       "      <td>0.005920</td>\n",
       "      <td>0.879699</td>\n",
       "      <td>0.982500</td>\n",
       "    </tr>\n",
       "    <tr>\n",
       "      <th>9</th>\n",
       "      <td>0.245403</td>\n",
       "      <td>0.005267</td>\n",
       "      <td>0.883459</td>\n",
       "      <td>0.979583</td>\n",
       "    </tr>\n",
       "  </tbody>\n",
       "</table>\n",
       "</div>"
      ],
      "text/plain": [
       "   fit_time  score_time  test_score  train_score\n",
       "0  0.493246    0.009582    0.883895     0.970404\n",
       "1  0.226774    0.005909    0.910112     0.985827\n",
       "2  0.197097    0.006725    0.868914     0.983743\n",
       "3  0.409762    0.007826    0.880150     0.982493\n",
       "4  0.277717    0.006020    0.906367     0.974990\n",
       "5  0.246611    0.006200    0.917603     0.981242\n",
       "6  0.224531    0.005388    0.883459     0.982917\n",
       "7  0.204380    0.006571    0.875940     0.975833\n",
       "8  0.212069    0.005920    0.879699     0.982500\n",
       "9  0.245403    0.005267    0.883459     0.979583"
      ]
     },
     "metadata": {},
     "output_type": "display_data"
    }
   ],
   "source": [
    "show_cv_results(pipeline_lgbm)"
   ]
  },
  {
   "attachments": {},
   "cell_type": "markdown",
   "metadata": {},
   "source": [
    "### Hyperparameter Tuning"
   ]
  },
  {
   "cell_type": "code",
   "execution_count": null,
   "metadata": {},
   "outputs": [],
   "source": [
    "# Hyperparameter tuning\n",
    "grid_lgbm = {\n",
    "    \"lgbm__num_leaves\": [20, 30, 40, 50],\n",
    "    \"lgbm__max_depth\": [5, 15, 25, 35],\n",
    "    \"lgbm__n_estimators\": [80, 100, 200, 300, 400], \n",
    "    \"pca__n_components\": n_components\n",
    "}\n",
    "\n",
    "gs_lgbm = GridSearchCV(pipeline_lgbm, grid_lgbm)\n",
    "gs_lgbm.fit(x_train, y_train)"
   ]
  },
  {
   "cell_type": "code",
   "execution_count": 104,
   "metadata": {},
   "outputs": [
    {
     "name": "stdout",
     "output_type": "stream",
     "text": [
      "Best combination of hyperparams:\n",
      " {'lgbm__max_depth': 35, 'lgbm__n_estimators': 200, 'lgbm__num_leaves': 40, 'pca__n_components': 16} \n",
      "\n",
      "Best mean_test_score score:\n",
      " 0.9039729887359375 \n",
      "\n",
      "Score by fold for best estimator:\n",
      " [0.9119850187265918, 0.8949343339587242, 0.9155722326454033, 0.9118198874296435, 0.8855534709193246] \n",
      "\n",
      "Top 5 hyperparams combinations by mean_test_score:\n"
     ]
    },
    {
     "data": {
      "text/html": [
       "<div>\n",
       "<style scoped>\n",
       "    .dataframe tbody tr th:only-of-type {\n",
       "        vertical-align: middle;\n",
       "    }\n",
       "\n",
       "    .dataframe tbody tr th {\n",
       "        vertical-align: top;\n",
       "    }\n",
       "\n",
       "    .dataframe thead th {\n",
       "        text-align: right;\n",
       "    }\n",
       "</style>\n",
       "<table border=\"1\" class=\"dataframe\">\n",
       "  <thead>\n",
       "    <tr style=\"text-align: right;\">\n",
       "      <th></th>\n",
       "      <th>mean_test_score</th>\n",
       "      <th>param_lgbm__num_leaves</th>\n",
       "      <th>param_lgbm__max_depth</th>\n",
       "      <th>param_lgbm__n_estimators</th>\n",
       "      <th>param_pca__n_components</th>\n",
       "    </tr>\n",
       "    <tr>\n",
       "      <th>rank_test_score</th>\n",
       "      <th></th>\n",
       "      <th></th>\n",
       "      <th></th>\n",
       "      <th></th>\n",
       "      <th></th>\n",
       "    </tr>\n",
       "  </thead>\n",
       "  <tbody>\n",
       "    <tr>\n",
       "      <th>1</th>\n",
       "      <td>0.903973</td>\n",
       "      <td>40</td>\n",
       "      <td>35</td>\n",
       "      <td>200</td>\n",
       "      <td>16</td>\n",
       "    </tr>\n",
       "    <tr>\n",
       "      <th>2</th>\n",
       "      <td>0.902473</td>\n",
       "      <td>40</td>\n",
       "      <td>35</td>\n",
       "      <td>400</td>\n",
       "      <td>19</td>\n",
       "    </tr>\n",
       "    <tr>\n",
       "      <th>3</th>\n",
       "      <td>0.902095</td>\n",
       "      <td>30</td>\n",
       "      <td>35</td>\n",
       "      <td>100</td>\n",
       "      <td>19</td>\n",
       "    </tr>\n",
       "    <tr>\n",
       "      <th>4</th>\n",
       "      <td>0.899850</td>\n",
       "      <td>50</td>\n",
       "      <td>15</td>\n",
       "      <td>200</td>\n",
       "      <td>13</td>\n",
       "    </tr>\n",
       "    <tr>\n",
       "      <th>5</th>\n",
       "      <td>0.899474</td>\n",
       "      <td>30</td>\n",
       "      <td>15</td>\n",
       "      <td>100</td>\n",
       "      <td>7</td>\n",
       "    </tr>\n",
       "  </tbody>\n",
       "</table>\n",
       "</div>"
      ],
      "text/plain": [
       "                 mean_test_score param_lgbm__num_leaves param_lgbm__max_depth  \\\n",
       "rank_test_score                                                                 \n",
       "1                       0.903973                     40                    35   \n",
       "2                       0.902473                     40                    35   \n",
       "3                       0.902095                     30                    35   \n",
       "4                       0.899850                     50                    15   \n",
       "5                       0.899474                     30                    15   \n",
       "\n",
       "                param_lgbm__n_estimators param_pca__n_components  \n",
       "rank_test_score                                                   \n",
       "1                                    200                      16  \n",
       "2                                    400                      19  \n",
       "3                                    100                      19  \n",
       "4                                    200                      13  \n",
       "5                                    100                       7  "
      ]
     },
     "metadata": {},
     "output_type": "display_data"
    }
   ],
   "source": [
    "report_GridSearchCV_results(gs_lgbm)"
   ]
  },
  {
   "attachments": {},
   "cell_type": "markdown",
   "metadata": {},
   "source": [
    "### Performance on Test Set"
   ]
  },
  {
   "cell_type": "code",
   "execution_count": 172,
   "metadata": {},
   "outputs": [
    {
     "name": "stdout",
     "output_type": "stream",
     "text": [
      "              precision    recall  f1-score   support\n",
      "\n",
      "       False       0.93      0.97      0.95       593\n",
      "        True       0.67      0.43      0.52        74\n",
      "\n",
      "    accuracy                           0.91       667\n",
      "   macro avg       0.80      0.70      0.74       667\n",
      "weighted avg       0.90      0.91      0.90       667\n",
      "\n"
     ]
    },
    {
     "data": {
      "image/png": "[encoded data removed]",
      "text/plain": [
       "<Figure size 432x288 with 2 Axes>"
      ]
     },
     "metadata": {
      "needs_background": "light"
     },
     "output_type": "display_data"
    }
   ],
   "source": [
    "score_model(gs_lgbm, x_test, y_test)"
   ]
  },
  {
   "attachments": {},
   "cell_type": "markdown",
   "metadata": {},
   "source": [
    "### Fitting new model"
   ]
  },
  {
   "cell_type": "code",
   "execution_count": 15,
   "metadata": {},
   "outputs": [
    {
     "data": {
      "text/plain": [
       "LGBMClassifier(max_depth=35, n_estimators=200, num_leaves=40)"
      ]
     },
     "execution_count": 15,
     "metadata": {},
     "output_type": "execute_result"
    }
   ],
   "source": [
    "lgbm1 = LGBMClassifier(max_depth = 35, n_estimators = 200, learning_rate = 0.1, num_leaves = 40)\n",
    "\n",
    "lgbm1.fit(x_train_encoded_lgbm, y_train)"
   ]
  },
  {
   "attachments": {},
   "cell_type": "markdown",
   "metadata": {},
   "source": [
    "## Model 3: Logistic Regression"
   ]
  },
  {
   "attachments": {},
   "cell_type": "markdown",
   "metadata": {},
   "source": [
    "### Feature Encoding (One-Hot Encoding)"
   ]
  },
  {
   "cell_type": "code",
   "execution_count": 16,
   "metadata": {},
   "outputs": [],
   "source": [
    "enc_lr = OneHotEncoder(sparse=False, handle_unknown=\"ignore\")\n",
    "\n",
    "transformer_lr = ColumnTransformer([\n",
    "    (\"categorical\", enc_lr, categorical_variables)\n",
    "], remainder=\"passthrough\")\n",
    "\n",
    "transformer_lr.fit(x_train)\n",
    "\n",
    "x_train_encoded_lr = pd.DataFrame(transformer_lr.transform(x_train), columns=transformer_lr.get_feature_names())\n",
    "x_test_encoded_lr = pd.DataFrame(transformer_lr.transform(x_test), columns=transformer_lr.get_feature_names())"
   ]
  },
  {
   "attachments": {},
   "cell_type": "markdown",
   "metadata": {},
   "source": [
    "### Pipeline"
   ]
  },
  {
   "cell_type": "code",
   "execution_count": 140,
   "metadata": {},
   "outputs": [],
   "source": [
    "lr = LogisticRegression(max_iter=1000, solver=\"liblinear\", penalty=\"l1\")\n",
    "\n",
    "pipeline_lr = Pipeline(steps=[(\"transformer\", transformer_lr), (\"scaler\", StandardScaler()), ('pca', PCA()), (\"logistic\", lr)])"
   ]
  },
  {
   "cell_type": "markdown",
   "metadata": {},
   "source": [
    "### Cross-Validation"
   ]
  },
  {
   "cell_type": "code",
   "execution_count": 141,
   "metadata": {},
   "outputs": [
    {
     "name": "stdout",
     "output_type": "stream",
     "text": [
      "Mean test score:  0.8540846498268142\n"
     ]
    },
    {
     "data": {
      "text/html": [
       "<div>\n",
       "<style scoped>\n",
       "    .dataframe tbody tr th:only-of-type {\n",
       "        vertical-align: middle;\n",
       "    }\n",
       "\n",
       "    .dataframe tbody tr th {\n",
       "        vertical-align: top;\n",
       "    }\n",
       "\n",
       "    .dataframe thead th {\n",
       "        text-align: right;\n",
       "    }\n",
       "</style>\n",
       "<table border=\"1\" class=\"dataframe\">\n",
       "  <thead>\n",
       "    <tr style=\"text-align: right;\">\n",
       "      <th></th>\n",
       "      <th>fit_time</th>\n",
       "      <th>score_time</th>\n",
       "      <th>test_score</th>\n",
       "      <th>train_score</th>\n",
       "    </tr>\n",
       "  </thead>\n",
       "  <tbody>\n",
       "    <tr>\n",
       "      <th>0</th>\n",
       "      <td>0.097618</td>\n",
       "      <td>0.008639</td>\n",
       "      <td>0.876404</td>\n",
       "      <td>0.864527</td>\n",
       "    </tr>\n",
       "    <tr>\n",
       "      <th>1</th>\n",
       "      <td>0.048250</td>\n",
       "      <td>0.005756</td>\n",
       "      <td>0.857678</td>\n",
       "      <td>0.868278</td>\n",
       "    </tr>\n",
       "    <tr>\n",
       "      <th>2</th>\n",
       "      <td>0.044411</td>\n",
       "      <td>0.006606</td>\n",
       "      <td>0.861423</td>\n",
       "      <td>0.866194</td>\n",
       "    </tr>\n",
       "    <tr>\n",
       "      <th>3</th>\n",
       "      <td>0.043004</td>\n",
       "      <td>0.005353</td>\n",
       "      <td>0.835206</td>\n",
       "      <td>0.868278</td>\n",
       "    </tr>\n",
       "    <tr>\n",
       "      <th>4</th>\n",
       "      <td>0.046956</td>\n",
       "      <td>0.006065</td>\n",
       "      <td>0.850187</td>\n",
       "      <td>0.864110</td>\n",
       "    </tr>\n",
       "    <tr>\n",
       "      <th>5</th>\n",
       "      <td>0.042130</td>\n",
       "      <td>0.005618</td>\n",
       "      <td>0.853933</td>\n",
       "      <td>0.865777</td>\n",
       "    </tr>\n",
       "    <tr>\n",
       "      <th>6</th>\n",
       "      <td>0.047996</td>\n",
       "      <td>0.004886</td>\n",
       "      <td>0.849624</td>\n",
       "      <td>0.868750</td>\n",
       "    </tr>\n",
       "    <tr>\n",
       "      <th>7</th>\n",
       "      <td>0.045980</td>\n",
       "      <td>0.005080</td>\n",
       "      <td>0.834586</td>\n",
       "      <td>0.868750</td>\n",
       "    </tr>\n",
       "    <tr>\n",
       "      <th>8</th>\n",
       "      <td>0.043011</td>\n",
       "      <td>0.006140</td>\n",
       "      <td>0.845865</td>\n",
       "      <td>0.865833</td>\n",
       "    </tr>\n",
       "    <tr>\n",
       "      <th>9</th>\n",
       "      <td>0.045215</td>\n",
       "      <td>0.006739</td>\n",
       "      <td>0.875940</td>\n",
       "      <td>0.866667</td>\n",
       "    </tr>\n",
       "  </tbody>\n",
       "</table>\n",
       "</div>"
      ],
      "text/plain": [
       "   fit_time  score_time  test_score  train_score\n",
       "0  0.097618    0.008639    0.876404     0.864527\n",
       "1  0.048250    0.005756    0.857678     0.868278\n",
       "2  0.044411    0.006606    0.861423     0.866194\n",
       "3  0.043004    0.005353    0.835206     0.868278\n",
       "4  0.046956    0.006065    0.850187     0.864110\n",
       "5  0.042130    0.005618    0.853933     0.865777\n",
       "6  0.047996    0.004886    0.849624     0.868750\n",
       "7  0.045980    0.005080    0.834586     0.868750\n",
       "8  0.043011    0.006140    0.845865     0.865833\n",
       "9  0.045215    0.006739    0.875940     0.866667"
      ]
     },
     "metadata": {},
     "output_type": "display_data"
    }
   ],
   "source": [
    "show_cv_results(pipeline_lr)"
   ]
  },
  {
   "attachments": {},
   "cell_type": "markdown",
   "metadata": {},
   "source": [
    "### Hyperparameter Tuning"
   ]
  },
  {
   "cell_type": "code",
   "execution_count": null,
   "metadata": {},
   "outputs": [],
   "source": [
    "C = np.logspace(-4, 4, 50)\n",
    "penalty = ['l1', 'l2']\n",
    "\n",
    "grid_lr = {\n",
    "    \"logistic__C\": C, \n",
    "    \"logistic__penalty\": penalty,\n",
    "    \"pca__n_components\": n_components\n",
    "}\n",
    "\n",
    "gs_lr = GridSearchCV(pipeline_lr, grid_lr)\n",
    "gs_lr.fit(x_train, y_train)"
   ]
  },
  {
   "cell_type": "code",
   "execution_count": 143,
   "metadata": {},
   "outputs": [
    {
     "name": "stdout",
     "output_type": "stream",
     "text": [
      "Best combination of hyperparams:\n",
      " {'logistic__C': 2222.996482526191, 'logistic__penalty': 'l2', 'pca__n_components': 19} \n",
      "\n",
      "Best mean_test_score score:\n",
      " 0.864590228443339 \n",
      "\n",
      "Score by fold for best estimator:\n",
      " [0.8670411985018727, 0.8667917448405253, 0.8611632270168855, 0.8611632270168855, 0.8667917448405253] \n",
      "\n",
      "Top 5 hyperparams combinations by mean_test_score:\n"
     ]
    },
    {
     "data": {
      "text/html": [
       "<div>\n",
       "<style scoped>\n",
       "    .dataframe tbody tr th:only-of-type {\n",
       "        vertical-align: middle;\n",
       "    }\n",
       "\n",
       "    .dataframe tbody tr th {\n",
       "        vertical-align: top;\n",
       "    }\n",
       "\n",
       "    .dataframe thead th {\n",
       "        text-align: right;\n",
       "    }\n",
       "</style>\n",
       "<table border=\"1\" class=\"dataframe\">\n",
       "  <thead>\n",
       "    <tr style=\"text-align: right;\">\n",
       "      <th></th>\n",
       "      <th>mean_test_score</th>\n",
       "      <th>param_logistic__C</th>\n",
       "      <th>param_logistic__penalty</th>\n",
       "      <th>param_pca__n_components</th>\n",
       "    </tr>\n",
       "    <tr>\n",
       "      <th>rank_test_score</th>\n",
       "      <th></th>\n",
       "      <th></th>\n",
       "      <th></th>\n",
       "      <th></th>\n",
       "    </tr>\n",
       "  </thead>\n",
       "  <tbody>\n",
       "    <tr>\n",
       "      <th>1</th>\n",
       "      <td>0.864590</td>\n",
       "      <td>2222.996483</td>\n",
       "      <td>l2</td>\n",
       "      <td>19</td>\n",
       "    </tr>\n",
       "    <tr>\n",
       "      <th>2</th>\n",
       "      <td>0.864590</td>\n",
       "      <td>6866.48845</td>\n",
       "      <td>l1</td>\n",
       "      <td>13</td>\n",
       "    </tr>\n",
       "    <tr>\n",
       "      <th>3</th>\n",
       "      <td>0.864215</td>\n",
       "      <td>0.828643</td>\n",
       "      <td>l2</td>\n",
       "      <td>16</td>\n",
       "    </tr>\n",
       "    <tr>\n",
       "      <th>4</th>\n",
       "      <td>0.864211</td>\n",
       "      <td>232.995181</td>\n",
       "      <td>l1</td>\n",
       "      <td>16</td>\n",
       "    </tr>\n",
       "    <tr>\n",
       "      <th>5</th>\n",
       "      <td>0.863841</td>\n",
       "      <td>0.126486</td>\n",
       "      <td>l2</td>\n",
       "      <td>19</td>\n",
       "    </tr>\n",
       "  </tbody>\n",
       "</table>\n",
       "</div>"
      ],
      "text/plain": [
       "                 mean_test_score param_logistic__C param_logistic__penalty  \\\n",
       "rank_test_score                                                              \n",
       "1                       0.864590       2222.996483                      l2   \n",
       "2                       0.864590        6866.48845                      l1   \n",
       "3                       0.864215          0.828643                      l2   \n",
       "4                       0.864211        232.995181                      l1   \n",
       "5                       0.863841          0.126486                      l2   \n",
       "\n",
       "                param_pca__n_components  \n",
       "rank_test_score                          \n",
       "1                                    19  \n",
       "2                                    13  \n",
       "3                                    16  \n",
       "4                                    16  \n",
       "5                                    19  "
      ]
     },
     "metadata": {},
     "output_type": "display_data"
    }
   ],
   "source": [
    "report_GridSearchCV_results(gs_lr)"
   ]
  },
  {
   "attachments": {},
   "cell_type": "markdown",
   "metadata": {},
   "source": [
    "### Performance on Test Set"
   ]
  },
  {
   "cell_type": "code",
   "execution_count": 173,
   "metadata": {},
   "outputs": [
    {
     "name": "stdout",
     "output_type": "stream",
     "text": [
      "              precision    recall  f1-score   support\n",
      "\n",
      "       False       0.91      0.97      0.94       593\n",
      "        True       0.42      0.19      0.26        74\n",
      "\n",
      "    accuracy                           0.88       667\n",
      "   macro avg       0.66      0.58      0.60       667\n",
      "weighted avg       0.85      0.88      0.86       667\n",
      "\n"
     ]
    },
    {
     "data": {
      "image/png": "[encoded data removed]",
      "text/plain": [
       "<Figure size 432x288 with 2 Axes>"
      ]
     },
     "metadata": {
      "needs_background": "light"
     },
     "output_type": "display_data"
    }
   ],
   "source": [
    "score_model(gs_lr, x_test, y_test)"
   ]
  },
  {
   "attachments": {},
   "cell_type": "markdown",
   "metadata": {},
   "source": [
    "### Fitting New Model"
   ]
  },
  {
   "cell_type": "code",
   "execution_count": null,
   "metadata": {},
   "outputs": [],
   "source": [
    "lr1 = LogisticRegression(max_iter=1000, solver=\"liblinear\", penalty=\"l2\", C = 2223)\n",
    "\n",
    "lr1.fit(x_train_encoded_lr, y_train)"
   ]
  },
  {
   "attachments": {},
   "cell_type": "markdown",
   "metadata": {},
   "source": [
    "## Model Evaluation"
   ]
  },
  {
   "cell_type": "code",
   "execution_count": 18,
   "metadata": {},
   "outputs": [],
   "source": [
    "def get_results(model, X, y):\n",
    "    y_pred = model.predict(X)\n",
    "    f1 = f1_score(y, y_pred)\n",
    "    auc = roc_auc_score(y, y_pred)\n",
    "\n",
    "    return [round(f1, 2), round(auc, 2)]"
   ]
  },
  {
   "cell_type": "code",
   "execution_count": 22,
   "metadata": {},
   "outputs": [],
   "source": [
    "model_eval = []\n",
    "\n",
    "model_eval.append({'model': 'Gradient Boosting',\n",
    "                    'f1_score': get_results(gbm1, x_test_encoded_gbm, y_test)[0],\n",
    "                    'AUC': get_results(gbm1, x_test_encoded_gbm, y_test)[1]})\n",
    "\n",
    "model_eval.append({'model': 'Light Gradient Boosting',\n",
    "                    'f1_score': get_results(lgbm1, x_test_encoded_lgbm, y_test)[0],\n",
    "                    'AUC': get_results(lgbm1, x_test_encoded_lgbm, y_test)[1]})\n",
    "\n",
    "model_eval.append({'model': 'Logistic Regression',\n",
    "                    'f1_score': get_results(lr1, x_test_encoded_lr, y_test)[0],\n",
    "                    'AUC': get_results(lr1, x_test_encoded_lr, y_test)[1]})"
   ]
  },
  {
   "cell_type": "code",
   "execution_count": 27,
   "metadata": {},
   "outputs": [
    {
     "data": {
      "text/html": [
       "<div>\n",
       "<style scoped>\n",
       "    .dataframe tbody tr th:only-of-type {\n",
       "        vertical-align: middle;\n",
       "    }\n",
       "\n",
       "    .dataframe tbody tr th {\n",
       "        vertical-align: top;\n",
       "    }\n",
       "\n",
       "    .dataframe thead th {\n",
       "        text-align: right;\n",
       "    }\n",
       "</style>\n",
       "<table border=\"1\" class=\"dataframe\">\n",
       "  <thead>\n",
       "    <tr style=\"text-align: right;\">\n",
       "      <th></th>\n",
       "      <th>model</th>\n",
       "      <th>f1_score</th>\n",
       "      <th>AUC</th>\n",
       "    </tr>\n",
       "  </thead>\n",
       "  <tbody>\n",
       "    <tr>\n",
       "      <th>0</th>\n",
       "      <td>Light Gradient Boosting</td>\n",
       "      <td>0.89</td>\n",
       "      <td>0.93</td>\n",
       "    </tr>\n",
       "    <tr>\n",
       "      <th>1</th>\n",
       "      <td>Gradient Boosting</td>\n",
       "      <td>0.86</td>\n",
       "      <td>0.92</td>\n",
       "    </tr>\n",
       "    <tr>\n",
       "      <th>2</th>\n",
       "      <td>Logistic Regression</td>\n",
       "      <td>0.34</td>\n",
       "      <td>0.62</td>\n",
       "    </tr>\n",
       "  </tbody>\n",
       "</table>\n",
       "</div>"
      ],
      "text/plain": [
       "                     model  f1_score   AUC\n",
       "0  Light Gradient Boosting      0.89  0.93\n",
       "1        Gradient Boosting      0.86  0.92\n",
       "2      Logistic Regression      0.34  0.62"
      ]
     },
     "execution_count": 27,
     "metadata": {},
     "output_type": "execute_result"
    }
   ],
   "source": [
    "model_eval = pd.DataFrame(model_eval)\n",
    "\n",
    "model_eval.sort_values(by = ['f1_score', 'AUC'], ascending = [False, False]).reset_index(drop = True)"
   ]
  },
  {
   "cell_type": "markdown",
   "metadata": {},
   "source": [
    "From the model evaluation, we can see that the Light Gradient Boosting has the highest f1_score and AUC among the 3 models. Thus, it should be the model to be used to predict if the customer churns or not. We can also see that in all 3 models, they do extremely well in predicting if a customer does not churn as all 3 models have the higher f1_score when predicting the False case."
   ]
  }
 ],
 "metadata": {
  "kernelspec": {
   "display_name": "Python 3",
   "language": "python",
   "name": "python3"
  },
  "language_info": {
   "codemirror_mode": {
    "name": "ipython",
    "version": 3
   },
   "file_extension": ".py",
   "mimetype": "text/x-python",
   "name": "python",
   "nbconvert_exporter": "python",
   "pygments_lexer": "ipython3",
   "version": "3.9.6"
  },
  "orig_nbformat": 4,
  "vscode": {
   "interpreter": {
    "hash": "31f2aee4e71d21fbe5cf8b01ff0e069b9275f58929596ceb00d14d90e3e16cd6"
   }
  }
 },
 "nbformat": 4,
 "nbformat_minor": 2
}
