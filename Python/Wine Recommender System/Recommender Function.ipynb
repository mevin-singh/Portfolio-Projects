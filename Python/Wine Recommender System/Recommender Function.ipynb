{
 "cells": [
  {
   "cell_type": "markdown",
   "metadata": {},
   "source": [
    "# **Recommender Function**\n"
   ]
  },
  {
   "cell_type": "markdown",
   "metadata": {},
   "source": [
    "## Summary\n",
    "\n",
    "This notebook contains the Recommender Function for our Wine Recommender System. A seperate file was created so that the usage/testing of the Recommender System can be done quickly and efficiently.\n",
    "\n",
    "The Recommender System will take in the user preferences and output the recommended type of wine based on those preferences. The top 3 most highly rated wines of that type from the country given in the inputs will be recommended to them.\n",
    "- If there are no such options availiable, the top 3 most highly rated wines across the whole catalogue will be given to the user. \n",
    "- If the country, given by the user, does not have at least 3 wines of the predicted type, the remaining will be filled by the other top rated wines of that type from the catalogue that the user can try."
   ]
  },
  {
   "cell_type": "markdown",
   "metadata": {},
   "source": [
    "## Importing neccessary packages"
   ]
  },
  {
   "cell_type": "code",
   "execution_count": 97,
   "metadata": {},
   "outputs": [],
   "source": [
    "import pandas as pd\n",
    "import numpy as np\n",
    "import seaborn as sns\n",
    "import matplotlib.pyplot as plt\n",
    "import re\n",
    "\n",
    "from sklearn.preprocessing import OneHotEncoder\n",
    "from sklearn.compose import ColumnTransformer\n",
    "from sklearn.model_selection import train_test_split\n",
    "from sklearn.ensemble import RandomForestClassifier\n",
    "\n",
    "# To ignore warnings in the notebook\n",
    "import warnings\n",
    "warnings.filterwarnings(\"ignore\")"
   ]
  },
  {
   "cell_type": "code",
   "execution_count": 98,
   "metadata": {},
   "outputs": [],
   "source": [
    "# import data\n",
    "df = pd.read_csv('XWines_Full_100K_wines.csv')"
   ]
  },
  {
   "cell_type": "markdown",
   "metadata": {},
   "source": [
    "## Preprocessing and Data Cleaning"
   ]
  },
  {
   "cell_type": "markdown",
   "metadata": {},
   "source": [
    "### Grapes"
   ]
  },
  {
   "cell_type": "code",
   "execution_count": 99,
   "metadata": {},
   "outputs": [],
   "source": [
    "# creating a function to remove square brackets and quotation marks\n",
    "# to be used on Grapes, Harmonize and Vintages\n",
    "# inputs: data is the dataframe, column_names is the name of the column (string) or list\n",
    "def clean_column(data, column_names):\n",
    "    \n",
    "    for column_name in column_names:\n",
    "\n",
    "        if column_name in ['Grapes', 'Harmonize']:\n",
    "            # extracting all words inside \n",
    "            data[column_name] = data[column_name].apply(lambda x: re.findall(r\"'(.*?)'\", x))\n",
    "\n",
    "            # convert the list of words back to a string\n",
    "            data[column_name] = data[column_name].apply(lambda x: ', '.join(x))\n",
    "        \n",
    "        else: \n",
    "            # removing the square brackets\n",
    "            data[column_name] = data[column_name].apply(lambda x: str(x).strip('[]'))\n",
    "\n",
    "    return data\n",
    "\n",
    "\n",
    "df = clean_column(df, ['Grapes', 'Harmonize', 'Vintages'])"
   ]
  },
  {
   "cell_type": "code",
   "execution_count": 100,
   "metadata": {},
   "outputs": [],
   "source": [
    "# creating function to get the counts\n",
    "# inputs: data is the dataframe, columns_name are the list of columns to get the counts\n",
    "\n",
    "def get_counts(data, column_names):\n",
    "    for column_name in column_names:\n",
    "        data[column_name] = data[column_name].apply(lambda x: len(x.split(', ')))\n",
    "\n",
    "    return data\n",
    "\n",
    "df = get_counts(df, ['Grapes'])"
   ]
  },
  {
   "cell_type": "markdown",
   "metadata": {},
   "source": [
    "### Harmonize"
   ]
  },
  {
   "cell_type": "code",
   "execution_count": 101,
   "metadata": {},
   "outputs": [],
   "source": [
    "# re-classifying similar types of foods with the similar names into same categories\n",
    "red_meat = ['Beef', 'Pork', 'Lamb', 'Veal', 'Meat', 'Ham', 'Red Meat']\n",
    "white_meat = ['Chicken', 'Poultry', 'Duck', 'Cold Cuts']\n",
    "cheese = ['Mild Cheese', 'Medium-cured Cheese', 'Cheese', 'Soft Cheese', 'Maturated Cheese', 'Hard Cheese', 'Goat Cheese', 'Blue Cheese']\n",
    "seafood = ['Shellfish', 'Rich Fish', 'Lean Fish', 'Fish', 'Codfish', 'Seafood']\n",
    "italian = ['Pasta', 'Risotto', 'Tagliatelle', 'Lasagna', 'Eggplant Parmigiana', 'Pizza']\n",
    "dessert = ['Sweet Dessert', 'Fruit Dessert', 'Dessert', 'Citric Dessert', 'Cake', 'Soufflé', 'Chocolate', 'Spiced Fruit Cake']\n",
    "vegetarian = ['Vegetarian', 'Mushrooms', 'Salad', 'Beans', 'Baked Potato', 'Chestnut']\n",
    "snacks = ['Snack', 'French Fries', 'Fruit', 'Cookies']\n",
    "others = ['Sushi', 'Sashimi', 'Yakissoba', 'Asian Food', 'Roast', 'Tomato Dishes', 'Cream', 'Curry Chicken', 'Barbecue', 'Light Stews', 'Paella', 'Grilled', 'Dried Fruits']\n",
    "appetizer = ['Appetizer', 'Aperitif']"
   ]
  },
  {
   "cell_type": "code",
   "execution_count": 102,
   "metadata": {},
   "outputs": [],
   "source": [
    "list_of_lists = [red_meat, white_meat, cheese, seafood, italian, dessert, vegetarian, snacks, others, appetizer]\n",
    "names = ['Red Meat', 'White Meat', 'Cheese', 'Seafood', 'Italian', 'Dessert', 'Vegetarian', 'Snacks', 'Appetizer', 'Others']\n",
    "\n",
    "# define a function to re-assign the categories for each row\n",
    "def reassign_categories(row):\n",
    "    # splitting the food in the string and making it a list\n",
    "    food_list = row.split(', ')\n",
    "\n",
    "    # iterate through the list and re-assign the categories\n",
    "    for i in range(len(food_list)):\n",
    "        for lst, name in zip(list_of_lists, names):\n",
    "            if food_list[i] in lst:\n",
    "                food_list[i] = name\n",
    "\n",
    "    # remove repeated food categories for each row\n",
    "    new_row = list(set(food_list))\n",
    "\n",
    "    # joining the list back into a string\n",
    "    new_row = ', '.join(new_row)\n",
    "\n",
    "    return new_row\n",
    "\n",
    "# apply the function to each row of the DataFrame\n",
    "df['Harmonize'] = df['Harmonize'].apply(reassign_categories)"
   ]
  },
  {
   "cell_type": "markdown",
   "metadata": {},
   "source": [
    "### Body"
   ]
  },
  {
   "cell_type": "code",
   "execution_count": 103,
   "metadata": {},
   "outputs": [],
   "source": [
    "# removing '-bodied' from body column\n",
    "df['Body'] = df['Body'].str.replace('-bodied', '')"
   ]
  },
  {
   "cell_type": "markdown",
   "metadata": {},
   "source": [
    "### Type"
   ]
  },
  {
   "cell_type": "code",
   "execution_count": 104,
   "metadata": {},
   "outputs": [],
   "source": [
    "# replace dessert/port to just dessert wine\n",
    "df['Type'] = df['Type'].str.replace('Dessert/Port', 'Dessert')"
   ]
  },
  {
   "cell_type": "markdown",
   "metadata": {},
   "source": [
    "### Countries"
   ]
  },
  {
   "cell_type": "code",
   "execution_count": 105,
   "metadata": {},
   "outputs": [],
   "source": [
    "# getting countries that appeared more than 100 times\n",
    "country_counts = df['Country'].value_counts()\n",
    "filtered_countries = country_counts[country_counts > 100]\n",
    "df = df[df['Country'].isin(filtered_countries.index)]"
   ]
  },
  {
   "cell_type": "markdown",
   "metadata": {},
   "source": [
    "### Data Splitting"
   ]
  },
  {
   "cell_type": "code",
   "execution_count": 106,
   "metadata": {},
   "outputs": [],
   "source": [
    "# splitting data into catalogue and training data\n",
    "df = df.sample(frac = 1, random_state = 100)\n",
    "catalogue = df[:80000]\n",
    "df = df[80000:]"
   ]
  },
  {
   "cell_type": "markdown",
   "metadata": {},
   "source": [
    "## Using the Best Model"
   ]
  },
  {
   "cell_type": "code",
   "execution_count": 107,
   "metadata": {},
   "outputs": [],
   "source": [
    "df = df[['Type', 'Grapes', 'Harmonize', 'ABV', 'Body', 'Acidity', 'Country']]"
   ]
  },
  {
   "cell_type": "code",
   "execution_count": 108,
   "metadata": {},
   "outputs": [],
   "source": [
    "# one-hot encoding the harmonise column\n",
    "one_hot = df['Harmonize'].str.get_dummies(', ')\n",
    "\n",
    "# Rename the columns with the 'Harmonize_' prefix\n",
    "one_hot = one_hot.add_prefix('Harmonize_')\n",
    "\n",
    "# Concatenate the original DataFrame with the one-hot encoded DataFrame\n",
    "df = pd.concat([df, one_hot], axis=1)\n",
    "\n",
    "# Drop Harmonize Column\n",
    "df = df.drop(columns = 'Harmonize', axis = 1)"
   ]
  },
  {
   "cell_type": "code",
   "execution_count": 109,
   "metadata": {},
   "outputs": [],
   "source": [
    "# splitting the data into training and test\n",
    "X = df.drop(columns = ['Type'])\n",
    "y = df['Type']\n",
    "\n",
    "# train_test_split on dataset\n",
    "X_train, X_test, y_train, y_test = train_test_split(X, y, test_size = 0.2, random_state = 100)"
   ]
  },
  {
   "cell_type": "code",
   "execution_count": 110,
   "metadata": {},
   "outputs": [],
   "source": [
    "# function to get all categorical variables\n",
    "\n",
    "def getCategorical(X_train, data):\n",
    "    categorical_variables = []\n",
    "    \n",
    "    for column in X_train.columns:\n",
    "        if data[column].dtype == \"object\":\n",
    "            categorical_variables.append(column)\n",
    "\n",
    "    return categorical_variables"
   ]
  },
  {
   "cell_type": "code",
   "execution_count": 111,
   "metadata": {},
   "outputs": [],
   "source": [
    "# function to create a transformer to encode categorical variables\n",
    "\n",
    "def transformer(categorical_variables):\n",
    "    # One-hot encoding\n",
    "    enc_rf = OneHotEncoder(sparse_output = False, handle_unknown = \"ignore\")\n",
    "\n",
    "    transformer_rf = ColumnTransformer([\n",
    "        (\"categorical\", enc_rf, categorical_variables)\n",
    "    ], remainder=\"passthrough\")\n",
    "\n",
    "    return transformer_rf"
   ]
  },
  {
   "cell_type": "code",
   "execution_count": 112,
   "metadata": {},
   "outputs": [],
   "source": [
    "# function to transform data\n",
    "\n",
    "def transformData(X_train, X_test, transformer_rf):\n",
    "\n",
    "    X_train_encoded_rf = pd.DataFrame(transformer_rf.fit_transform(X_train), columns = transformer_rf.get_feature_names_out())\n",
    "    X_test_encoded_rf = pd.DataFrame(transformer_rf.fit_transform(X_test), columns = transformer_rf.get_feature_names_out())\n",
    "    \n",
    "    return [X_train_encoded_rf, X_test_encoded_rf]"
   ]
  },
  {
   "cell_type": "code",
   "execution_count": 113,
   "metadata": {},
   "outputs": [],
   "source": [
    "# function to rename the column to increase readability\n",
    "\n",
    "def renameCol(categorical_variables, X_train_encoded_rf, X_test_encoded_rf):\n",
    "    \n",
    "    X_train_encoded_rf.columns = X_train_encoded_rf.columns.str.replace(re.compile(r'categorical__|remainder__'), '', regex = True)\n",
    "    X_test_encoded_rf.columns = X_test_encoded_rf.columns.str.replace(re.compile(r'categorical__|remainder__'), '', regex = True)\n",
    "\n",
    "    return [X_train_encoded_rf, X_test_encoded_rf]\n"
   ]
  },
  {
   "cell_type": "code",
   "execution_count": 114,
   "metadata": {},
   "outputs": [],
   "source": [
    "# function that combines all the above functions into a function called preprocess\n",
    "def preprocess(X_train, X_test, data):\n",
    "    \n",
    "    # use the getCategorical function to get categorical variables in the dataset\n",
    "    categorical_variables = getCategorical(X_train, data)\n",
    "    \n",
    "    # use tranformer function to create the transformer\n",
    "    transformer_rf = transformer(categorical_variables)\n",
    "    \n",
    "    # use transformData function\n",
    "    X_train_encoded_rf, X_test_encoded_rf = transformData(X_train, X_test, transformer_rf)\n",
    "\n",
    "    # renaming the columns for readability\n",
    "    X_train_encoded_rf, X_test_encoded_rf = renameCol(categorical_variables, X_train_encoded_rf, X_test_encoded_rf)\n",
    "\n",
    "    return [X_train_encoded_rf, X_test_encoded_rf, transformer_rf]"
   ]
  },
  {
   "cell_type": "markdown",
   "metadata": {},
   "source": [
    "## Random Forest Classifier"
   ]
  },
  {
   "cell_type": "code",
   "execution_count": 115,
   "metadata": {},
   "outputs": [],
   "source": [
    "# unpacking values\n",
    "X_train_encoded_rf, X_test_encoded_rf, transformer_rf = preprocess(X_train, X_test, df)"
   ]
  },
  {
   "cell_type": "code",
   "execution_count": 116,
   "metadata": {},
   "outputs": [
    {
     "data": {
      "text/html": [
       "<style>#sk-container-id-5 {color: black;}#sk-container-id-5 pre{padding: 0;}#sk-container-id-5 div.sk-toggleable {background-color: white;}#sk-container-id-5 label.sk-toggleable__label {cursor: pointer;display: block;width: 100%;margin-bottom: 0;padding: 0.3em;box-sizing: border-box;text-align: center;}#sk-container-id-5 label.sk-toggleable__label-arrow:before {content: \"▸\";float: left;margin-right: 0.25em;color: #696969;}#sk-container-id-5 label.sk-toggleable__label-arrow:hover:before {color: black;}#sk-container-id-5 div.sk-estimator:hover label.sk-toggleable__label-arrow:before {color: black;}#sk-container-id-5 div.sk-toggleable__content {max-height: 0;max-width: 0;overflow: hidden;text-align: left;background-color: #f0f8ff;}#sk-container-id-5 div.sk-toggleable__content pre {margin: 0.2em;color: black;border-radius: 0.25em;background-color: #f0f8ff;}#sk-container-id-5 input.sk-toggleable__control:checked~div.sk-toggleable__content {max-height: 200px;max-width: 100%;overflow: auto;}#sk-container-id-5 input.sk-toggleable__control:checked~label.sk-toggleable__label-arrow:before {content: \"▾\";}#sk-container-id-5 div.sk-estimator input.sk-toggleable__control:checked~label.sk-toggleable__label {background-color: #d4ebff;}#sk-container-id-5 div.sk-label input.sk-toggleable__control:checked~label.sk-toggleable__label {background-color: #d4ebff;}#sk-container-id-5 input.sk-hidden--visually {border: 0;clip: rect(1px 1px 1px 1px);clip: rect(1px, 1px, 1px, 1px);height: 1px;margin: -1px;overflow: hidden;padding: 0;position: absolute;width: 1px;}#sk-container-id-5 div.sk-estimator {font-family: monospace;background-color: #f0f8ff;border: 1px dotted black;border-radius: 0.25em;box-sizing: border-box;margin-bottom: 0.5em;}#sk-container-id-5 div.sk-estimator:hover {background-color: #d4ebff;}#sk-container-id-5 div.sk-parallel-item::after {content: \"\";width: 100%;border-bottom: 1px solid gray;flex-grow: 1;}#sk-container-id-5 div.sk-label:hover label.sk-toggleable__label {background-color: #d4ebff;}#sk-container-id-5 div.sk-serial::before {content: \"\";position: absolute;border-left: 1px solid gray;box-sizing: border-box;top: 0;bottom: 0;left: 50%;z-index: 0;}#sk-container-id-5 div.sk-serial {display: flex;flex-direction: column;align-items: center;background-color: white;padding-right: 0.2em;padding-left: 0.2em;position: relative;}#sk-container-id-5 div.sk-item {position: relative;z-index: 1;}#sk-container-id-5 div.sk-parallel {display: flex;align-items: stretch;justify-content: center;background-color: white;position: relative;}#sk-container-id-5 div.sk-item::before, #sk-container-id-5 div.sk-parallel-item::before {content: \"\";position: absolute;border-left: 1px solid gray;box-sizing: border-box;top: 0;bottom: 0;left: 50%;z-index: -1;}#sk-container-id-5 div.sk-parallel-item {display: flex;flex-direction: column;z-index: 1;position: relative;background-color: white;}#sk-container-id-5 div.sk-parallel-item:first-child::after {align-self: flex-end;width: 50%;}#sk-container-id-5 div.sk-parallel-item:last-child::after {align-self: flex-start;width: 50%;}#sk-container-id-5 div.sk-parallel-item:only-child::after {width: 0;}#sk-container-id-5 div.sk-dashed-wrapped {border: 1px dashed gray;margin: 0 0.4em 0.5em 0.4em;box-sizing: border-box;padding-bottom: 0.4em;background-color: white;}#sk-container-id-5 div.sk-label label {font-family: monospace;font-weight: bold;display: inline-block;line-height: 1.2em;}#sk-container-id-5 div.sk-label-container {text-align: center;}#sk-container-id-5 div.sk-container {/* jupyter's `normalize.less` sets `[hidden] { display: none; }` but bootstrap.min.css set `[hidden] { display: none !important; }` so we also need the `!important` here to be able to override the default hidden behavior on the sphinx rendered scikit-learn.org. See: https://github.com/scikit-learn/scikit-learn/issues/21755 */display: inline-block !important;position: relative;}#sk-container-id-5 div.sk-text-repr-fallback {display: none;}</style><div id=\"sk-container-id-5\" class=\"sk-top-container\"><div class=\"sk-text-repr-fallback\"><pre>RandomForestClassifier(class_weight=&#x27;balanced&#x27;, criterion=&#x27;entropy&#x27;,\n",
       "                       max_depth=15, min_samples_leaf=2, min_samples_split=5,\n",
       "                       n_estimators=700, random_state=100)</pre><b>In a Jupyter environment, please rerun this cell to show the HTML representation or trust the notebook. <br />On GitHub, the HTML representation is unable to render, please try loading this page with nbviewer.org.</b></div><div class=\"sk-container\" hidden><div class=\"sk-item\"><div class=\"sk-estimator sk-toggleable\"><input class=\"sk-toggleable__control sk-hidden--visually\" id=\"sk-estimator-id-5\" type=\"checkbox\" checked><label for=\"sk-estimator-id-5\" class=\"sk-toggleable__label sk-toggleable__label-arrow\">RandomForestClassifier</label><div class=\"sk-toggleable__content\"><pre>RandomForestClassifier(class_weight=&#x27;balanced&#x27;, criterion=&#x27;entropy&#x27;,\n",
       "                       max_depth=15, min_samples_leaf=2, min_samples_split=5,\n",
       "                       n_estimators=700, random_state=100)</pre></div></div></div></div></div>"
      ],
      "text/plain": [
       "RandomForestClassifier(class_weight='balanced', criterion='entropy',\n",
       "                       max_depth=15, min_samples_leaf=2, min_samples_split=5,\n",
       "                       n_estimators=700, random_state=100)"
      ]
     },
     "execution_count": 116,
     "metadata": {},
     "output_type": "execute_result"
    }
   ],
   "source": [
    "clf = RandomForestClassifier(criterion = 'entropy', \n",
    "                            max_depth = 15, \n",
    "                            min_samples_leaf = 2, \n",
    "                            min_samples_split = 5, \n",
    "                            n_estimators = 700,\n",
    "                            class_weight = 'balanced', \n",
    "                            random_state = 100)\n",
    "\n",
    "clf.fit(X_train_encoded_rf, y_train)"
   ]
  },
  {
   "cell_type": "markdown",
   "metadata": {},
   "source": [
    "## Recommender Function"
   ]
  },
  {
   "cell_type": "code",
   "execution_count": 117,
   "metadata": {},
   "outputs": [],
   "source": [
    "# define a function to get user inputs for recommendation\n",
    "\n",
    "def get_inputs():\n",
    "\n",
    "    body_options = ['Full', 'Light', 'Medium', 'Very full', 'Very light']\n",
    "    acidity_options = ['High', 'Low', 'Medium']\n",
    "    country_options = ['Argentina', 'Australia', 'Austria', 'Brazil', 'Bulgaria', 'Canada', 'Chile', 'Croatia', 'Czech Republic', 'France', 'Georgia', 'Germany', 'Greece', 'Hungary', 'Israel', 'Italy', 'Mexico', 'Moldova', 'New Zealand', 'Portugal', 'Romania', 'Russia', 'South Africa', 'Spain', 'Switzerland', 'United States', 'Uruguay']\n",
    "    harmonize_options = ['White Meat', 'Red Meat', 'Game Meat', 'Vegetarian', 'Spicy Food', 'Seafood', 'Dessert', 'Cheese', 'Cured Meat', 'Snacks', 'Appetizer', 'Italian', 'Others']\n",
    "\n",
    "    while True:\n",
    "        body = input(f'Enter the body of the wine you want. You have the following choices: {\", \".join(body_options)}.')\n",
    "        body = body.capitalize()\n",
    "        if body in body_options:\n",
    "            break\n",
    "\n",
    "    while True:\n",
    "        acidity = input(f'Enter the acidity level of the wine you want. You have the following choices: {\", \".join(acidity_options)}.')\n",
    "        acidity = acidity.title()\n",
    "        if acidity in acidity_options:\n",
    "            break\n",
    "\n",
    "    while True:\n",
    "        country = input(f'Enter the country you want your wine from. You have the following choices: {\", \".join(country_options)}.')\n",
    "        country = country.title()\n",
    "        if country in country_options:\n",
    "            break\n",
    "\n",
    "    while True:\n",
    "        try:\n",
    "            grapes = int(input('Enter the number of grapes you want in your wine. More grapes means the taste of the wine may be more complex.'))\n",
    "            break\n",
    "        except ValueError:\n",
    "            pass\n",
    "\n",
    "    while True:\n",
    "        try:\n",
    "            abv = float(input('Enter the desired alcohol percentage of your wine.'))\n",
    "            break\n",
    "        except ValueError:\n",
    "            pass\n",
    "\n",
    "    while True:\n",
    "        harmonize = input(f'Enter the type of food(s) you want your wine to pair with. You have the following choices: {\", \".join(harmonize_options)}.')\n",
    "        harmonize = harmonize.split(', ')\n",
    "        harmonize = [word.title() for word in harmonize]\n",
    "        \n",
    "        for food in harmonize:\n",
    "            if food not in harmonize_options:\n",
    "                break\n",
    "        else:\n",
    "            break\n",
    "\n",
    "    body = 'Body_' + body\n",
    "    acidity = 'Acidity_' + acidity \n",
    "    country = 'Country_' + country\n",
    "    harmonize = ['Harmonize_' + word for word in harmonize]\n",
    "\n",
    "    return body, acidity, country, grapes, abv, harmonize\n"
   ]
  },
  {
   "cell_type": "code",
   "execution_count": 118,
   "metadata": {},
   "outputs": [],
   "source": [
    "# define a function to get average ratings of wines\n",
    "def get_avg_ratings():\n",
    "    \n",
    "    # importing ratings dataset\n",
    "    ratings = pd.read_csv('XWines_Full_21M_ratings.csv')\n",
    "    \n",
    "    # calculating average ratings\n",
    "    avg_ratings = ratings.groupby('WineID')['Rating'].mean().to_frame('Avg_Ratings').reset_index()\n",
    "    avg_ratings['Avg_Ratings'] = avg_ratings['Avg_Ratings'].round(2)\n",
    "\n",
    "    return avg_ratings"
   ]
  },
  {
   "cell_type": "code",
   "execution_count": 123,
   "metadata": {},
   "outputs": [],
   "source": [
    "# define a function to give the user their recommendation\n",
    "def get_recommendations(clf = clf, catalogue = catalogue):\n",
    "    \n",
    "    # using get_inputs function to get inputs to use in the model\n",
    "    body, acidity, country, grapes, abv, harmonize = get_inputs()\n",
    "\n",
    "    dict_1 = {\n",
    "        body: 1,\n",
    "        acidity: 1,\n",
    "        country: 1,\n",
    "        'ABV': abv,\n",
    "        'Grapes': grapes\n",
    "    }\n",
    "\n",
    "    dict_2 = {key: 1 for key in harmonize}\n",
    "\n",
    "    input_dict = {** dict_1, ** dict_2}\n",
    "\n",
    "    # Convert the input dictionary to a pandas DataFrame\n",
    "    input_data = pd.DataFrame.from_dict(input_dict, orient='index').T\n",
    "\n",
    "    # Get the columns from training_data\n",
    "    columns = X_train_encoded_rf.columns\n",
    "\n",
    "    # Reindex input_data with the columns from training_data\n",
    "    input_data = input_data.reindex(columns, axis=1)\n",
    "\n",
    "    # Fill in the missing columns with a value of 0\n",
    "    input_data = input_data.fillna(0)\n",
    "\n",
    "    # Generating prediction\n",
    "    predict = clf.predict(input_data)[0]\n",
    "\n",
    "    # getting average ratings of wines\n",
    "    avg_ratings = get_avg_ratings()\n",
    "\n",
    "    # combining with catalogue\n",
    "    combined = pd.merge(catalogue, avg_ratings, how = 'inner', on = 'WineID')\n",
    "\n",
    "    # getting the list of food for filtering\n",
    "    harmonize_list = [string.replace('Harmonize_', '') for string in harmonize]\n",
    "\n",
    "    # subseting dataset to get only predicted wine type\n",
    "    recommendations = combined[(combined['Type'] == predict)]\n",
    "    \n",
    "    # filtering the ABV to 1 sd above and below the user input for more personalisation\n",
    "    sd = recommendations['ABV'].std()\n",
    "    upper_bound = abv + sd\n",
    "    lower_bound = abv - sd\n",
    "\n",
    "    # getting country input from user\n",
    "    country = country.replace('Country_', '')\n",
    "\n",
    "    # filtering the combined data to match either food type in the harmonize_list, if there are more than 1, as well as abv\n",
    "    # recommendations will only contain country that user input\n",
    "    # if there are lesser than 3, remaining will be filled in with recommendations from other countries\n",
    "    # Output top 3 wines based on average rating\n",
    "    recommendations = recommendations[recommendations['ABV'].between(lower_bound, upper_bound, inclusive = 'both')]\n",
    "    recommendations = recommendations[recommendations['Harmonize'].str.contains('|'.join(harmonize_list))].sort_values(by = 'Avg_Ratings', ascending = False).reset_index(drop = True)\n",
    "    recommendations1 = recommendations.copy()\n",
    "    recommendations1 = recommendations1[recommendations1['Country'] == country].head(3)\n",
    "\n",
    "    print(f'Based on your preferences, the recommended type of wine is {predict} wine.')\n",
    "    \n",
    "    if recommendations1.empty:\n",
    "        print(f'There are unfortunately no {predict} wines from {country} in our catalogue. Here are the top 3 {predict} wines with the highest ratings that you can try instead!')\n",
    "        return recommendations.head(3)\n",
    "    \n",
    "    elif len(recommendations1) == 1:\n",
    "        additional_rows = recommendations[~recommendations['WineID'].isin(recommendations1['WineID'])].head(2)\n",
    "        recommendations1 = pd.concat([recommendations1, additional_rows], axis = 0)\n",
    "        recommendations1 = recommendations1.sort_values(by = 'Avg_Ratings', ascending = False).reset_index(drop = True)\n",
    "        print(f'There is only 1 {predict} wine from {country}. Here are 2 other {predict} wines that you can try!')\n",
    "\n",
    "        return recommendations1\n",
    "    \n",
    "    elif len(recommendations1) == 2:\n",
    "        additional_rows = recommendations[~recommendations['WineID'].isin(recommendations1['WineID'])].head(1)\n",
    "        recommendations1 = pd.concat([recommendations1, additional_rows], axis = 0)\n",
    "        recommendations1 = recommendations1.sort_values(by = 'Avg_Ratings', ascending = False).reset_index(drop = True)\n",
    "        print(f'There are only 2 {predict} wines from {country}. Here is 1 other {predict} wine that you can try!')\n",
    "\n",
    "        return recommendations1\n",
    "    \n",
    "    else:\n",
    "        print(f'Here are the top 3 highly rated {predict} wines from {country} that you can try!')\n",
    "        return recommendations1.reset_index(drop = True)"
   ]
  },
  {
   "cell_type": "code",
   "execution_count": 125,
   "metadata": {},
   "outputs": [
    {
     "name": "stdout",
     "output_type": "stream",
     "text": [
      "Based on your preferences, the recommended type of wine is Red wine.\n",
      "There are unfortunately no wines from Greece in our catalogue. Here are the top 3 Red wines with the highest ratings that you can try instead!\n"
     ]
    },
    {
     "data": {
      "text/html": [
       "<div>\n",
       "<style scoped>\n",
       "    .dataframe tbody tr th:only-of-type {\n",
       "        vertical-align: middle;\n",
       "    }\n",
       "\n",
       "    .dataframe tbody tr th {\n",
       "        vertical-align: top;\n",
       "    }\n",
       "\n",
       "    .dataframe thead th {\n",
       "        text-align: right;\n",
       "    }\n",
       "</style>\n",
       "<table border=\"1\" class=\"dataframe\">\n",
       "  <thead>\n",
       "    <tr style=\"text-align: right;\">\n",
       "      <th></th>\n",
       "      <th>WineID</th>\n",
       "      <th>WineName</th>\n",
       "      <th>Type</th>\n",
       "      <th>Elaborate</th>\n",
       "      <th>Grapes</th>\n",
       "      <th>Harmonize</th>\n",
       "      <th>ABV</th>\n",
       "      <th>Body</th>\n",
       "      <th>Acidity</th>\n",
       "      <th>Code</th>\n",
       "      <th>Country</th>\n",
       "      <th>RegionID</th>\n",
       "      <th>RegionName</th>\n",
       "      <th>WineryID</th>\n",
       "      <th>WineryName</th>\n",
       "      <th>Website</th>\n",
       "      <th>Vintages</th>\n",
       "      <th>Avg_Ratings</th>\n",
       "    </tr>\n",
       "  </thead>\n",
       "  <tbody>\n",
       "    <tr>\n",
       "      <th>0</th>\n",
       "      <td>166737</td>\n",
       "      <td>Private Reserve Syrah</td>\n",
       "      <td>Red</td>\n",
       "      <td>Varietal/100%</td>\n",
       "      <td>1</td>\n",
       "      <td>Game Meat, Red Meat, White Meat</td>\n",
       "      <td>11.5</td>\n",
       "      <td>Full</td>\n",
       "      <td>High</td>\n",
       "      <td>CL</td>\n",
       "      <td>Chile</td>\n",
       "      <td>2269</td>\n",
       "      <td>Curico Valley</td>\n",
       "      <td>39952</td>\n",
       "      <td>Galan Vineyards-Vitivinicola Siete Tazas</td>\n",
       "      <td>http://viñagalan.cl</td>\n",
       "      <td>2019, 2018, 2017, 2016, 2015, 2014, 2013, 2012...</td>\n",
       "      <td>4.70</td>\n",
       "    </tr>\n",
       "    <tr>\n",
       "      <th>1</th>\n",
       "      <td>175479</td>\n",
       "      <td>Eduard Old Vine Shiraz</td>\n",
       "      <td>Red</td>\n",
       "      <td>Varietal/100%</td>\n",
       "      <td>1</td>\n",
       "      <td>Game Meat, Red Meat, White Meat</td>\n",
       "      <td>11.5</td>\n",
       "      <td>Very full</td>\n",
       "      <td>High</td>\n",
       "      <td>AU</td>\n",
       "      <td>Australia</td>\n",
       "      <td>2097</td>\n",
       "      <td>Barossa Valley</td>\n",
       "      <td>62956</td>\n",
       "      <td>Kalleske</td>\n",
       "      <td>http://www.kalleske.com</td>\n",
       "      <td>2020, 2019, 2018, 2017, 2016, 2015, 2014, 2013...</td>\n",
       "      <td>4.36</td>\n",
       "    </tr>\n",
       "    <tr>\n",
       "      <th>2</th>\n",
       "      <td>103547</td>\n",
       "      <td>Collares Tinto</td>\n",
       "      <td>Red</td>\n",
       "      <td>Varietal/100%</td>\n",
       "      <td>1</td>\n",
       "      <td>Red Meat, White Meat, Italian</td>\n",
       "      <td>11.8</td>\n",
       "      <td>Full</td>\n",
       "      <td>High</td>\n",
       "      <td>PT</td>\n",
       "      <td>Portugal</td>\n",
       "      <td>1051</td>\n",
       "      <td>Colares</td>\n",
       "      <td>12790</td>\n",
       "      <td>Viúva Gomes</td>\n",
       "      <td>http://www.adegaviuvagomes.com</td>\n",
       "      <td>2019, 2018, 2017, 2016, 2015, 2014, 2013, 2012...</td>\n",
       "      <td>4.36</td>\n",
       "    </tr>\n",
       "  </tbody>\n",
       "</table>\n",
       "</div>"
      ],
      "text/plain": [
       "   WineID                WineName Type      Elaborate  Grapes  \\\n",
       "0  166737   Private Reserve Syrah  Red  Varietal/100%       1   \n",
       "1  175479  Eduard Old Vine Shiraz  Red  Varietal/100%       1   \n",
       "2  103547          Collares Tinto  Red  Varietal/100%       1   \n",
       "\n",
       "                         Harmonize   ABV       Body Acidity Code    Country  \\\n",
       "0  Game Meat, Red Meat, White Meat  11.5       Full    High   CL      Chile   \n",
       "1  Game Meat, Red Meat, White Meat  11.5  Very full    High   AU  Australia   \n",
       "2    Red Meat, White Meat, Italian  11.8       Full    High   PT   Portugal   \n",
       "\n",
       "   RegionID      RegionName  WineryID  \\\n",
       "0      2269   Curico Valley     39952   \n",
       "1      2097  Barossa Valley     62956   \n",
       "2      1051         Colares     12790   \n",
       "\n",
       "                                 WineryName                         Website  \\\n",
       "0  Galan Vineyards-Vitivinicola Siete Tazas             http://viñagalan.cl   \n",
       "1                                  Kalleske         http://www.kalleske.com   \n",
       "2                               Viúva Gomes  http://www.adegaviuvagomes.com   \n",
       "\n",
       "                                            Vintages  Avg_Ratings  \n",
       "0  2019, 2018, 2017, 2016, 2015, 2014, 2013, 2012...         4.70  \n",
       "1  2020, 2019, 2018, 2017, 2016, 2015, 2014, 2013...         4.36  \n",
       "2  2019, 2018, 2017, 2016, 2015, 2014, 2013, 2012...         4.36  "
      ]
     },
     "execution_count": 125,
     "metadata": {},
     "output_type": "execute_result"
    }
   ],
   "source": [
    "# getting recommendations\n",
    "get_recommendations()"
   ]
  }
 ],
 "metadata": {
  "kernelspec": {
   "display_name": "Python 3",
   "language": "python",
   "name": "python3"
  },
  "language_info": {
   "codemirror_mode": {
    "name": "ipython",
    "version": 3
   },
   "file_extension": ".py",
   "mimetype": "text/x-python",
   "name": "python",
   "nbconvert_exporter": "python",
   "pygments_lexer": "ipython3",
   "version": "3.12.0"
  }
 },
 "nbformat": 4,
 "nbformat_minor": 2
}
