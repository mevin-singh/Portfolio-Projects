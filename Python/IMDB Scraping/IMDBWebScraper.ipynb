{
 "cells": [
  {
   "cell_type": "markdown",
   "id": "c2a1d583-1d6a-4118-9ec1-49aa66cc4638",
   "metadata": {},
   "source": [
    "### Importing Relevant packages"
   ]
  },
  {
   "cell_type": "code",
   "execution_count": 28,
   "id": "8a90c1d7-d197-476a-9686-1084916b34de",
   "metadata": {},
   "outputs": [],
   "source": [
    "from bs4 import BeautifulSoup\n",
    "import requests\n",
    "import openpyxl\n",
    "import pandas as pd"
   ]
  },
  {
   "cell_type": "markdown",
   "id": "d4b307fa",
   "metadata": {},
   "source": [
    "### Creating an Excel file"
   ]
  },
  {
   "cell_type": "code",
   "execution_count": 25,
   "id": "02affcfb",
   "metadata": {},
   "outputs": [],
   "source": [
    "excel = openpyxl.Workbook()\n",
    "sheet = excel.active\n",
    "sheet.title = 'IMDB Top 250 Rated Movies'\n",
    "sheet.append(['Movie Name', 'Rating', 'Year of Release', 'Movie Ranking'])"
   ]
  },
  {
   "cell_type": "markdown",
   "id": "a77bca74-5ca5-42f9-aaad-1b91b9e25e16",
   "metadata": {},
   "source": [
    "### Downloading IMDB Top 250 movies"
   ]
  },
  {
   "cell_type": "code",
   "execution_count": 13,
   "id": "7851dd26-5cc3-4678-8cd7-ad5adf5ad4e7",
   "metadata": {},
   "outputs": [],
   "source": [
    "url = 'https://www.imdb.com/chart/top'\n",
    "response = requests.get(url)\n",
    "\n",
    "# Getting status of connection\n",
    "response.raise_for_status()"
   ]
  },
  {
   "cell_type": "code",
   "execution_count": 14,
   "id": "c6c1ee10",
   "metadata": {},
   "outputs": [],
   "source": [
    "headers = {\"User-Agent\": \"Mozilla/5.0 (Macintosh; Intel Mac OS X 10_15_7) AppleWebKit/537.36 (KHTML, like Gecko) Chrome/101.0.4951.64 Safari/537.36\", \"X-Amzn-Trace-Id\": \"Root=1-6295ea76-5777702d5e16afa96ae08d37\"}\n",
    "soup = BeautifulSoup(response.text, \"html.parser\")"
   ]
  },
  {
   "cell_type": "code",
   "execution_count": 18,
   "id": "ef53fa49",
   "metadata": {},
   "outputs": [
    {
     "name": "stdout",
     "output_type": "stream",
     "text": [
      "250\n"
     ]
    }
   ],
   "source": [
    "movies = soup.find('tbody', class_ = 'lister-list').find_all('tr')\n",
    "\n",
    "# Checking to see if I get 250 items \n",
    "print(len(movies))"
   ]
  },
  {
   "cell_type": "code",
   "execution_count": 26,
   "id": "23af419e",
   "metadata": {},
   "outputs": [],
   "source": [
    "# Iterating through to get the movie details\n",
    "for movie in movies:\n",
    "    \n",
    "    name = movie.find('td', class_ = 'titleColumn').a.text\n",
    "    rank = movie.find('td', class_ = 'titleColumn').get_text(strip = True).split('.')[0]\n",
    "    year = movie.find('td', class_ = 'titleColumn').span.text.strip('()')\n",
    "    rating = movie.find('td', class_= 'ratingColumn imdbRating').strong.text\n",
    "\n",
    "    # Appending to excel file created above\n",
    "    sheet.append([name, rating, year, rank])\n",
    "    \n"
   ]
  },
  {
   "cell_type": "markdown",
   "id": "13efad49",
   "metadata": {},
   "source": [
    "### Saving Excel file"
   ]
  },
  {
   "cell_type": "code",
   "execution_count": 27,
   "id": "1d788fd9",
   "metadata": {},
   "outputs": [],
   "source": [
    "excel.save('IMDB Top 250 Rated movies.xlsx')"
   ]
  },
  {
   "cell_type": "markdown",
   "id": "2b5feb14",
   "metadata": {},
   "source": [
    "### Alternative Method: Saving results to a DataFrame"
   ]
  },
  {
   "cell_type": "code",
   "execution_count": 29,
   "id": "db7a8f37",
   "metadata": {},
   "outputs": [],
   "source": [
    "# Iterating through to get the movie details\n",
    "names = []\n",
    "ranks = []\n",
    "years = []\n",
    "ratings = []\n",
    "\n",
    "for movie in movies:\n",
    "    \n",
    "    name = movie.find('td', class_ = 'titleColumn').a.text\n",
    "    names.append(name)\n",
    "\n",
    "    rank = movie.find('td', class_ = 'titleColumn').get_text(strip = True).split('.')[0]\n",
    "    ranks.append(rank)\n",
    "\n",
    "    year = movie.find('td', class_ = 'titleColumn').span.text.strip('()')\n",
    "    years.append(year)\n",
    "\n",
    "    rating = movie.find('td', class_= 'ratingColumn imdbRating').strong.text\n",
    "    ratings.append(rating)\n",
    "\n",
    "    "
   ]
  },
  {
   "cell_type": "code",
   "execution_count": 33,
   "id": "c63c798a",
   "metadata": {},
   "outputs": [],
   "source": [
    "# Creating an empty DataFrame\n",
    "data = pd.DataFrame()\n",
    "\n",
    "data['Movie Name'] = names\n",
    "data['Rating'] = ratings\n",
    "data['Year of Release'] = years\n",
    "data['Ranking'] = ranks"
   ]
  },
  {
   "cell_type": "code",
   "execution_count": 34,
   "id": "5373c843",
   "metadata": {},
   "outputs": [],
   "source": [
    "# Saving DataFrame to csv\n",
    "data.to_csv('IMDB Top 250 Rated movies.csv')"
   ]
  }
 ],
 "metadata": {
  "interpreter": {
   "hash": "aee8b7b246df8f9039afb4144a1f6fd8d2ca17a180786b69acc140d282b71a49"
  },
  "kernelspec": {
   "display_name": "Python 3.9.5 64-bit",
   "language": "python",
   "name": "python3"
  },
  "language_info": {
   "codemirror_mode": {
    "name": "ipython",
    "version": 3
   },
   "file_extension": ".py",
   "mimetype": "text/x-python",
   "name": "python",
   "nbconvert_exporter": "python",
   "pygments_lexer": "ipython3",
   "version": "3.9.5"
  }
 },
 "nbformat": 4,
 "nbformat_minor": 5
}
